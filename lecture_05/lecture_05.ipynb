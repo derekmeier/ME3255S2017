{
 "cells": [
  {
   "cell_type": "code",
   "execution_count": 1,
   "metadata": {
    "collapsed": true
   },
   "outputs": [],
   "source": [
    "%plot --format svg"
   ]
  },
  {
   "cell_type": "markdown",
   "metadata": {},
   "source": [
    "## Questions from last class"
   ]
  },
  {
   "cell_type": "markdown",
   "metadata": {},
   "source": [
    "When you execute the given function \n",
    "\n",
    "my_function.m:\n",
    "\n",
    "```matlab\n",
    "function [x,y] = my_function(max_time)\n",
    "    N=100;\n",
    "    t=linspace(0,max_time,N);\n",
    "    x=t.^2;\n",
    "    y=2*t;\n",
    "end\n",
    "```\n",
    "\n",
    "as \n",
    "\n",
    "```>> [x,y] = my_function(20);```\n",
    "\n",
    "What variables are saved to your workspace?\n",
    "\n",
    "![responses](q1.png)"
   ]
  },
  {
   "cell_type": "markdown",
   "metadata": {},
   "source": [
    "How do you write a help description for a function?\n",
    "\n",
    "![responses to question 2](q2.png)"
   ]
  },
  {
   "cell_type": "markdown",
   "metadata": {},
   "source": [
    " \n",
    "How to keep our forked ME3255S page up to date with the original\n",
    "pretty tired this morning\n",
    "\n",
    "How do I use the Github Desktop?\n",
    "\n",
    "whats your favorite football team?\n",
    "\n",
    "Will UConn's github get updated to the newest version of github?\n",
    "As u said in class trail and error is the best way of learning.\n",
    "\n",
    "I believe the % is the same as matlab where it de-links your code into text\n",
    "\n",
    "Does the @ symbol designate a pointer? \n",
    "\n",
    "Given the change of air pressure as altitude increases, how fast would a frisbee have to travel (and spin) to hit an airplane?\n",
    "\n",
    "What is a gui?\n",
    "\n",
    "\n",
    "could you go over a nested for loop example\n",
    "\n",
    "Can't seem to get this function to produce any graph and am not sure why\n",
    "\n",
    "When are these google forms due?\n",
    "\n",
    "how do I create a new function using Github on my desktop?\n",
    "\n",
    "Can you explain the first question more in class?\n",
    "\n",
    "What is the meaning of life?\n",
    "\n",
    "Should I just know how or what these topics are or will we learn them in the future?\n"
   ]
  },
  {
   "cell_type": "code",
   "execution_count": 2,
   "metadata": {
    "collapsed": false
   },
   "outputs": [
    {
     "name": "stdout",
     "output_type": "stream",
     "text": [
      "f = \n",
      "\n",
      "    @(x)x.^2\n"
     ]
    }
   ],
   "source": [
    "f =@(x) x.^2\n",
    "\n"
   ]
  },
  {
   "cell_type": "code",
   "execution_count": 3,
   "metadata": {
    "collapsed": false
   },
   "outputs": [
    {
     "name": "stdout",
     "output_type": "stream",
     "text": [
      "ans =\n",
      "\n",
      "     1     9    25    49    81\n",
      "\n",
      "\n",
      "ans =\n",
      "\n",
      "    16\n"
     ]
    }
   ],
   "source": [
    "f([1:2:10])\n",
    "f(4)"
   ]
  },
  {
   "cell_type": "code",
   "execution_count": 4,
   "metadata": {
    "collapsed": false
   },
   "outputs": [
    {
     "name": "stdout",
     "output_type": "stream",
     "text": [
      "i=1 and j=1\n",
      "i=1 and j=2\n",
      "i=1 and j=3\n",
      "i=2 and j=1\n",
      "i=2 and j=2\n",
      "i=2 and j=3\n",
      "i=3 and j=1\n",
      "i=3 and j=2\n",
      "i=3 and j=3\n",
      "i=4 and j=1\n",
      "i=4 and j=2\n",
      "i=4 and j=3\n",
      "i=5 and j=1\n",
      "i=5 and j=2\n",
      "i=5 and j=3\n",
      "i=6 and j=1\n",
      "i=6 and j=2\n",
      "i=6 and j=3\n"
     ]
    }
   ],
   "source": [
    "% nested for loop example\n",
    "for i = [1:6]\n",
    "    for j = [1:3]\n",
    "        fprintf('i=%i and j=%i\\n',i,j)\n",
    "    end\n",
    "end\n",
    "        "
   ]
  },
  {
   "cell_type": "markdown",
   "metadata": {},
   "source": [
    "# From last class "
   ]
  },
  {
   "cell_type": "code",
   "execution_count": 5,
   "metadata": {
    "collapsed": false
   },
   "outputs": [
    {
     "name": "stdout",
     "output_type": "stream",
     "text": [
      "Help documentation of \"my_function\"\n",
      "  This function computes the velocity in the x- and y-directions given\n",
      "  three vectors of position in x- and y-directions as a function of time\n",
      "  x = x-position\n",
      "  y = y-position\n",
      "  t = time\n",
      "  output\n",
      "  vx = velocity in x-direction\n",
      "  vy = velocity in y-direction\n"
     ]
    }
   ],
   "source": [
    "help my_function"
   ]
  },
  {
   "cell_type": "code",
   "execution_count": 6,
   "metadata": {
    "collapsed": false
   },
   "outputs": [
    {
     "name": "stdout",
     "output_type": "stream",
     "text": [
      "Help documentation of \"my_caller\"\n",
      "  This function computes the acceleration in the x- and y-directions given\n",
      "  three vectors of position in x- and y-directions as a function of time\n",
      "  x = x-position\n",
      "  y = y-position\n",
      "  t = time\n",
      "  output\n",
      "  ax = acceleration in x-direction\n",
      "  ay = acceleration in y-direction\n"
     ]
    }
   ],
   "source": [
    "help my_caller"
   ]
  },
  {
   "cell_type": "code",
   "execution_count": 7,
   "metadata": {
    "collapsed": false
   },
   "outputs": [
    {
     "data": {
      "image/png": "[encoded data removed]",
      "text/plain": [
       "<IPython.core.display.Image object>"
      ]
     },
     "metadata": {},
     "output_type": "display_data"
    }
   ],
   "source": [
    "t=linspace(0,10,100)'; \n",
    "x=t.^3; % vx = 3*t^2\n",
    "y=t.^2/2;  % vy = t\n",
    "[vx,vy]=my_function(x,y,t);\n",
    "[ax,ay]=my_caller(x,y,t);\n",
    "yyaxis left\n",
    "plot(t(1:10:end),ax(1:10:end),'o',t,6*t)\n",
    "ylabel('a_{x}')\n",
    "yyaxis right\n",
    "plot(t(1:10:end),ay(1:10:end),'s',t, 1*t./t)\n",
    "ylabel('a_{y}')\n",
    "xlabel('time')\n",
    "axis([0,10,0,3])"
   ]
  },
  {
   "cell_type": "code",
   "execution_count": 8,
   "metadata": {
    "collapsed": false
   },
   "outputs": [
    {
     "name": "stderr",
     "output_type": "stream",
     "text": [
      "\u001b[0;31mUndefined function 'diff_match_dims' for input arguments of type 'double'.\n",
      "\u001b[0m"
     ]
    }
   ],
   "source": [
    "diff_match_dims(x,t)"
   ]
  },
  {
   "cell_type": "markdown",
   "metadata": {},
   "source": [
    "# Good coding habits\n",
    "## naming folders and files"
   ]
  },
  {
   "cell_type": "markdown",
   "metadata": {},
   "source": [
    "[Stanford file naming best practices](https://library.stanford.edu/research/data-management-services/data-best-practices/best-practices-file-naming)\n",
    "\n",
    "1. Include information to distinguish file name e.g. project name, objective of function, name/initials, type of data, conditions, version of file, \n",
    "2. if using dates, use YYYYMMDD, so the computer organizes by year, then month, then day\n",
    "3. avoid special characters e.g. !, #, \\$, ...\n",
    "4. avoid using spaces if not necessary, some programs consider a space as a break in code use dashes `-` or underscores `_` or CamelCase"
   ]
  },
  {
   "cell_type": "markdown",
   "metadata": {},
   "source": [
    "## Commenting your code"
   ]
  },
  {
   "cell_type": "markdown",
   "metadata": {},
   "source": [
    "Its important to comment your code to mention what a variable's units are, what the function is supposed to do, etc. \n"
   ]
  },
  {
   "cell_type": "code",
   "execution_count": 9,
   "metadata": {
    "collapsed": false
   },
   "outputs": [
    {
     "name": "stderr",
     "output_type": "stream",
     "text": [
      "\u001b[0;31mError: Function definitions are not permitted in this context.\n",
      "\u001b[0m"
     ]
    }
   ],
   "source": [
    "function i=code(j)\n",
    "    % Example of bad variable names and bad function name\n",
    "    for w=1:j\n",
    "        i(w)=w;\n",
    "    end\n",
    "end"
   ]
  },
  {
   "cell_type": "code",
   "execution_count": 10,
   "metadata": {
    "collapsed": false
   },
   "outputs": [
    {
     "name": "stdout",
     "output_type": "stream",
     "text": [
      "code not found.\n",
      "\n",
      "Use the Help browser search field to search the documentation, or\n",
      "type \"help help\" for help command options, such as help for methods.\n"
     ]
    }
   ],
   "source": [
    "help code"
   ]
  },
  {
   "cell_type": "markdown",
   "metadata": {},
   "source": [
    "## Choose variable names that describe the variable"
   ]
  },
  {
   "cell_type": "code",
   "execution_count": 1,
   "metadata": {
    "collapsed": false
   },
   "outputs": [],
   "source": [
    "function count_vector=counting_function(max_value)\n",
    "    % Good variable names and better help documentation\n",
    "    % \n",
    "    % counting function creates a vector from 1 to max_value where each index, i, is \n",
    "    % stored in each vector spot\n",
    "    for i=1:max_value\n",
    "        count_vector(i)=i; % set each element in count_vector to i\n",
    "    end\n",
    "end      "
   ]
  },
  {
   "cell_type": "code",
   "execution_count": 2,
   "metadata": {
    "collapsed": false
   },
   "outputs": [
    {
     "name": "stdout",
     "output_type": "stream",
     "text": [
      "'counting_function' is a command-line function\n",
      "\n",
      " Good variable names and better help documentation\n",
      " \n",
      " counting function creates a vector from 1 to max_value where each index, i, is \n",
      " stored in each vector spot\n",
      "\n",
      "\n",
      "Additional help for built-in functions and operators is\n",
      "available in the online version of the manual.  Use the command\n",
      "'doc <topic>' to search the manual index.\n",
      "\n",
      "Help and information about Octave is also available on the WWW\n",
      "at http://www.octave.org and via the help@octave.org\n",
      "mailing list.\n"
     ]
    }
   ],
   "source": [
    "help counting_function"
   ]
  },
  {
   "cell_type": "markdown",
   "metadata": {
    "collapsed": true
   },
   "source": [
    "## Putting it all together"
   ]
  },
  {
   "cell_type": "markdown",
   "metadata": {},
   "source": [
    "1. Clone your homework_1 to your computer\n",
    "2. open Matlab (cli, jupyter or gui)\n",
    "3. Change working directory to homework_1 *e.g.* Windows:`cd('C:\\Users\\rcc02007\\Documents\\Github\\homework_1')`, Mac: `cd('/Users/rcc02007/Documents/Github/homework_1')`\n",
    "4. You have already created your first script `setdefaults.m` (if not see lecture_4)\n",
    "5. Run `>> setdefaults.m`\n",
    "6. Create a new m-file called nitrogen_pressure.m\n",
    "7. Create a function based upon the ideal gas law for nitrogen, Pv=RT\n",
    "    1. R=0.2968 kJ/(kg-K)\n",
    "    2. inputs to function are v (specific volume m^3/kg), and T, temperature (K)\n",
    "    3. output is P, pressure (kPa)\n",
    "8. Once the function works, commit the change to the repository (add a message, like 'added file nitrogen_pressure.m'\n",
    "9. After file is 'committed', 'push' the changes to your github account\n",
    "\n",
    "for the command-line git user, this is steps 8 and 9:\n",
    "1. `$ git add *`\n",
    "2. `$ git commit -m 'added file nitrogen_pressure.m'`\n",
    "3. `$ git push -u origin master\n",
    "    Username for 'https://github.uconn.edu':rcc02007 <enter>\n",
    "    Password for 'https://rcc02007@github.uconn.edu': `\n",
    "   "
   ]
  },
  {
   "cell_type": "markdown",
   "metadata": {
    "collapsed": true
   },
   "source": [
    "Now, use this function to plot the range of pressures that a pressure vessel would experience if it is 1000 gallons (3.79 m^3) with 10-20 kg of Nitrogen and temperatures range from -10 to 35 degrees C. \n",
    "\n",
    "```matlab\n",
    "v=0.379/linspace(50,20,10);\n",
    "T=273.15+linspace(-10,35,10);\n",
    "[v_grid,T_grid]=meshgrid(v,T);\n",
    "P = nitrogen_pressure(v,T);\n",
    "pcolor(v_grid,T_grid,P)\n",
    "```"
   ]
  },
  {
   "cell_type": "code",
   "execution_count": 13,
   "metadata": {
    "collapsed": false
   },
   "outputs": [
    {
     "data": {
      "image/png": "[encoded data removed]",
      "text/plain": [
       "<IPython.core.display.Image object>"
      ]
     },
     "metadata": {},
     "output_type": "display_data"
    }
   ],
   "source": [
    "setdefaults;\n",
    "v=3.79./linspace(10,20,10);\n",
    "T=273.15+linspace(-10,35,10);\n",
    "[v_grid,T_grid]=meshgrid(v,T);\n",
    "P = nitrogen_pressure(v_grid,T_grid);\n",
    "pcolor(v_grid,T_grid-273.15,P-100)\n",
    "xlabel('specific volume (m^3/kg)')\n",
    "ylabel('Temperature (C)')\n",
    "%zlabel('Pressure (kPa)')\n",
    "\n",
    "%colormap winter\n",
    "%colormap summer\n",
    "%colormap jet\n",
    "colorbar()"
   ]
  },
  {
   "cell_type": "code",
   "execution_count": null,
   "metadata": {
    "collapsed": true
   },
   "outputs": [],
   "source": []
  }
 ],
 "metadata": {
  "kernelspec": {
   "display_name": "Octave",
   "language": "octave",
   "name": "octave"
  },
  "language_info": {
   "file_extension": ".m",
   "help_links": [
    {
     "text": "MetaKernel Magics",
     "url": "https://github.com/calysto/metakernel/blob/master/metakernel/magics/README.md"
    }
   ],
   "mimetype": "text/x-octave",
   "name": "octave",
   "version": "0.19.14"
  }
 },
 "nbformat": 4,
 "nbformat_minor": 2
}
