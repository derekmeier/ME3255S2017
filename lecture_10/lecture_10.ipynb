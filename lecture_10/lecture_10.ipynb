{
 "cells": [
  {
   "cell_type": "code",
   "execution_count": 1,
   "metadata": {
    "collapsed": true
   },
   "outputs": [],
   "source": [
    "%plot --format svg"
   ]
  },
  {
   "cell_type": "code",
   "execution_count": 2,
   "metadata": {
    "collapsed": true
   },
   "outputs": [],
   "source": [
    "setdefaults"
   ]
  },
  {
   "cell_type": "markdown",
   "metadata": {},
   "source": [
    "# Gauss Elimination\n",
    "### Solving sets of equations with matrix operations\n",
    "\n",
    "The number of dimensions of a matrix indicate the degrees of freedom of the system you are solving. \n",
    "\n",
    "If you have a set of known output, $y_{1},~y_{2},~...y_{N}$ and a set of equations that\n",
    "relate unknown inputs, $x_{1},~x_{2},~...x_{N}$, then these can be written in a vector\n",
    "matrix format as:\n",
    "\n",
    "$y=Ax$\n",
    "\n",
    "Consider a problem with 2 DOF:\n",
    "\n",
    "$x_{1}+3x_{2}=1$\n",
    "\n",
    "$2x_{1}+x_{2}=1$\n",
    "\n",
    "$\\left[ \\begin{array}{cc}\n",
    "1 & 3 \\\\\n",
    "2 & 1 \\end{array} \\right]\n",
    "\\left[\\begin{array}{c} \n",
    "x_{1} \\\\ \n",
    "x_{2} \\end{array}\\right]=\n",
    "\\left[\\begin{array}{c} \n",
    "1 \\\\\n",
    "1\\end{array}\\right]$\n",
    "\n",
    "The solution for $x_{1}$ and $x_{2}$ is the intersection of two lines:"
   ]
  },
  {
   "cell_type": "code",
   "execution_count": 3,
   "metadata": {
    "collapsed": false
   },
   "outputs": [
    {
     "data": {
      "image/svg+xml": [
       "<svg height=\"420px\" viewBox=\"0 0 560 420\" width=\"560px\" xmlns=\"http://www.w3.org/2000/svg\" xmlns:xlink=\"http://www.w3.org/1999/xlink\">\n",
       "\n",
       "<title>Gnuplot</title>\n",
       "<desc>Produced by GNUPLOT 5.0 patchlevel 3 </desc>\n",
       "\n",
       "<g id=\"gnuplot_canvas\">\n",
       "\n",
       "<rect fill=\"none\" height=\"420\" width=\"560\" x=\"0\" y=\"0\"/>\n",
       "<defs>\n",
       "\n",
       "\t<circle id=\"gpDot\" r=\"0.5\" stroke-width=\"0.5\"/>\n",
       "\t<path d=\"M-1,0 h2 M0,-1 v2\" id=\"gpPt0\" stroke=\"currentColor\" stroke-width=\"0.222\"/>\n",
       "\t<path d=\"M-1,-1 L1,1 M1,-1 L-1,1\" id=\"gpPt1\" stroke=\"currentColor\" stroke-width=\"0.222\"/>\n",
       "\t<path d=\"M-1,0 L1,0 M0,-1 L0,1 M-1,-1 L1,1 M-1,1 L1,-1\" id=\"gpPt2\" stroke=\"currentColor\" stroke-width=\"0.222\"/>\n",
       "\t<rect height=\"2\" id=\"gpPt3\" stroke=\"currentColor\" stroke-width=\"0.222\" width=\"2\" x=\"-1\" y=\"-1\"/>\n",
       "\t<rect fill=\"currentColor\" height=\"2\" id=\"gpPt4\" stroke=\"currentColor\" stroke-width=\"0.222\" width=\"2\" x=\"-1\" y=\"-1\"/>\n",
       "\t<circle cx=\"0\" cy=\"0\" id=\"gpPt5\" r=\"1\" stroke=\"currentColor\" stroke-width=\"0.222\"/>\n",
       "\t<use fill=\"currentColor\" id=\"gpPt6\" stroke=\"none\" xlink:href=\"#gpPt5\"/>\n",
       "\t<path d=\"M0,-1.33 L-1.33,0.67 L1.33,0.67 z\" id=\"gpPt7\" stroke=\"currentColor\" stroke-width=\"0.222\"/>\n",
       "\t<use fill=\"currentColor\" id=\"gpPt8\" stroke=\"none\" xlink:href=\"#gpPt7\"/>\n",
       "\t<use id=\"gpPt9\" stroke=\"currentColor\" transform=\"rotate(180)\" xlink:href=\"#gpPt7\"/>\n",
       "\t<use fill=\"currentColor\" id=\"gpPt10\" stroke=\"none\" xlink:href=\"#gpPt9\"/>\n",
       "\t<use id=\"gpPt11\" stroke=\"currentColor\" transform=\"rotate(45)\" xlink:href=\"#gpPt3\"/>\n",
       "\t<use fill=\"currentColor\" id=\"gpPt12\" stroke=\"none\" xlink:href=\"#gpPt11\"/>\n",
       "\t<path d=\"M0,1.330 L1.265,0.411 L0.782,-1.067 L-0.782,-1.076 L-1.265,0.411 z\" id=\"gpPt13\" stroke=\"currentColor\" stroke-width=\"0.222\"/>\n",
       "\t<use fill=\"currentColor\" id=\"gpPt14\" stroke=\"none\" xlink:href=\"#gpPt13\"/>\n",
       "\t<filter filterUnits=\"objectBoundingBox\" height=\"1\" id=\"textbox\" width=\"1\" x=\"0\" y=\"0\">\n",
       "\t  <feFlood flood-color=\"white\" flood-opacity=\"1\" result=\"bgnd\"/>\n",
       "\t  <feComposite in=\"SourceGraphic\" in2=\"bgnd\" operator=\"atop\"/>\n",
       "\t</filter>\n",
       "\t<filter filterUnits=\"objectBoundingBox\" height=\"1\" id=\"greybox\" width=\"1\" x=\"0\" y=\"0\">\n",
       "\t  <feFlood flood-color=\"lightgrey\" flood-opacity=\"1\" result=\"grey\"/>\n",
       "\t  <feComposite in=\"SourceGraphic\" in2=\"grey\" operator=\"atop\"/>\n",
       "\t</filter>\n",
       "</defs>\n",
       "<g color=\"white\" fill=\"none\" stroke=\"currentColor\" stroke-linecap=\"butt\" stroke-linejoin=\"miter\" stroke-width=\"1.00\">\n",
       "</g>\n",
       "<g color=\"black\" fill=\"none\" stroke=\"currentColor\" stroke-linecap=\"butt\" stroke-linejoin=\"miter\" stroke-width=\"1.00\">\n",
       "\t<g shape-rendering=\"crispEdges\" stroke=\"none\">\n",
       "\t\t<polygon fill=\"rgb(255, 255, 255)\" points=\"37.3,384.0 534.9,384.0 534.9,16.8 37.3,16.8 \"/>\n",
       "\t</g>\n",
       "</g>\n",
       "<g color=\"black\" fill=\"none\" stroke=\"rgb(255, 255, 255)\" stroke-linecap=\"butt\" stroke-linejoin=\"miter\" stroke-width=\"0.50\">\n",
       "</g>\n",
       "<g color=\"black\" fill=\"none\" stroke=\"currentColor\" stroke-linecap=\"butt\" stroke-linejoin=\"miter\" stroke-width=\"0.50\">\n",
       "\t<path d=\"M37.3,384.0 L49.8,384.0 M535.0,384.0 L522.5,384.0  \" stroke=\"black\"/>\t<g fill=\"rgb(0,0,0)\" font-family=\"{}\" font-size=\"16.00\" stroke=\"none\" text-anchor=\"end\" transform=\"translate(29.0,390.0)\">\n",
       "\t\t<text><tspan font-family=\"{}\">-4</tspan></text>\n",
       "\t</g>\n",
       "</g>\n",
       "<g color=\"black\" fill=\"none\" stroke=\"currentColor\" stroke-linecap=\"butt\" stroke-linejoin=\"miter\" stroke-width=\"0.50\">\n",
       "\t<path d=\"M37.3,310.5 L49.8,310.5 M535.0,310.5 L522.5,310.5  \" stroke=\"black\"/>\t<g fill=\"rgb(0,0,0)\" font-family=\"{}\" font-size=\"16.00\" stroke=\"none\" text-anchor=\"end\" transform=\"translate(29.0,316.5)\">\n",
       "\t\t<text><tspan font-family=\"{}\">-2</tspan></text>\n",
       "\t</g>\n",
       "</g>\n",
       "<g color=\"black\" fill=\"none\" stroke=\"currentColor\" stroke-linecap=\"butt\" stroke-linejoin=\"miter\" stroke-width=\"0.50\">\n",
       "\t<path d=\"M37.3,237.1 L49.8,237.1 M535.0,237.1 L522.5,237.1  \" stroke=\"black\"/>\t<g fill=\"rgb(0,0,0)\" font-family=\"{}\" font-size=\"16.00\" stroke=\"none\" text-anchor=\"end\" transform=\"translate(29.0,243.1)\">\n",
       "\t\t<text><tspan font-family=\"{}\">0</tspan></text>\n",
       "\t</g>\n",
       "</g>\n",
       "<g color=\"black\" fill=\"none\" stroke=\"currentColor\" stroke-linecap=\"butt\" stroke-linejoin=\"miter\" stroke-width=\"0.50\">\n",
       "\t<path d=\"M37.3,163.6 L49.8,163.6 M535.0,163.6 L522.5,163.6  \" stroke=\"black\"/>\t<g fill=\"rgb(0,0,0)\" font-family=\"{}\" font-size=\"16.00\" stroke=\"none\" text-anchor=\"end\" transform=\"translate(29.0,169.6)\">\n",
       "\t\t<text><tspan font-family=\"{}\">2</tspan></text>\n",
       "\t</g>\n",
       "</g>\n",
       "<g color=\"black\" fill=\"none\" stroke=\"currentColor\" stroke-linecap=\"butt\" stroke-linejoin=\"miter\" stroke-width=\"0.50\">\n",
       "\t<path d=\"M37.3,90.2 L49.8,90.2 M535.0,90.2 L522.5,90.2  \" stroke=\"black\"/>\t<g fill=\"rgb(0,0,0)\" font-family=\"{}\" font-size=\"16.00\" stroke=\"none\" text-anchor=\"end\" transform=\"translate(29.0,96.2)\">\n",
       "\t\t<text><tspan font-family=\"{}\">4</tspan></text>\n",
       "\t</g>\n",
       "</g>\n",
       "<g color=\"black\" fill=\"none\" stroke=\"currentColor\" stroke-linecap=\"butt\" stroke-linejoin=\"miter\" stroke-width=\"0.50\">\n",
       "\t<path d=\"M37.3,16.7 L49.8,16.7 M535.0,16.7 L522.5,16.7  \" stroke=\"black\"/>\t<g fill=\"rgb(0,0,0)\" font-family=\"{}\" font-size=\"16.00\" stroke=\"none\" text-anchor=\"end\" transform=\"translate(29.0,22.7)\">\n",
       "\t\t<text><tspan font-family=\"{}\">6</tspan></text>\n",
       "\t</g>\n",
       "</g>\n",
       "<g color=\"black\" fill=\"none\" stroke=\"currentColor\" stroke-linecap=\"butt\" stroke-linejoin=\"miter\" stroke-width=\"0.50\">\n",
       "\t<path d=\"M37.3,384.0 L37.3,371.5 M37.3,16.7 L37.3,29.2  \" stroke=\"black\"/>\t<g fill=\"rgb(0,0,0)\" font-family=\"{}\" font-size=\"16.00\" stroke=\"none\" text-anchor=\"middle\" transform=\"translate(37.3,408.0)\">\n",
       "\t\t<text><tspan font-family=\"{}\">-6</tspan></text>\n",
       "\t</g>\n",
       "</g>\n",
       "<g color=\"black\" fill=\"none\" stroke=\"currentColor\" stroke-linecap=\"butt\" stroke-linejoin=\"miter\" stroke-width=\"0.50\">\n",
       "\t<path d=\"M108.4,384.0 L108.4,371.5 M108.4,16.7 L108.4,29.2  \" stroke=\"black\"/>\t<g fill=\"rgb(0,0,0)\" font-family=\"{}\" font-size=\"16.00\" stroke=\"none\" text-anchor=\"middle\" transform=\"translate(108.4,408.0)\">\n",
       "\t\t<text><tspan font-family=\"{}\">-4</tspan></text>\n",
       "\t</g>\n",
       "</g>\n",
       "<g color=\"black\" fill=\"none\" stroke=\"currentColor\" stroke-linecap=\"butt\" stroke-linejoin=\"miter\" stroke-width=\"0.50\">\n",
       "\t<path d=\"M179.5,384.0 L179.5,371.5 M179.5,16.7 L179.5,29.2  \" stroke=\"black\"/>\t<g fill=\"rgb(0,0,0)\" font-family=\"{}\" font-size=\"16.00\" stroke=\"none\" text-anchor=\"middle\" transform=\"translate(179.5,408.0)\">\n",
       "\t\t<text><tspan font-family=\"{}\">-2</tspan></text>\n",
       "\t</g>\n",
       "</g>\n",
       "<g color=\"black\" fill=\"none\" stroke=\"currentColor\" stroke-linecap=\"butt\" stroke-linejoin=\"miter\" stroke-width=\"0.50\">\n",
       "\t<path d=\"M250.6,384.0 L250.6,371.5 M250.6,16.7 L250.6,29.2  \" stroke=\"black\"/>\t<g fill=\"rgb(0,0,0)\" font-family=\"{}\" font-size=\"16.00\" stroke=\"none\" text-anchor=\"middle\" transform=\"translate(250.6,408.0)\">\n",
       "\t\t<text><tspan font-family=\"{}\">0</tspan></text>\n",
       "\t</g>\n",
       "</g>\n",
       "<g color=\"black\" fill=\"none\" stroke=\"currentColor\" stroke-linecap=\"butt\" stroke-linejoin=\"miter\" stroke-width=\"0.50\">\n",
       "\t<path d=\"M321.7,384.0 L321.7,371.5 M321.7,16.7 L321.7,29.2  \" stroke=\"black\"/>\t<g fill=\"rgb(0,0,0)\" font-family=\"{}\" font-size=\"16.00\" stroke=\"none\" text-anchor=\"middle\" transform=\"translate(321.7,408.0)\">\n",
       "\t\t<text><tspan font-family=\"{}\">2</tspan></text>\n",
       "\t</g>\n",
       "</g>\n",
       "<g color=\"black\" fill=\"none\" stroke=\"currentColor\" stroke-linecap=\"butt\" stroke-linejoin=\"miter\" stroke-width=\"0.50\">\n",
       "\t<path d=\"M392.8,384.0 L392.8,371.5 M392.8,16.7 L392.8,29.2  \" stroke=\"black\"/>\t<g fill=\"rgb(0,0,0)\" font-family=\"{}\" font-size=\"16.00\" stroke=\"none\" text-anchor=\"middle\" transform=\"translate(392.8,408.0)\">\n",
       "\t\t<text><tspan font-family=\"{}\">4</tspan></text>\n",
       "\t</g>\n",
       "</g>\n",
       "<g color=\"black\" fill=\"none\" stroke=\"currentColor\" stroke-linecap=\"butt\" stroke-linejoin=\"miter\" stroke-width=\"0.50\">\n",
       "\t<path d=\"M463.9,384.0 L463.9,371.5 M463.9,16.7 L463.9,29.2  \" stroke=\"black\"/>\t<g fill=\"rgb(0,0,0)\" font-family=\"{}\" font-size=\"16.00\" stroke=\"none\" text-anchor=\"middle\" transform=\"translate(463.9,408.0)\">\n",
       "\t\t<text><tspan font-family=\"{}\">6</tspan></text>\n",
       "\t</g>\n",
       "</g>\n",
       "<g color=\"black\" fill=\"none\" stroke=\"currentColor\" stroke-linecap=\"butt\" stroke-linejoin=\"miter\" stroke-width=\"0.50\">\n",
       "\t<path d=\"M535.0,384.0 L535.0,371.5 M535.0,16.7 L535.0,29.2  \" stroke=\"black\"/>\t<g fill=\"rgb(0,0,0)\" font-family=\"{}\" font-size=\"16.00\" stroke=\"none\" text-anchor=\"middle\" transform=\"translate(535.0,408.0)\">\n",
       "\t\t<text><tspan font-family=\"{}\">8</tspan></text>\n",
       "\t</g>\n",
       "</g>\n",
       "<g color=\"black\" fill=\"none\" stroke=\"currentColor\" stroke-linecap=\"butt\" stroke-linejoin=\"miter\" stroke-width=\"0.50\">\n",
       "</g>\n",
       "<g color=\"black\" fill=\"none\" stroke=\"currentColor\" stroke-linecap=\"butt\" stroke-linejoin=\"miter\" stroke-width=\"0.50\">\n",
       "\t<path d=\"M37.3,16.7 L37.3,384.0 L535.0,384.0 L535.0,16.7 L37.3,16.7 Z  \" stroke=\"black\"/></g>\n",
       "<g color=\"black\" fill=\"none\" stroke=\"currentColor\" stroke-linecap=\"butt\" stroke-linejoin=\"miter\" stroke-width=\"0.50\">\n",
       "</g>\n",
       "\t<g id=\"gnuplot_plot_1a\"><title>gnuplot_plot_1a</title>\n",
       "<g color=\"white\" fill=\"none\" stroke=\"black\" stroke-linecap=\"butt\" stroke-linejoin=\"miter\" stroke-width=\"3.00\">\n",
       "</g>\n",
       "<g color=\"black\" fill=\"none\" stroke=\"currentColor\" stroke-linecap=\"butt\" stroke-linejoin=\"miter\" stroke-width=\"3.00\">\n",
       "\t<path d=\"M499.5,310.5 L392.8,273.8 L286.2,237.1 L179.5,200.3 L72.9,163.6  \" stroke=\"rgb(  0,   0, 255)\"/></g>\n",
       "\t</g>\n",
       "\t<g id=\"gnuplot_plot_2a\"><title>gnuplot_plot_2a</title>\n",
       "<g color=\"black\" fill=\"none\" stroke=\"currentColor\" stroke-linecap=\"butt\" stroke-linejoin=\"miter\" stroke-width=\"3.00\">\n",
       "\t<path d=\"M179.5,53.4 L215.1,126.9 L250.6,200.3 L286.2,273.8 L321.7,347.3  \" stroke=\"rgb(  0, 128,   0)\"/></g>\n",
       "\t</g>\n",
       "<g color=\"white\" fill=\"none\" stroke=\"rgb(  0, 128,   0)\" stroke-linecap=\"butt\" stroke-linejoin=\"miter\" stroke-width=\"2.00\">\n",
       "</g>\n",
       "<g color=\"black\" fill=\"none\" stroke=\"currentColor\" stroke-linecap=\"butt\" stroke-linejoin=\"miter\" stroke-width=\"2.00\">\n",
       "</g>\n",
       "<g color=\"black\" fill=\"none\" stroke=\"black\" stroke-linecap=\"butt\" stroke-linejoin=\"miter\" stroke-width=\"0.50\">\n",
       "</g>\n",
       "<g color=\"black\" fill=\"none\" stroke=\"currentColor\" stroke-linecap=\"butt\" stroke-linejoin=\"miter\" stroke-width=\"0.50\">\n",
       "</g>\n",
       "</g>\n",
       "</svg>"
      ],
      "text/plain": [
       "<IPython.core.display.SVG object>"
      ]
     },
     "metadata": {},
     "output_type": "display_data"
    }
   ],
   "source": [
    "x21=[-2:2];\n",
    "x11=1-3*x21;\n",
    "x21=[-2:2];\n",
    "x22=1-2*x21;\n",
    "plot(x11,x21,x21,x22)"
   ]
  },
  {
   "cell_type": "code",
   "execution_count": 4,
   "metadata": {
    "collapsed": false
   },
   "outputs": [
    {
     "name": "stdout",
     "output_type": "stream",
     "text": [
      "ans =\n",
      "\n",
      "   0.40000\n",
      "   0.20000\n",
      "\n"
     ]
    }
   ],
   "source": [
    "A=[1,3;2,1]; y=[1;1];\n",
    "A\\y % matlab's Ax=y solution for x"
   ]
  },
  {
   "cell_type": "markdown",
   "metadata": {},
   "source": [
    "For a $3\\times3$ matrix, the solution is the intersection of the 3 planes.\n",
    "\n",
    "$10x_{1}+2x_{2}+x_{3}=1$\n",
    "\n",
    "$2x_{1}+x_{2}+x_{3}=1$\n",
    "\n",
    "$x_{1}+2x_{2}+10x_{3}=1$\n",
    "\n",
    "$\\left[ \\begin{array}{cc}\n",
    "10 & 2 & 1\\\\\n",
    "2 & 1 & 1 \\\\\n",
    "1 & 2 & 10\\end{array} \\right]\n",
    "\\left[\\begin{array}{c} \n",
    "x_{1} \\\\ \n",
    "x_{2} \\\\\n",
    "x_{3} \\end{array}\\right]=\n",
    "\\left[\\begin{array}{c} \n",
    "1 \\\\\n",
    "1 \\\\\n",
    "1\\end{array}\\right]$"
   ]
  },
  {
   "cell_type": "code",
   "execution_count": 9,
   "metadata": {
    "collapsed": false
   },
   "outputs": [
    {
     "data": {
      "image/svg+xml": [
       "<svg height=\"420px\" viewBox=\"0 0 560 420\" width=\"560px\" xmlns=\"http://www.w3.org/2000/svg\" xmlns:xlink=\"http://www.w3.org/1999/xlink\">\n",
       "\n",
       "<title>Gnuplot</title>\n",
       "<desc>Produced by GNUPLOT 5.0 patchlevel 3 </desc>\n",
       "\n",
       "<g id=\"gnuplot_canvas\">\n",
       "\n",
       "<rect fill=\"none\" height=\"420\" width=\"560\" x=\"0\" y=\"0\"/>\n",
       "<defs>\n",
       "\n",
       "\t<circle id=\"gpDot\" r=\"0.5\" stroke-width=\"0.5\"/>\n",
       "\t<path d=\"M-1,0 h2 M0,-1 v2\" id=\"gpPt0\" stroke=\"currentColor\" stroke-width=\"0.222\"/>\n",
       "\t<path d=\"M-1,-1 L1,1 M1,-1 L-1,1\" id=\"gpPt1\" stroke=\"currentColor\" stroke-width=\"0.222\"/>\n",
       "\t<path d=\"M-1,0 L1,0 M0,-1 L0,1 M-1,-1 L1,1 M-1,1 L1,-1\" id=\"gpPt2\" stroke=\"currentColor\" stroke-width=\"0.222\"/>\n",
       "\t<rect height=\"2\" id=\"gpPt3\" stroke=\"currentColor\" stroke-width=\"0.222\" width=\"2\" x=\"-1\" y=\"-1\"/>\n",
       "\t<rect fill=\"currentColor\" height=\"2\" id=\"gpPt4\" stroke=\"currentColor\" stroke-width=\"0.222\" width=\"2\" x=\"-1\" y=\"-1\"/>\n",
       "\t<circle cx=\"0\" cy=\"0\" id=\"gpPt5\" r=\"1\" stroke=\"currentColor\" stroke-width=\"0.222\"/>\n",
       "\t<use fill=\"currentColor\" id=\"gpPt6\" stroke=\"none\" xlink:href=\"#gpPt5\"/>\n",
       "\t<path d=\"M0,-1.33 L-1.33,0.67 L1.33,0.67 z\" id=\"gpPt7\" stroke=\"currentColor\" stroke-width=\"0.222\"/>\n",
       "\t<use fill=\"currentColor\" id=\"gpPt8\" stroke=\"none\" xlink:href=\"#gpPt7\"/>\n",
       "\t<use id=\"gpPt9\" stroke=\"currentColor\" transform=\"rotate(180)\" xlink:href=\"#gpPt7\"/>\n",
       "\t<use fill=\"currentColor\" id=\"gpPt10\" stroke=\"none\" xlink:href=\"#gpPt9\"/>\n",
       "\t<use id=\"gpPt11\" stroke=\"currentColor\" transform=\"rotate(45)\" xlink:href=\"#gpPt3\"/>\n",
       "\t<use fill=\"currentColor\" id=\"gpPt12\" stroke=\"none\" xlink:href=\"#gpPt11\"/>\n",
       "\t<path d=\"M0,1.330 L1.265,0.411 L0.782,-1.067 L-0.782,-1.076 L-1.265,0.411 z\" id=\"gpPt13\" stroke=\"currentColor\" stroke-width=\"0.222\"/>\n",
       "\t<use fill=\"currentColor\" id=\"gpPt14\" stroke=\"none\" xlink:href=\"#gpPt13\"/>\n",
       "\t<filter filterUnits=\"objectBoundingBox\" height=\"1\" id=\"textbox\" width=\"1\" x=\"0\" y=\"0\">\n",
       "\t  <feFlood flood-color=\"white\" flood-opacity=\"1\" result=\"bgnd\"/>\n",
       "\t  <feComposite in=\"SourceGraphic\" in2=\"bgnd\" operator=\"atop\"/>\n",
       "\t</filter>\n",
       "\t<filter filterUnits=\"objectBoundingBox\" height=\"1\" id=\"greybox\" width=\"1\" x=\"0\" y=\"0\">\n",
       "\t  <feFlood flood-color=\"lightgrey\" flood-opacity=\"1\" result=\"grey\"/>\n",
       "\t  <feComposite in=\"SourceGraphic\" in2=\"grey\" operator=\"atop\"/>\n",
       "\t</filter>\n",
       "</defs>\n",
       "<g color=\"white\" fill=\"none\" stroke=\"currentColor\" stroke-linecap=\"butt\" stroke-linejoin=\"miter\" stroke-width=\"1.00\">\n",
       "</g>\n",
       "<g color=\"black\" fill=\"none\" stroke=\"currentColor\" stroke-linecap=\"butt\" stroke-linejoin=\"miter\" stroke-width=\"1.00\">\n",
       "</g>\n",
       "<g color=\"black\" fill=\"none\" stroke=\"rgb(255, 255, 255)\" stroke-linecap=\"butt\" stroke-linejoin=\"miter\" stroke-width=\"0.50\">\n",
       "</g>\n",
       "<g color=\"black\" fill=\"none\" stroke=\"currentColor\" stroke-linecap=\"butt\" stroke-linejoin=\"miter\" stroke-width=\"0.50\">\n",
       "</g>\n",
       "<g color=\"black\" fill=\"none\" stroke=\"currentColor\" stroke-linecap=\"butt\" stroke-linejoin=\"miter\" stroke-width=\"0.50\">\n",
       "\t<path d=\"M111.7,328.2 L162.1,189.9  \" stroke=\"black\"/></g>\n",
       "<g color=\"black\" fill=\"none\" stroke=\"currentColor\" stroke-linecap=\"butt\" stroke-linejoin=\"miter\" stroke-width=\"0.50\">\n",
       "\t<path d=\"M448.3,214.2 L162.1,189.9  \" stroke=\"black\"/></g>\n",
       "<g color=\"black\" fill=\"none\" stroke=\"currentColor\" stroke-linecap=\"butt\" stroke-linejoin=\"miter\" stroke-width=\"0.50\">\n",
       "\t<path d=\"M111.7,328.2 L111.7,187.8  \" stroke=\"black\"/></g>\n",
       "<g color=\"black\" fill=\"none\" stroke=\"currentColor\" stroke-linecap=\"butt\" stroke-linejoin=\"miter\" stroke-width=\"0.50\">\n",
       "\t<path d=\"M162.1,189.9 L162.1,49.4  \" stroke=\"black\"/></g>\n",
       "<g color=\"black\" fill=\"none\" stroke=\"currentColor\" stroke-linecap=\"butt\" stroke-linejoin=\"miter\" stroke-width=\"0.50\">\n",
       "\t<path d=\"M448.3,214.2 L448.3,73.8  \" stroke=\"black\"/></g>\n",
       "<g color=\"black\" fill=\"none\" stroke=\"currentColor\" stroke-linecap=\"butt\" stroke-linejoin=\"miter\" stroke-width=\"0.50\">\n",
       "\t<path d=\"M111.7,187.8 L162.1,49.4  \" stroke=\"black\"/></g>\n",
       "<g color=\"black\" fill=\"none\" stroke=\"currentColor\" stroke-linecap=\"butt\" stroke-linejoin=\"miter\" stroke-width=\"0.50\">\n",
       "\t<path d=\"M448.3,73.8 L162.1,49.4  \" stroke=\"black\"/></g>\n",
       "<g color=\"gray\" fill=\"none\" stroke=\"currentColor\" stroke-linecap=\"butt\" stroke-linejoin=\"miter\" stroke-width=\"0.50\">\n",
       "\t<path class=\"gridline\" d=\"M111.7,328.2 L162.1,189.9  \" stroke=\"gray\" stroke-dasharray=\"2,4\"/></g>\n",
       "<g color=\"black\" fill=\"none\" stroke=\"currentColor\" stroke-linecap=\"butt\" stroke-linejoin=\"miter\" stroke-width=\"0.50\">\n",
       "\t<path d=\"M111.7,328.2 L108.5,337.0  \" stroke=\"black\"/></g>\n",
       "<g color=\"black\" fill=\"none\" stroke=\"currentColor\" stroke-linecap=\"butt\" stroke-linejoin=\"miter\" stroke-width=\"0.50\">\n",
       "\t<path d=\"M162.1,189.9 L165.3,181.1  \" stroke=\"black\"/>\t<g fill=\"rgb(0,0,0)\" font-family=\"{}\" font-size=\"16.00\" stroke=\"none\" text-anchor=\"middle\" transform=\"translate(106.4,355.5)\">\n",
       "\t\t<text><tspan font-family=\"{}\">-2</tspan></text>\n",
       "\t</g>\n",
       "</g>\n",
       "<g color=\"black\" fill=\"none\" stroke=\"currentColor\" stroke-linecap=\"butt\" stroke-linejoin=\"miter\" stroke-width=\"0.50\">\n",
       "</g>\n",
       "<g color=\"gray\" fill=\"none\" stroke=\"currentColor\" stroke-linecap=\"butt\" stroke-linejoin=\"miter\" stroke-width=\"0.50\">\n",
       "\t<path class=\"gridline\" d=\"M147.5,331.2 L197.9,193.0  \" stroke=\"gray\" stroke-dasharray=\"2,4\"/></g>\n",
       "<g color=\"black\" fill=\"none\" stroke=\"currentColor\" stroke-linecap=\"butt\" stroke-linejoin=\"miter\" stroke-width=\"0.50\">\n",
       "\t<path d=\"M147.5,331.2 L144.3,340.0  \" stroke=\"black\"/></g>\n",
       "<g color=\"black\" fill=\"none\" stroke=\"currentColor\" stroke-linecap=\"butt\" stroke-linejoin=\"miter\" stroke-width=\"0.50\">\n",
       "\t<path d=\"M197.9,193.0 L201.1,184.2  \" stroke=\"black\"/>\t<g fill=\"rgb(0,0,0)\" font-family=\"{}\" font-size=\"16.00\" stroke=\"none\" text-anchor=\"middle\" transform=\"translate(142.1,358.5)\">\n",
       "\t\t<text><tspan font-family=\"{}\">-1.5</tspan></text>\n",
       "\t</g>\n",
       "</g>\n",
       "<g color=\"black\" fill=\"none\" stroke=\"currentColor\" stroke-linecap=\"butt\" stroke-linejoin=\"miter\" stroke-width=\"0.50\">\n",
       "</g>\n",
       "<g color=\"gray\" fill=\"none\" stroke=\"currentColor\" stroke-linecap=\"butt\" stroke-linejoin=\"miter\" stroke-width=\"0.50\">\n",
       "\t<path class=\"gridline\" d=\"M183.2,334.3 L233.7,196.0  \" stroke=\"gray\" stroke-dasharray=\"2,4\"/></g>\n",
       "<g color=\"black\" fill=\"none\" stroke=\"currentColor\" stroke-linecap=\"butt\" stroke-linejoin=\"miter\" stroke-width=\"0.50\">\n",
       "\t<path d=\"M183.2,334.3 L180.0,343.1  \" stroke=\"black\"/></g>\n",
       "<g color=\"black\" fill=\"none\" stroke=\"currentColor\" stroke-linecap=\"butt\" stroke-linejoin=\"miter\" stroke-width=\"0.50\">\n",
       "\t<path d=\"M233.7,196.0 L236.9,187.2  \" stroke=\"black\"/>\t<g fill=\"rgb(0,0,0)\" font-family=\"{}\" font-size=\"16.00\" stroke=\"none\" text-anchor=\"middle\" transform=\"translate(177.9,361.6)\">\n",
       "\t\t<text><tspan font-family=\"{}\">-1</tspan></text>\n",
       "\t</g>\n",
       "</g>\n",
       "<g color=\"black\" fill=\"none\" stroke=\"currentColor\" stroke-linecap=\"butt\" stroke-linejoin=\"miter\" stroke-width=\"0.50\">\n",
       "</g>\n",
       "<g color=\"gray\" fill=\"none\" stroke=\"currentColor\" stroke-linecap=\"butt\" stroke-linejoin=\"miter\" stroke-width=\"0.50\">\n",
       "\t<path class=\"gridline\" d=\"M219.0,337.3 L269.5,199.1  \" stroke=\"gray\" stroke-dasharray=\"2,4\"/></g>\n",
       "<g color=\"black\" fill=\"none\" stroke=\"currentColor\" stroke-linecap=\"butt\" stroke-linejoin=\"miter\" stroke-width=\"0.50\">\n",
       "\t<path d=\"M219.0,337.3 L215.8,346.1  \" stroke=\"black\"/></g>\n",
       "<g color=\"black\" fill=\"none\" stroke=\"currentColor\" stroke-linecap=\"butt\" stroke-linejoin=\"miter\" stroke-width=\"0.50\">\n",
       "\t<path d=\"M269.5,199.1 L272.7,190.3  \" stroke=\"black\"/>\t<g fill=\"rgb(0,0,0)\" font-family=\"{}\" font-size=\"16.00\" stroke=\"none\" text-anchor=\"middle\" transform=\"translate(213.7,364.6)\">\n",
       "\t\t<text><tspan font-family=\"{}\">-0.5</tspan></text>\n",
       "\t</g>\n",
       "</g>\n",
       "<g color=\"black\" fill=\"none\" stroke=\"currentColor\" stroke-linecap=\"butt\" stroke-linejoin=\"miter\" stroke-width=\"0.50\">\n",
       "</g>\n",
       "<g color=\"gray\" fill=\"none\" stroke=\"currentColor\" stroke-linecap=\"butt\" stroke-linejoin=\"miter\" stroke-width=\"0.50\">\n",
       "\t<path class=\"gridline\" d=\"M254.8,340.4 L305.2,202.0  \" stroke=\"gray\" stroke-dasharray=\"2,4\"/></g>\n",
       "<g color=\"black\" fill=\"none\" stroke=\"currentColor\" stroke-linecap=\"butt\" stroke-linejoin=\"miter\" stroke-width=\"0.50\">\n",
       "\t<path d=\"M254.8,340.4 L251.6,349.2  \" stroke=\"black\"/></g>\n",
       "<g color=\"black\" fill=\"none\" stroke=\"currentColor\" stroke-linecap=\"butt\" stroke-linejoin=\"miter\" stroke-width=\"0.50\">\n",
       "\t<path d=\"M305.2,202.0 L308.4,193.3  \" stroke=\"black\"/>\t<g fill=\"rgb(0,0,0)\" font-family=\"{}\" font-size=\"16.00\" stroke=\"none\" text-anchor=\"middle\" transform=\"translate(249.5,367.7)\">\n",
       "\t\t<text><tspan font-family=\"{}\">0</tspan></text>\n",
       "\t</g>\n",
       "</g>\n",
       "<g color=\"black\" fill=\"none\" stroke=\"currentColor\" stroke-linecap=\"butt\" stroke-linejoin=\"miter\" stroke-width=\"0.50\">\n",
       "</g>\n",
       "<g color=\"gray\" fill=\"none\" stroke=\"currentColor\" stroke-linecap=\"butt\" stroke-linejoin=\"miter\" stroke-width=\"0.50\">\n",
       "\t<path class=\"gridline\" d=\"M290.5,343.4 L341.0,205.1  \" stroke=\"gray\" stroke-dasharray=\"2,4\"/></g>\n",
       "<g color=\"black\" fill=\"none\" stroke=\"currentColor\" stroke-linecap=\"butt\" stroke-linejoin=\"miter\" stroke-width=\"0.50\">\n",
       "\t<path d=\"M290.5,343.4 L287.3,352.2  \" stroke=\"black\"/></g>\n",
       "<g color=\"black\" fill=\"none\" stroke=\"currentColor\" stroke-linecap=\"butt\" stroke-linejoin=\"miter\" stroke-width=\"0.50\">\n",
       "\t<path d=\"M341.0,205.1 L344.2,196.4  \" stroke=\"black\"/>\t<g fill=\"rgb(0,0,0)\" font-family=\"{}\" font-size=\"16.00\" stroke=\"none\" text-anchor=\"middle\" transform=\"translate(285.2,370.7)\">\n",
       "\t\t<text><tspan font-family=\"{}\">0.5</tspan></text>\n",
       "\t</g>\n",
       "</g>\n",
       "<g color=\"black\" fill=\"none\" stroke=\"currentColor\" stroke-linecap=\"butt\" stroke-linejoin=\"miter\" stroke-width=\"0.50\">\n",
       "</g>\n",
       "<g color=\"gray\" fill=\"none\" stroke=\"currentColor\" stroke-linecap=\"butt\" stroke-linejoin=\"miter\" stroke-width=\"0.50\">\n",
       "\t<path class=\"gridline\" d=\"M326.3,346.5 L376.8,208.1  \" stroke=\"gray\" stroke-dasharray=\"2,4\"/></g>\n",
       "<g color=\"black\" fill=\"none\" stroke=\"currentColor\" stroke-linecap=\"butt\" stroke-linejoin=\"miter\" stroke-width=\"0.50\">\n",
       "\t<path d=\"M326.3,346.5 L323.1,355.3  \" stroke=\"black\"/></g>\n",
       "<g color=\"black\" fill=\"none\" stroke=\"currentColor\" stroke-linecap=\"butt\" stroke-linejoin=\"miter\" stroke-width=\"0.50\">\n",
       "\t<path d=\"M376.8,208.1 L380.0,199.4  \" stroke=\"black\"/>\t<g fill=\"rgb(0,0,0)\" font-family=\"{}\" font-size=\"16.00\" stroke=\"none\" text-anchor=\"middle\" transform=\"translate(321.0,373.8)\">\n",
       "\t\t<text><tspan font-family=\"{}\">1</tspan></text>\n",
       "\t</g>\n",
       "</g>\n",
       "<g color=\"black\" fill=\"none\" stroke=\"currentColor\" stroke-linecap=\"butt\" stroke-linejoin=\"miter\" stroke-width=\"0.50\">\n",
       "</g>\n",
       "<g color=\"gray\" fill=\"none\" stroke=\"currentColor\" stroke-linecap=\"butt\" stroke-linejoin=\"miter\" stroke-width=\"0.50\">\n",
       "\t<path class=\"gridline\" d=\"M362.1,349.5 L412.5,211.2  \" stroke=\"gray\" stroke-dasharray=\"2,4\"/></g>\n",
       "<g color=\"black\" fill=\"none\" stroke=\"currentColor\" stroke-linecap=\"butt\" stroke-linejoin=\"miter\" stroke-width=\"0.50\">\n",
       "\t<path d=\"M362.1,349.5 L358.9,358.3  \" stroke=\"black\"/></g>\n",
       "<g color=\"black\" fill=\"none\" stroke=\"currentColor\" stroke-linecap=\"butt\" stroke-linejoin=\"miter\" stroke-width=\"0.50\">\n",
       "\t<path d=\"M412.5,211.2 L415.7,202.4  \" stroke=\"black\"/>\t<g fill=\"rgb(0,0,0)\" font-family=\"{}\" font-size=\"16.00\" stroke=\"none\" text-anchor=\"middle\" transform=\"translate(356.8,376.8)\">\n",
       "\t\t<text><tspan font-family=\"{}\">1.5</tspan></text>\n",
       "\t</g>\n",
       "</g>\n",
       "<g color=\"black\" fill=\"none\" stroke=\"currentColor\" stroke-linecap=\"butt\" stroke-linejoin=\"miter\" stroke-width=\"0.50\">\n",
       "</g>\n",
       "<g color=\"gray\" fill=\"none\" stroke=\"currentColor\" stroke-linecap=\"butt\" stroke-linejoin=\"miter\" stroke-width=\"0.50\">\n",
       "\t<path class=\"gridline\" d=\"M397.9,352.6 L448.3,214.2  \" stroke=\"gray\" stroke-dasharray=\"2,4\"/></g>\n",
       "<g color=\"black\" fill=\"none\" stroke=\"currentColor\" stroke-linecap=\"butt\" stroke-linejoin=\"miter\" stroke-width=\"0.50\">\n",
       "\t<path d=\"M397.9,352.6 L394.7,361.4  \" stroke=\"black\"/></g>\n",
       "<g color=\"black\" fill=\"none\" stroke=\"currentColor\" stroke-linecap=\"butt\" stroke-linejoin=\"miter\" stroke-width=\"0.50\">\n",
       "\t<path d=\"M448.3,214.2 L451.5,205.4  \" stroke=\"black\"/>\t<g fill=\"rgb(0,0,0)\" font-family=\"{}\" font-size=\"16.00\" stroke=\"none\" text-anchor=\"middle\" transform=\"translate(392.5,379.9)\">\n",
       "\t\t<text><tspan font-family=\"{}\">2</tspan></text>\n",
       "\t</g>\n",
       "</g>\n",
       "<g color=\"black\" fill=\"none\" stroke=\"currentColor\" stroke-linecap=\"butt\" stroke-linejoin=\"miter\" stroke-width=\"0.50\">\n",
       "</g>\n",
       "<g color=\"gray\" fill=\"none\" stroke=\"currentColor\" stroke-linecap=\"butt\" stroke-linejoin=\"miter\" stroke-width=\"0.50\">\n",
       "\t<path class=\"gridline\" d=\"M397.9,352.6 L111.7,328.2  \" stroke=\"gray\" stroke-dasharray=\"2,4\"/></g>\n",
       "<g color=\"black\" fill=\"none\" stroke=\"currentColor\" stroke-linecap=\"butt\" stroke-linejoin=\"miter\" stroke-width=\"0.50\">\n",
       "\t<path d=\"M397.9,352.6 L410.3,353.6  \" stroke=\"black\"/></g>\n",
       "<g color=\"black\" fill=\"none\" stroke=\"currentColor\" stroke-linecap=\"butt\" stroke-linejoin=\"miter\" stroke-width=\"0.50\">\n",
       "\t<path d=\"M111.7,328.2 L99.3,327.1  \" stroke=\"black\"/>\t<g fill=\"rgb(0,0,0)\" font-family=\"{}\" font-size=\"16.00\" stroke=\"none\" text-anchor=\"start\" transform=\"translate(418.4,361.2)\">\n",
       "\t\t<text><tspan font-family=\"{}\">-2</tspan></text>\n",
       "\t</g>\n",
       "</g>\n",
       "<g color=\"black\" fill=\"none\" stroke=\"currentColor\" stroke-linecap=\"butt\" stroke-linejoin=\"miter\" stroke-width=\"0.50\">\n",
       "</g>\n",
       "<g color=\"gray\" fill=\"none\" stroke=\"currentColor\" stroke-linecap=\"butt\" stroke-linejoin=\"miter\" stroke-width=\"0.50\">\n",
       "\t<path class=\"gridline\" d=\"M404.2,335.3 L118.0,310.9  \" stroke=\"gray\" stroke-dasharray=\"2,4\"/></g>\n",
       "<g color=\"black\" fill=\"none\" stroke=\"currentColor\" stroke-linecap=\"butt\" stroke-linejoin=\"miter\" stroke-width=\"0.50\">\n",
       "\t<path d=\"M404.2,335.3 L416.6,336.3  \" stroke=\"black\"/></g>\n",
       "<g color=\"black\" fill=\"none\" stroke=\"currentColor\" stroke-linecap=\"butt\" stroke-linejoin=\"miter\" stroke-width=\"0.50\">\n",
       "\t<path d=\"M118.0,310.9 L105.6,309.8  \" stroke=\"black\"/>\t<g fill=\"rgb(0,0,0)\" font-family=\"{}\" font-size=\"16.00\" stroke=\"none\" text-anchor=\"start\" transform=\"translate(424.7,343.9)\">\n",
       "\t\t<text><tspan font-family=\"{}\">-1.5</tspan></text>\n",
       "\t</g>\n",
       "</g>\n",
       "<g color=\"black\" fill=\"none\" stroke=\"currentColor\" stroke-linecap=\"butt\" stroke-linejoin=\"miter\" stroke-width=\"0.50\">\n",
       "</g>\n",
       "<g color=\"gray\" fill=\"none\" stroke=\"currentColor\" stroke-linecap=\"butt\" stroke-linejoin=\"miter\" stroke-width=\"0.50\">\n",
       "\t<path class=\"gridline\" d=\"M410.5,318.0 L124.3,293.6  \" stroke=\"gray\" stroke-dasharray=\"2,4\"/></g>\n",
       "<g color=\"black\" fill=\"none\" stroke=\"currentColor\" stroke-linecap=\"butt\" stroke-linejoin=\"miter\" stroke-width=\"0.50\">\n",
       "\t<path d=\"M410.5,318.0 L422.9,319.0  \" stroke=\"black\"/></g>\n",
       "<g color=\"black\" fill=\"none\" stroke=\"currentColor\" stroke-linecap=\"butt\" stroke-linejoin=\"miter\" stroke-width=\"0.50\">\n",
       "\t<path d=\"M124.3,293.6 L111.9,292.5  \" stroke=\"black\"/>\t<g fill=\"rgb(0,0,0)\" font-family=\"{}\" font-size=\"16.00\" stroke=\"none\" text-anchor=\"start\" transform=\"translate(431.1,326.6)\">\n",
       "\t\t<text><tspan font-family=\"{}\">-1</tspan></text>\n",
       "\t</g>\n",
       "</g>\n",
       "<g color=\"black\" fill=\"none\" stroke=\"currentColor\" stroke-linecap=\"butt\" stroke-linejoin=\"miter\" stroke-width=\"0.50\">\n",
       "</g>\n",
       "<g color=\"gray\" fill=\"none\" stroke=\"currentColor\" stroke-linecap=\"butt\" stroke-linejoin=\"miter\" stroke-width=\"0.50\">\n",
       "\t<path class=\"gridline\" d=\"M416.8,300.7 L130.6,276.3  \" stroke=\"gray\" stroke-dasharray=\"2,4\"/></g>\n",
       "<g color=\"black\" fill=\"none\" stroke=\"currentColor\" stroke-linecap=\"butt\" stroke-linejoin=\"miter\" stroke-width=\"0.50\">\n",
       "\t<path d=\"M416.8,300.7 L429.2,301.8  \" stroke=\"black\"/></g>\n",
       "<g color=\"black\" fill=\"none\" stroke=\"currentColor\" stroke-linecap=\"butt\" stroke-linejoin=\"miter\" stroke-width=\"0.50\">\n",
       "\t<path d=\"M130.6,276.3 L118.2,275.2  \" stroke=\"black\"/>\t<g fill=\"rgb(0,0,0)\" font-family=\"{}\" font-size=\"16.00\" stroke=\"none\" text-anchor=\"start\" transform=\"translate(437.4,309.3)\">\n",
       "\t\t<text><tspan font-family=\"{}\">-0.5</tspan></text>\n",
       "\t</g>\n",
       "</g>\n",
       "<g color=\"black\" fill=\"none\" stroke=\"currentColor\" stroke-linecap=\"butt\" stroke-linejoin=\"miter\" stroke-width=\"0.50\">\n",
       "</g>\n",
       "<g color=\"gray\" fill=\"none\" stroke=\"currentColor\" stroke-linecap=\"butt\" stroke-linejoin=\"miter\" stroke-width=\"0.50\">\n",
       "\t<path class=\"gridline\" d=\"M423.1,283.4 L136.9,259.0  \" stroke=\"gray\" stroke-dasharray=\"2,4\"/></g>\n",
       "<g color=\"black\" fill=\"none\" stroke=\"currentColor\" stroke-linecap=\"butt\" stroke-linejoin=\"miter\" stroke-width=\"0.50\">\n",
       "\t<path d=\"M423.1,283.4 L435.5,284.5  \" stroke=\"black\"/></g>\n",
       "<g color=\"black\" fill=\"none\" stroke=\"currentColor\" stroke-linecap=\"butt\" stroke-linejoin=\"miter\" stroke-width=\"0.50\">\n",
       "\t<path d=\"M136.9,259.0 L124.5,257.9  \" stroke=\"black\"/>\t<g fill=\"rgb(0,0,0)\" font-family=\"{}\" font-size=\"16.00\" stroke=\"none\" text-anchor=\"start\" transform=\"translate(443.7,292.0)\">\n",
       "\t\t<text><tspan font-family=\"{}\">0</tspan></text>\n",
       "\t</g>\n",
       "</g>\n",
       "<g color=\"black\" fill=\"none\" stroke=\"currentColor\" stroke-linecap=\"butt\" stroke-linejoin=\"miter\" stroke-width=\"0.50\">\n",
       "</g>\n",
       "<g color=\"gray\" fill=\"none\" stroke=\"currentColor\" stroke-linecap=\"butt\" stroke-linejoin=\"miter\" stroke-width=\"0.50\">\n",
       "\t<path class=\"gridline\" d=\"M429.4,266.1 L143.2,241.7  \" stroke=\"gray\" stroke-dasharray=\"2,4\"/></g>\n",
       "<g color=\"black\" fill=\"none\" stroke=\"currentColor\" stroke-linecap=\"butt\" stroke-linejoin=\"miter\" stroke-width=\"0.50\">\n",
       "\t<path d=\"M429.4,266.1 L441.8,267.2  \" stroke=\"black\"/></g>\n",
       "<g color=\"black\" fill=\"none\" stroke=\"currentColor\" stroke-linecap=\"butt\" stroke-linejoin=\"miter\" stroke-width=\"0.50\">\n",
       "\t<path d=\"M143.2,241.7 L130.8,240.6  \" stroke=\"black\"/>\t<g fill=\"rgb(0,0,0)\" font-family=\"{}\" font-size=\"16.00\" stroke=\"none\" text-anchor=\"start\" transform=\"translate(450.0,274.7)\">\n",
       "\t\t<text><tspan font-family=\"{}\">0.5</tspan></text>\n",
       "\t</g>\n",
       "</g>\n",
       "<g color=\"black\" fill=\"none\" stroke=\"currentColor\" stroke-linecap=\"butt\" stroke-linejoin=\"miter\" stroke-width=\"0.50\">\n",
       "</g>\n",
       "<g color=\"gray\" fill=\"none\" stroke=\"currentColor\" stroke-linecap=\"butt\" stroke-linejoin=\"miter\" stroke-width=\"0.50\">\n",
       "\t<path class=\"gridline\" d=\"M435.7,248.8 L149.5,224.4  \" stroke=\"gray\" stroke-dasharray=\"2,4\"/></g>\n",
       "<g color=\"black\" fill=\"none\" stroke=\"currentColor\" stroke-linecap=\"butt\" stroke-linejoin=\"miter\" stroke-width=\"0.50\">\n",
       "\t<path d=\"M435.7,248.8 L448.1,249.9  \" stroke=\"black\"/></g>\n",
       "<g color=\"black\" fill=\"none\" stroke=\"currentColor\" stroke-linecap=\"butt\" stroke-linejoin=\"miter\" stroke-width=\"0.50\">\n",
       "\t<path d=\"M149.5,224.4 L137.1,223.4  \" stroke=\"black\"/>\t<g fill=\"rgb(0,0,0)\" font-family=\"{}\" font-size=\"16.00\" stroke=\"none\" text-anchor=\"start\" transform=\"translate(456.3,257.4)\">\n",
       "\t\t<text><tspan font-family=\"{}\">1</tspan></text>\n",
       "\t</g>\n",
       "</g>\n",
       "<g color=\"black\" fill=\"none\" stroke=\"currentColor\" stroke-linecap=\"butt\" stroke-linejoin=\"miter\" stroke-width=\"0.50\">\n",
       "</g>\n",
       "<g color=\"gray\" fill=\"none\" stroke=\"currentColor\" stroke-linecap=\"butt\" stroke-linejoin=\"miter\" stroke-width=\"0.50\">\n",
       "\t<path class=\"gridline\" d=\"M442.0,231.5 L155.8,207.1  \" stroke=\"gray\" stroke-dasharray=\"2,4\"/></g>\n",
       "<g color=\"black\" fill=\"none\" stroke=\"currentColor\" stroke-linecap=\"butt\" stroke-linejoin=\"miter\" stroke-width=\"0.50\">\n",
       "\t<path d=\"M442.0,231.5 L454.4,232.6  \" stroke=\"black\"/></g>\n",
       "<g color=\"black\" fill=\"none\" stroke=\"currentColor\" stroke-linecap=\"butt\" stroke-linejoin=\"miter\" stroke-width=\"0.50\">\n",
       "\t<path d=\"M155.8,207.1 L143.4,206.1  \" stroke=\"black\"/>\t<g fill=\"rgb(0,0,0)\" font-family=\"{}\" font-size=\"16.00\" stroke=\"none\" text-anchor=\"start\" transform=\"translate(462.6,240.1)\">\n",
       "\t\t<text><tspan font-family=\"{}\">1.5</tspan></text>\n",
       "\t</g>\n",
       "</g>\n",
       "<g color=\"black\" fill=\"none\" stroke=\"currentColor\" stroke-linecap=\"butt\" stroke-linejoin=\"miter\" stroke-width=\"0.50\">\n",
       "</g>\n",
       "<g color=\"gray\" fill=\"none\" stroke=\"currentColor\" stroke-linecap=\"butt\" stroke-linejoin=\"miter\" stroke-width=\"0.50\">\n",
       "\t<path class=\"gridline\" d=\"M448.3,214.2 L162.1,189.9  \" stroke=\"gray\" stroke-dasharray=\"2,4\"/></g>\n",
       "<g color=\"black\" fill=\"none\" stroke=\"currentColor\" stroke-linecap=\"butt\" stroke-linejoin=\"miter\" stroke-width=\"0.50\">\n",
       "\t<path d=\"M448.3,214.2 L460.7,215.3  \" stroke=\"black\"/></g>\n",
       "<g color=\"black\" fill=\"none\" stroke=\"currentColor\" stroke-linecap=\"butt\" stroke-linejoin=\"miter\" stroke-width=\"0.50\">\n",
       "\t<path d=\"M162.1,189.9 L149.7,188.9  \" stroke=\"black\"/>\t<g fill=\"rgb(0,0,0)\" font-family=\"{}\" font-size=\"16.00\" stroke=\"none\" text-anchor=\"start\" transform=\"translate(468.9,222.8)\">\n",
       "\t\t<text><tspan font-family=\"{}\">2</tspan></text>\n",
       "\t</g>\n",
       "</g>\n",
       "<g color=\"black\" fill=\"none\" stroke=\"currentColor\" stroke-linecap=\"butt\" stroke-linejoin=\"miter\" stroke-width=\"0.50\">\n",
       "</g>\n",
       "<g color=\"gray\" fill=\"none\" stroke=\"currentColor\" stroke-linecap=\"butt\" stroke-linejoin=\"miter\" stroke-width=\"0.50\">\n",
       "\t<path class=\"gridline\" d=\"M111.7,328.2 L162.1,189.9  \" stroke=\"gray\" stroke-dasharray=\"2,4\"/></g>\n",
       "<g color=\"gray\" fill=\"none\" stroke=\"currentColor\" stroke-linecap=\"butt\" stroke-linejoin=\"miter\" stroke-width=\"0.50\">\n",
       "\t<path class=\"gridline\" d=\"M162.1,189.9 L448.3,214.2  \" stroke=\"gray\" stroke-dasharray=\"2,4\"/></g>\n",
       "<g color=\"black\" fill=\"none\" stroke=\"currentColor\" stroke-linecap=\"butt\" stroke-linejoin=\"miter\" stroke-width=\"0.50\">\n",
       "\t<path d=\"M111.7,328.2 L99.2,328.2  \" stroke=\"black\"/>\t<g fill=\"rgb(0,0,0)\" font-family=\"{}\" font-size=\"16.00\" stroke=\"none\" text-anchor=\"end\" transform=\"translate(81.1,334.2)\">\n",
       "\t\t<text><tspan font-family=\"{}\">-30</tspan></text>\n",
       "\t</g>\n",
       "</g>\n",
       "<g color=\"black\" fill=\"none\" stroke=\"currentColor\" stroke-linecap=\"butt\" stroke-linejoin=\"miter\" stroke-width=\"0.50\">\n",
       "</g>\n",
       "<g color=\"black\" fill=\"none\" stroke=\"currentColor\" stroke-linecap=\"butt\" stroke-linejoin=\"miter\" stroke-width=\"0.50\">\n",
       "\t<path d=\"M448.3,214.2 L460.8,214.2  \" stroke=\"black\"/></g>\n",
       "<g color=\"gray\" fill=\"none\" stroke=\"currentColor\" stroke-linecap=\"butt\" stroke-linejoin=\"miter\" stroke-width=\"0.50\">\n",
       "\t<path class=\"gridline\" d=\"M111.7,304.8 L162.1,166.5  \" stroke=\"gray\" stroke-dasharray=\"2,4\"/></g>\n",
       "<g color=\"gray\" fill=\"none\" stroke=\"currentColor\" stroke-linecap=\"butt\" stroke-linejoin=\"miter\" stroke-width=\"0.50\">\n",
       "\t<path class=\"gridline\" d=\"M162.1,166.5 L448.3,190.9  \" stroke=\"gray\" stroke-dasharray=\"2,4\"/></g>\n",
       "<g color=\"black\" fill=\"none\" stroke=\"currentColor\" stroke-linecap=\"butt\" stroke-linejoin=\"miter\" stroke-width=\"0.50\">\n",
       "\t<path d=\"M111.7,304.8 L99.2,304.8  \" stroke=\"black\"/>\t<g fill=\"rgb(0,0,0)\" font-family=\"{}\" font-size=\"16.00\" stroke=\"none\" text-anchor=\"end\" transform=\"translate(81.1,310.8)\">\n",
       "\t\t<text><tspan font-family=\"{}\">-20</tspan></text>\n",
       "\t</g>\n",
       "</g>\n",
       "<g color=\"black\" fill=\"none\" stroke=\"currentColor\" stroke-linecap=\"butt\" stroke-linejoin=\"miter\" stroke-width=\"0.50\">\n",
       "</g>\n",
       "<g color=\"black\" fill=\"none\" stroke=\"currentColor\" stroke-linecap=\"butt\" stroke-linejoin=\"miter\" stroke-width=\"0.50\">\n",
       "\t<path d=\"M448.3,190.9 L460.8,190.9  \" stroke=\"black\"/></g>\n",
       "<g color=\"gray\" fill=\"none\" stroke=\"currentColor\" stroke-linecap=\"butt\" stroke-linejoin=\"miter\" stroke-width=\"0.50\">\n",
       "\t<path class=\"gridline\" d=\"M111.7,281.4 L162.1,143.1  \" stroke=\"gray\" stroke-dasharray=\"2,4\"/></g>\n",
       "<g color=\"gray\" fill=\"none\" stroke=\"currentColor\" stroke-linecap=\"butt\" stroke-linejoin=\"miter\" stroke-width=\"0.50\">\n",
       "\t<path class=\"gridline\" d=\"M162.1,143.1 L448.3,167.5  \" stroke=\"gray\" stroke-dasharray=\"2,4\"/></g>\n",
       "<g color=\"black\" fill=\"none\" stroke=\"currentColor\" stroke-linecap=\"butt\" stroke-linejoin=\"miter\" stroke-width=\"0.50\">\n",
       "\t<path d=\"M111.7,281.4 L99.2,281.4  \" stroke=\"black\"/>\t<g fill=\"rgb(0,0,0)\" font-family=\"{}\" font-size=\"16.00\" stroke=\"none\" text-anchor=\"end\" transform=\"translate(81.1,287.4)\">\n",
       "\t\t<text><tspan font-family=\"{}\">-10</tspan></text>\n",
       "\t</g>\n",
       "</g>\n",
       "<g color=\"black\" fill=\"none\" stroke=\"currentColor\" stroke-linecap=\"butt\" stroke-linejoin=\"miter\" stroke-width=\"0.50\">\n",
       "</g>\n",
       "<g color=\"black\" fill=\"none\" stroke=\"currentColor\" stroke-linecap=\"butt\" stroke-linejoin=\"miter\" stroke-width=\"0.50\">\n",
       "\t<path d=\"M448.3,167.5 L460.8,167.5  \" stroke=\"black\"/></g>\n",
       "<g color=\"gray\" fill=\"none\" stroke=\"currentColor\" stroke-linecap=\"butt\" stroke-linejoin=\"miter\" stroke-width=\"0.50\">\n",
       "\t<path class=\"gridline\" d=\"M111.7,257.9 L162.1,119.7  \" stroke=\"gray\" stroke-dasharray=\"2,4\"/></g>\n",
       "<g color=\"gray\" fill=\"none\" stroke=\"currentColor\" stroke-linecap=\"butt\" stroke-linejoin=\"miter\" stroke-width=\"0.50\">\n",
       "\t<path class=\"gridline\" d=\"M162.1,119.7 L448.3,144.1  \" stroke=\"gray\" stroke-dasharray=\"2,4\"/></g>\n",
       "<g color=\"black\" fill=\"none\" stroke=\"currentColor\" stroke-linecap=\"butt\" stroke-linejoin=\"miter\" stroke-width=\"0.50\">\n",
       "\t<path d=\"M111.7,257.9 L99.2,257.9  \" stroke=\"black\"/>\t<g fill=\"rgb(0,0,0)\" font-family=\"{}\" font-size=\"16.00\" stroke=\"none\" text-anchor=\"end\" transform=\"translate(81.1,263.9)\">\n",
       "\t\t<text><tspan font-family=\"{}\">0</tspan></text>\n",
       "\t</g>\n",
       "</g>\n",
       "<g color=\"black\" fill=\"none\" stroke=\"currentColor\" stroke-linecap=\"butt\" stroke-linejoin=\"miter\" stroke-width=\"0.50\">\n",
       "</g>\n",
       "<g color=\"black\" fill=\"none\" stroke=\"currentColor\" stroke-linecap=\"butt\" stroke-linejoin=\"miter\" stroke-width=\"0.50\">\n",
       "\t<path d=\"M448.3,144.1 L460.8,144.1  \" stroke=\"black\"/></g>\n",
       "<g color=\"gray\" fill=\"none\" stroke=\"currentColor\" stroke-linecap=\"butt\" stroke-linejoin=\"miter\" stroke-width=\"0.50\">\n",
       "\t<path class=\"gridline\" d=\"M111.7,234.5 L162.1,96.3  \" stroke=\"gray\" stroke-dasharray=\"2,4\"/></g>\n",
       "<g color=\"gray\" fill=\"none\" stroke=\"currentColor\" stroke-linecap=\"butt\" stroke-linejoin=\"miter\" stroke-width=\"0.50\">\n",
       "\t<path class=\"gridline\" d=\"M162.1,96.3 L448.3,120.6  \" stroke=\"gray\" stroke-dasharray=\"2,4\"/></g>\n",
       "<g color=\"black\" fill=\"none\" stroke=\"currentColor\" stroke-linecap=\"butt\" stroke-linejoin=\"miter\" stroke-width=\"0.50\">\n",
       "\t<path d=\"M111.7,234.5 L99.2,234.5  \" stroke=\"black\"/>\t<g fill=\"rgb(0,0,0)\" font-family=\"{}\" font-size=\"16.00\" stroke=\"none\" text-anchor=\"end\" transform=\"translate(81.1,240.5)\">\n",
       "\t\t<text><tspan font-family=\"{}\">10</tspan></text>\n",
       "\t</g>\n",
       "</g>\n",
       "<g color=\"black\" fill=\"none\" stroke=\"currentColor\" stroke-linecap=\"butt\" stroke-linejoin=\"miter\" stroke-width=\"0.50\">\n",
       "</g>\n",
       "<g color=\"black\" fill=\"none\" stroke=\"currentColor\" stroke-linecap=\"butt\" stroke-linejoin=\"miter\" stroke-width=\"0.50\">\n",
       "\t<path d=\"M448.3,120.6 L460.8,120.6  \" stroke=\"black\"/></g>\n",
       "<g color=\"gray\" fill=\"none\" stroke=\"currentColor\" stroke-linecap=\"butt\" stroke-linejoin=\"miter\" stroke-width=\"0.50\">\n",
       "\t<path class=\"gridline\" d=\"M111.7,211.1 L162.1,72.8  \" stroke=\"gray\" stroke-dasharray=\"2,4\"/></g>\n",
       "<g color=\"gray\" fill=\"none\" stroke=\"currentColor\" stroke-linecap=\"butt\" stroke-linejoin=\"miter\" stroke-width=\"0.50\">\n",
       "\t<path class=\"gridline\" d=\"M162.1,72.8 L448.3,97.2  \" stroke=\"gray\" stroke-dasharray=\"2,4\"/></g>\n",
       "<g color=\"black\" fill=\"none\" stroke=\"currentColor\" stroke-linecap=\"butt\" stroke-linejoin=\"miter\" stroke-width=\"0.50\">\n",
       "\t<path d=\"M111.7,211.1 L99.2,211.1  \" stroke=\"black\"/>\t<g fill=\"rgb(0,0,0)\" font-family=\"{}\" font-size=\"16.00\" stroke=\"none\" text-anchor=\"end\" transform=\"translate(81.1,217.1)\">\n",
       "\t\t<text><tspan font-family=\"{}\">20</tspan></text>\n",
       "\t</g>\n",
       "</g>\n",
       "<g color=\"black\" fill=\"none\" stroke=\"currentColor\" stroke-linecap=\"butt\" stroke-linejoin=\"miter\" stroke-width=\"0.50\">\n",
       "</g>\n",
       "<g color=\"black\" fill=\"none\" stroke=\"currentColor\" stroke-linecap=\"butt\" stroke-linejoin=\"miter\" stroke-width=\"0.50\">\n",
       "\t<path d=\"M448.3,97.2 L460.8,97.2  \" stroke=\"black\"/></g>\n",
       "<g color=\"gray\" fill=\"none\" stroke=\"currentColor\" stroke-linecap=\"butt\" stroke-linejoin=\"miter\" stroke-width=\"0.50\">\n",
       "\t<path class=\"gridline\" d=\"M111.7,187.8 L162.1,49.4  \" stroke=\"gray\" stroke-dasharray=\"2,4\"/></g>\n",
       "<g color=\"gray\" fill=\"none\" stroke=\"currentColor\" stroke-linecap=\"butt\" stroke-linejoin=\"miter\" stroke-width=\"0.50\">\n",
       "\t<path class=\"gridline\" d=\"M162.1,49.4 L448.3,73.8  \" stroke=\"gray\" stroke-dasharray=\"2,4\"/></g>\n",
       "<g color=\"black\" fill=\"none\" stroke=\"currentColor\" stroke-linecap=\"butt\" stroke-linejoin=\"miter\" stroke-width=\"0.50\">\n",
       "\t<path d=\"M111.7,187.8 L99.2,187.8  \" stroke=\"black\"/>\t<g fill=\"rgb(0,0,0)\" font-family=\"{}\" font-size=\"16.00\" stroke=\"none\" text-anchor=\"end\" transform=\"translate(81.1,193.8)\">\n",
       "\t\t<text><tspan font-family=\"{}\">30</tspan></text>\n",
       "\t</g>\n",
       "</g>\n",
       "<g color=\"black\" fill=\"none\" stroke=\"currentColor\" stroke-linecap=\"butt\" stroke-linejoin=\"miter\" stroke-width=\"0.50\">\n",
       "</g>\n",
       "<g color=\"black\" fill=\"none\" stroke=\"currentColor\" stroke-linecap=\"butt\" stroke-linejoin=\"miter\" stroke-width=\"0.50\">\n",
       "\t<path d=\"M448.3,73.8 L460.8,73.8  \" stroke=\"black\"/>\t<g fill=\"rgb(0,0,0)\" font-family=\"{}\" font-size=\"16.00\" stroke=\"none\" text-anchor=\"middle\" transform=\"translate(59.6,257.9) rotate(-90)\">\n",
       "\t\t<text><tspan font-family=\"{}\">x3</tspan></text>\n",
       "\t</g>\n",
       "</g>\n",
       "<g color=\"black\" fill=\"none\" stroke=\"currentColor\" stroke-linecap=\"butt\" stroke-linejoin=\"miter\" stroke-width=\"0.50\">\n",
       "</g>\n",
       "\t<g id=\"gnuplot_plot_1a\"><title>gnuplot_plot_1a</title>\n",
       "<g color=\"white\" fill=\"none\" stroke=\"currentColor\" stroke-linecap=\"butt\" stroke-linejoin=\"miter\" stroke-width=\"1.00\">\n",
       "</g>\n",
       "<g color=\"black\" fill=\"none\" stroke=\"currentColor\" stroke-linecap=\"butt\" stroke-linejoin=\"miter\" stroke-width=\"1.00\">\n",
       "\t<path d=\"M162.1,79.9 L160.0,84.8  \" stroke=\"rgb(255,  34,   0)\"/>\t<path d=\"M160.0,84.8 L157.9,89.8 L155.8,94.8 L153.7,99.8  \" stroke=\"rgb(255,  18,   0)\"/>\t<path d=\"M153.7,99.8 L151.6,104.8 L149.5,109.8  \" stroke=\"rgb(255,   2,   0)\"/>\t<path d=\"M149.5,109.8 L147.4,114.8 L145.3,119.7  \" stroke=\"rgb(241,   0,   0)\"/>\t<path d=\"M145.3,119.7 L143.2,124.7 L141.1,129.7  \" stroke=\"rgb(225,   0,   0)\"/>\t<path d=\"M141.1,129.7 L139.0,134.7 L136.9,139.7 L134.8,144.7  \" stroke=\"rgb(208,   0,   0)\"/>\t<path d=\"M134.8,144.7 L132.7,149.6 L130.6,154.6  \" stroke=\"rgb(192,   0,   0)\"/>\t<path d=\"M130.6,154.6 L128.5,159.6 L126.4,164.6  \" stroke=\"rgb(176,   0,   0)\"/>\t<path d=\"M126.4,164.6 L124.3,169.6 L122.2,174.6  \" stroke=\"rgb(160,   0,   0)\"/>\t<path d=\"M122.2,174.6 L120.1,179.6 L118.0,184.5 L115.9,189.5  \" stroke=\"rgb(144,   0,   0)\"/>\t<path d=\"M115.9,189.5 L113.8,194.5 L111.7,199.5  \" stroke=\"rgb(128,   0,   0)\"/>\t<path d=\"M174.1,84.8 L172.0,89.8 L169.9,94.7  \" stroke=\"rgb(255,  67,   0)\"/>\t<path d=\"M169.9,94.7 L167.8,99.7 L165.7,104.7  \" stroke=\"rgb(255,  51,   0)\"/>\t<path d=\"M165.7,104.7 L163.6,109.7 L161.5,114.7  \" stroke=\"rgb(255,  34,   0)\"/>\t<path d=\"M161.5,114.7 L159.4,119.7 L157.2,124.7 L155.1,129.6  \" stroke=\"rgb(255,  18,   0)\"/>\t<path d=\"M155.1,129.6 L153.0,134.6 L150.9,139.6  \" stroke=\"rgb(255,   2,   0)\"/>\t<path d=\"M150.9,139.6 L148.8,144.6 L146.7,149.6  \" stroke=\"rgb(241,   0,   0)\"/>\t<path d=\"M146.7,149.6 L144.6,154.6 L142.5,159.5  \" stroke=\"rgb(225,   0,   0)\"/>\t<path d=\"M142.5,159.5 L140.4,164.5 L138.3,169.5 L136.2,174.5  \" stroke=\"rgb(208,   0,   0)\"/>\t<path d=\"M136.2,174.5 L134.1,179.5 L132.0,184.5  \" stroke=\"rgb(192,   0,   0)\"/>\t<path d=\"M132.0,184.5 L129.9,189.5 L127.8,194.4  \" stroke=\"rgb(176,   0,   0)\"/>\t<path d=\"M127.8,194.4 L125.7,199.4 L123.6,204.3  \" stroke=\"rgb(160,   0,   0)\"/>\t<path d=\"M186.0,89.7 L183.9,94.7 L181.8,99.7  \" stroke=\"rgb(255,  99,   0)\"/>\t<path d=\"M181.8,99.7 L179.7,104.7 L177.6,109.6 L175.5,114.6  \" stroke=\"rgb(255,  83,   0)\"/>\t<path d=\"M175.5,114.6 L173.4,119.6 L171.3,124.6  \" stroke=\"rgb(255,  67,   0)\"/>\t<path d=\"M171.3,124.6 L169.2,129.6 L167.1,134.6  \" stroke=\"rgb(255,  51,   0)\"/>\t<path d=\"M167.1,134.6 L165.0,139.5 L162.9,144.5  \" stroke=\"rgb(255,  34,   0)\"/>\t<path d=\"M162.9,144.5 L160.8,149.5 L158.7,154.5 L156.6,159.5  \" stroke=\"rgb(255,  18,   0)\"/>\t<path d=\"M156.6,159.5 L154.5,164.5 L152.4,169.5  \" stroke=\"rgb(255,   2,   0)\"/>\t<path d=\"M152.4,169.5 L150.2,174.4 L148.1,179.4  \" stroke=\"rgb(241,   0,   0)\"/>\t<path d=\"M148.1,179.4 L146.0,184.4 L143.9,189.4  \" stroke=\"rgb(225,   0,   0)\"/>\t<path d=\"M143.9,189.4 L141.8,194.4 L139.7,199.4 L137.6,204.2  \" stroke=\"rgb(208,   0,   0)\"/>\t<path d=\"M137.6,204.2 L135.5,209.2  \" stroke=\"rgb(192,   0,   0)\"/>\t<path d=\"M197.9,94.6 L195.8,99.6  \" stroke=\"rgb(255, 148,   0)\"/>\t<path d=\"M195.8,99.6 L193.7,104.6 L191.6,109.6  \" stroke=\"rgb(255, 132,   0)\"/>\t<path d=\"M191.6,109.6 L189.5,114.6 L187.4,119.5  \" stroke=\"rgb(255, 115,   0)\"/>\t<path d=\"M187.4,119.5 L185.3,124.5 L183.2,129.5  \" stroke=\"rgb(255,  99,   0)\"/>\t<path d=\"M183.2,129.5 L181.1,134.5 L179.0,139.5 L176.9,144.5  \" stroke=\"rgb(255,  83,   0)\"/>\t<path d=\"M176.9,144.5 L174.8,149.4 L172.7,154.4  \" stroke=\"rgb(255,  67,   0)\"/>\t<path d=\"M172.7,154.4 L170.6,159.4 L168.5,164.4  \" stroke=\"rgb(255,  51,   0)\"/>\t<path d=\"M168.5,164.4 L166.4,169.4 L164.3,174.4  \" stroke=\"rgb(255,  34,   0)\"/>\t<path d=\"M164.3,174.4 L162.2,179.4 L160.1,184.3 L158.0,189.3  \" stroke=\"rgb(255,  18,   0)\"/>\t<path d=\"M158.0,189.3 L155.9,194.3 L153.8,199.3  \" stroke=\"rgb(255,   2,   0)\"/>\t<path d=\"M153.8,199.3 L151.7,204.2 L149.6,209.2  \" stroke=\"rgb(241,   0,   0)\"/>\t<path d=\"M149.6,209.2 L147.5,214.2  \" stroke=\"rgb(225,   0,   0)\"/>\t<path d=\"M209.9,99.5 L207.8,104.5  \" stroke=\"rgb(255, 180,   0)\"/>\t<path d=\"M207.8,104.5 L205.7,109.5 L203.6,114.5  \" stroke=\"rgb(255, 164,   0)\"/>\t<path d=\"M203.6,114.5 L201.4,119.5 L199.3,124.5 L197.2,129.4  \" stroke=\"rgb(255, 148,   0)\"/>\t<path d=\"M197.2,129.4 L195.1,134.4 L193.0,139.4  \" stroke=\"rgb(255, 132,   0)\"/>\t<path d=\"M193.0,139.4 L190.9,144.4 L188.8,149.4  \" stroke=\"rgb(255, 115,   0)\"/>\t<path d=\"M188.8,149.4 L186.7,154.4 L184.6,159.4  \" stroke=\"rgb(255,  99,   0)\"/>\t<path d=\"M184.6,159.4 L182.5,164.3 L180.4,169.3 L178.3,174.3  \" stroke=\"rgb(255,  83,   0)\"/>\t<path d=\"M178.3,174.3 L176.2,179.3 L174.1,184.3  \" stroke=\"rgb(255,  67,   0)\"/>\t<path d=\"M174.1,184.3 L172.0,189.3 L169.9,194.2  \" stroke=\"rgb(255,  51,   0)\"/>\t<path d=\"M169.9,194.2 L167.8,199.2 L165.7,204.1  \" stroke=\"rgb(255,  34,   0)\"/>\t<path d=\"M165.7,204.1 L163.6,209.1 L161.5,214.1 L159.4,219.1  \" stroke=\"rgb(255,  18,   0)\"/>\t<path d=\"M221.8,104.5 L219.7,109.4 L217.6,114.4  \" stroke=\"rgb(255, 212,   0)\"/>\t<path d=\"M217.6,114.4 L215.5,119.4 L213.4,124.4  \" stroke=\"rgb(255, 196,   0)\"/>\t<path d=\"M213.4,124.4 L211.3,129.4 L209.2,134.4  \" stroke=\"rgb(255, 180,   0)\"/>\t<path d=\"M209.2,134.4 L207.1,139.3 L205.0,144.3  \" stroke=\"rgb(255, 164,   0)\"/>\t<path d=\"M205.0,144.3 L202.9,149.3 L200.8,154.3 L198.7,159.3  \" stroke=\"rgb(255, 148,   0)\"/>\t<path d=\"M198.7,159.3 L196.6,164.3 L194.4,169.3  \" stroke=\"rgb(255, 132,   0)\"/>\t<path d=\"M194.4,169.3 L192.3,174.2 L190.2,179.2  \" stroke=\"rgb(255, 115,   0)\"/>\t<path d=\"M190.2,179.2 L188.1,184.2 L186.0,189.2  \" stroke=\"rgb(255,  99,   0)\"/>\t<path d=\"M186.0,189.2 L183.9,194.2 L181.8,199.2 L179.7,204.1  \" stroke=\"rgb(255,  83,   0)\"/>\t<path d=\"M179.7,204.1 L177.6,209.0 L175.5,214.0  \" stroke=\"rgb(255,  67,   0)\"/>\t<path d=\"M175.5,214.0 L173.4,219.0 L171.3,224.0  \" stroke=\"rgb(255,  51,   0)\"/>\t<path d=\"M233.7,109.4 L231.6,114.4 L229.5,119.3  \" stroke=\"rgb(255, 245,   0)\"/>\t<path d=\"M229.5,119.3 L227.4,124.3 L225.3,129.3  \" stroke=\"rgb(255, 229,   0)\"/>\t<path d=\"M225.3,129.3 L223.2,134.3 L221.1,139.3 L219.0,144.3  \" stroke=\"rgb(255, 212,   0)\"/>\t<path d=\"M219.0,144.3 L216.9,149.3 L214.8,154.2  \" stroke=\"rgb(255, 196,   0)\"/>\t<path d=\"M214.8,154.2 L212.7,159.2 L210.6,164.2  \" stroke=\"rgb(255, 180,   0)\"/>\t<path d=\"M210.6,164.2 L208.5,169.2 L206.4,174.2  \" stroke=\"rgb(255, 164,   0)\"/>\t<path d=\"M206.4,174.2 L204.3,179.2 L202.2,184.1 L200.1,189.1  \" stroke=\"rgb(255, 148,   0)\"/>\t<path d=\"M200.1,189.1 L198.0,194.1 L195.9,199.1  \" stroke=\"rgb(255, 132,   0)\"/>\t<path d=\"M195.9,199.1 L193.8,204.0 L191.7,209.0  \" stroke=\"rgb(255, 115,   0)\"/>\t<path d=\"M191.7,209.0 L189.5,214.0 L187.4,218.9  \" stroke=\"rgb(255,  99,   0)\"/>\t<path d=\"M187.4,218.9 L185.3,223.9 L183.2,228.9  \" stroke=\"rgb(255,  83,   0)\"/>\t<path d=\"M245.6,114.3 L243.5,119.3 L241.4,124.3 L239.3,129.2  \" stroke=\"rgb(233, 255,  22)\"/>\t<path d=\"M239.3,129.2 L237.2,134.2 L235.1,139.2  \" stroke=\"rgb(249, 255,   6)\"/>\t<path d=\"M235.1,139.2 L233.0,144.2 L230.9,149.2  \" stroke=\"rgb(255, 245,   0)\"/>\t<path d=\"M230.9,149.2 L228.8,154.2 L226.7,159.2  \" stroke=\"rgb(255, 229,   0)\"/>\t<path d=\"M226.7,159.2 L224.6,164.1 L222.5,169.1 L220.4,174.1  \" stroke=\"rgb(255, 212,   0)\"/>\t<path d=\"M220.4,174.1 L218.3,179.1 L216.2,184.1  \" stroke=\"rgb(255, 196,   0)\"/>\t<path d=\"M216.2,184.1 L214.1,189.1 L212.0,194.1  \" stroke=\"rgb(255, 180,   0)\"/>\t<path d=\"M212.0,194.1 L209.9,199.0 L207.8,203.9  \" stroke=\"rgb(255, 164,   0)\"/>\t<path d=\"M207.8,203.9 L205.7,208.9 L203.6,213.9 L201.5,218.9  \" stroke=\"rgb(255, 148,   0)\"/>\t<path d=\"M201.5,218.9 L199.4,223.9 L197.3,228.8  \" stroke=\"rgb(255, 132,   0)\"/>\t<path d=\"M197.3,228.8 L195.2,233.8  \" stroke=\"rgb(255, 115,   0)\"/>\t<path d=\"M257.6,119.2 L255.5,124.2  \" stroke=\"rgb(184, 255,  71)\"/>\t<path d=\"M255.5,124.2 L253.4,129.2 L251.3,134.2  \" stroke=\"rgb(200, 255,  55)\"/>\t<path d=\"M251.3,134.2 L249.2,139.2 L247.1,144.1  \" stroke=\"rgb(217, 255,  38)\"/>\t<path d=\"M247.1,144.1 L245.0,149.1 L242.9,154.1 L240.7,159.1  \" stroke=\"rgb(233, 255,  22)\"/>\t<path d=\"M240.7,159.1 L238.6,164.1 L236.5,169.1  \" stroke=\"rgb(249, 255,   6)\"/>\t<path d=\"M236.5,169.1 L234.4,174.0 L232.3,179.0  \" stroke=\"rgb(255, 245,   0)\"/>\t<path d=\"M232.3,179.0 L230.2,184.0 L228.1,189.0  \" stroke=\"rgb(255, 229,   0)\"/>\t<path d=\"M228.1,189.0 L226.0,194.0 L223.9,199.0 L221.8,203.9  \" stroke=\"rgb(255, 212,   0)\"/>\t<path d=\"M221.8,203.9 L219.7,208.8 L217.6,213.8  \" stroke=\"rgb(255, 196,   0)\"/>\t<path d=\"M217.6,213.8 L215.5,218.8 L213.4,223.8  \" stroke=\"rgb(255, 180,   0)\"/>\t<path d=\"M213.4,223.8 L211.3,228.8 L209.2,233.8  \" stroke=\"rgb(255, 164,   0)\"/>\t<path d=\"M209.2,233.8 L207.1,238.7  \" stroke=\"rgb(255, 148,   0)\"/>\t<path d=\"M269.5,124.1 L267.4,129.1  \" stroke=\"rgb(152, 255, 103)\"/>\t<path d=\"M267.4,129.1 L265.3,134.1 L263.2,139.1 L261.1,144.1  \" stroke=\"rgb(168, 255,  87)\"/>\t<path d=\"M261.1,144.1 L259.0,149.1 L256.9,154.0  \" stroke=\"rgb(184, 255,  71)\"/>\t<path d=\"M256.9,154.0 L254.8,159.0 L252.7,164.0  \" stroke=\"rgb(200, 255,  55)\"/>\t<path d=\"M252.7,164.0 L250.6,169.0 L248.5,174.0  \" stroke=\"rgb(217, 255,  38)\"/>\t<path d=\"M248.5,174.0 L246.4,179.0 L244.3,184.0 L242.2,188.9  \" stroke=\"rgb(233, 255,  22)\"/>\t<path d=\"M242.2,188.9 L240.1,193.9 L238.0,198.9  \" stroke=\"rgb(249, 255,   6)\"/>\t<path d=\"M238.0,198.9 L235.9,203.8 L233.7,208.8  \" stroke=\"rgb(255, 245,   0)\"/>\t<path d=\"M233.7,208.8 L231.6,213.8 L229.5,218.7  \" stroke=\"rgb(255, 229,   0)\"/>\t<path d=\"M229.5,218.7 L227.4,223.7 L225.3,228.7 L223.2,233.7  \" stroke=\"rgb(255, 212,   0)\"/>\t<path d=\"M223.2,233.7 L221.1,238.7 L219.0,243.7  \" stroke=\"rgb(255, 196,   0)\"/>\t<path d=\"M281.3,129.1 L279.3,134.0 L277.2,139.0  \" stroke=\"rgb(119, 255, 136)\"/>\t<path d=\"M277.2,139.0 L275.1,144.0 L273.0,149.0  \" stroke=\"rgb(136, 255, 119)\"/>\t<path d=\"M273.0,149.0 L270.9,154.0 L268.8,159.0  \" stroke=\"rgb(152, 255, 103)\"/>\t<path d=\"M268.8,159.0 L266.7,163.9 L264.6,168.9 L262.5,173.9  \" stroke=\"rgb(168, 255,  87)\"/>\t<path d=\"M262.5,173.9 L260.4,178.9 L258.3,183.9  \" stroke=\"rgb(184, 255,  71)\"/>\t<path d=\"M258.3,183.9 L256.2,188.9 L254.1,193.9  \" stroke=\"rgb(200, 255,  55)\"/>\t<path d=\"M254.1,193.9 L252.0,198.8 L249.9,203.7  \" stroke=\"rgb(217, 255,  38)\"/>\t<path d=\"M249.9,203.7 L247.8,208.7 L245.7,213.7 L243.6,218.7  \" stroke=\"rgb(233, 255,  22)\"/>\t<path d=\"M243.6,218.7 L241.5,223.7 L239.4,228.6  \" stroke=\"rgb(249, 255,   6)\"/>\t<path d=\"M239.4,228.6 L237.3,233.6 L235.2,238.6  \" stroke=\"rgb(255, 245,   0)\"/>\t<path d=\"M235.2,238.6 L233.1,243.6 L231.0,248.6  \" stroke=\"rgb(255, 229,   0)\"/>\t<path d=\"M293.3,134.0 L291.2,139.0 L289.1,143.9  \" stroke=\"rgb( 87, 255, 168)\"/>\t<path d=\"M289.1,143.9 L287.0,148.9 L284.8,153.9 L282.7,158.9  \" stroke=\"rgb(103, 255, 152)\"/>\t<path d=\"M282.7,158.9 L280.6,163.9 L278.6,168.9  \" stroke=\"rgb(119, 255, 136)\"/>\t<path d=\"M278.6,168.9 L276.5,173.8 L274.4,178.8  \" stroke=\"rgb(136, 255, 119)\"/>\t<path d=\"M274.4,178.8 L272.3,183.8 L270.2,188.8  \" stroke=\"rgb(152, 255, 103)\"/>\t<path d=\"M270.2,188.8 L268.1,193.8 L266.0,198.8 L263.9,203.7  \" stroke=\"rgb(168, 255,  87)\"/>\t<path d=\"M263.9,203.7 L261.8,208.6 L259.7,213.6  \" stroke=\"rgb(184, 255,  71)\"/>\t<path d=\"M259.7,213.6 L257.6,218.6 L255.5,223.6  \" stroke=\"rgb(200, 255,  55)\"/>\t<path d=\"M255.5,223.6 L253.4,228.6 L251.3,233.6  \" stroke=\"rgb(217, 255,  38)\"/>\t<path d=\"M251.3,233.6 L249.2,238.6 L247.1,243.5 L245.0,248.5  \" stroke=\"rgb(233, 255,  22)\"/>\t<path d=\"M245.0,248.5 L242.9,253.5  \" stroke=\"rgb(249, 255,   6)\"/>\t<path d=\"M305.2,138.9 L303.1,143.9  \" stroke=\"rgb( 38, 255, 217)\"/>\t<path d=\"M303.1,143.9 L301.0,148.9 L298.9,153.8  \" stroke=\"rgb( 55, 255, 200)\"/>\t<path d=\"M298.9,153.8 L296.8,158.8 L294.7,163.8  \" stroke=\"rgb( 71, 255, 184)\"/>\t<path d=\"M294.7,163.8 L292.6,168.8 L290.5,173.8  \" stroke=\"rgb( 87, 255, 168)\"/>\t<path d=\"M290.5,173.8 L288.4,178.8 L286.3,183.8 L284.2,188.7  \" stroke=\"rgb(103, 255, 152)\"/>\t<path d=\"M284.2,188.7 L282.1,193.7 L280.0,198.7  \" stroke=\"rgb(119, 255, 136)\"/>\t<path d=\"M280.0,198.7 L277.9,203.6 L275.8,208.6  \" stroke=\"rgb(136, 255, 119)\"/>\t<path d=\"M275.8,208.6 L273.7,213.6 L271.6,218.5  \" stroke=\"rgb(152, 255, 103)\"/>\t<path d=\"M271.6,218.5 L269.5,223.5 L267.4,228.5 L265.3,233.5  \" stroke=\"rgb(168, 255,  87)\"/>\t<path d=\"M265.3,233.5 L263.2,238.5 L261.1,243.5  \" stroke=\"rgb(184, 255,  71)\"/>\t<path d=\"M261.1,243.5 L259.0,248.5 L256.9,253.4  \" stroke=\"rgb(200, 255,  55)\"/>\t<path d=\"M256.9,253.4 L254.8,258.4  \" stroke=\"rgb(217, 255,  38)\"/>\t<path d=\"M317.1,143.8 L315.0,148.8  \" stroke=\"rgb(  6, 255, 249)\"/>\t<path d=\"M315.0,148.8 L312.9,153.8 L310.8,158.8  \" stroke=\"rgb( 22, 255, 233)\"/>\t<path d=\"M310.8,158.8 L308.7,163.7 L306.6,168.7 L304.5,173.7  \" stroke=\"rgb( 38, 255, 217)\"/>\t<path d=\"M304.5,173.7 L302.4,178.7 L300.3,183.7  \" stroke=\"rgb( 55, 255, 200)\"/>\t<path d=\"M300.3,183.7 L298.2,188.7 L296.1,193.7  \" stroke=\"rgb( 71, 255, 184)\"/>\t<path d=\"M296.1,193.7 L294.0,198.6 L291.9,203.5  \" stroke=\"rgb( 87, 255, 168)\"/>\t<path d=\"M291.9,203.5 L289.8,208.5 L287.7,213.5 L285.6,218.5  \" stroke=\"rgb(103, 255, 152)\"/>\t<path d=\"M285.6,218.5 L283.5,223.5 L281.4,228.5  \" stroke=\"rgb(119, 255, 136)\"/>\t<path d=\"M281.4,228.5 L279.4,233.4 L277.3,238.4  \" stroke=\"rgb(136, 255, 119)\"/>\t<path d=\"M277.3,238.4 L275.2,243.4 L273.0,248.4  \" stroke=\"rgb(152, 255, 103)\"/>\t<path d=\"M273.0,248.4 L270.9,253.4 L268.8,258.4 L266.7,263.3  \" stroke=\"rgb(168, 255,  87)\"/>\t<path d=\"M329.0,148.7 L326.9,153.7 L324.8,158.7  \" stroke=\"rgb(  0, 229, 255)\"/>\t<path d=\"M324.8,158.7 L322.7,163.7 L320.6,168.7  \" stroke=\"rgb(  0, 245, 255)\"/>\t<path d=\"M320.6,168.7 L318.5,173.7 L316.4,178.6  \" stroke=\"rgb(  6, 255, 249)\"/>\t<path d=\"M316.4,178.6 L314.3,183.6 L312.2,188.6  \" stroke=\"rgb( 22, 255, 233)\"/>\t<path d=\"M312.2,188.6 L310.1,193.6 L308.0,198.6 L305.9,203.5  \" stroke=\"rgb( 38, 255, 217)\"/>\t<path d=\"M305.9,203.5 L303.8,208.4 L301.7,213.4  \" stroke=\"rgb( 55, 255, 200)\"/>\t<path d=\"M301.7,213.4 L299.6,218.4 L297.5,223.4  \" stroke=\"rgb( 71, 255, 184)\"/>\t<path d=\"M297.5,223.4 L295.4,228.4 L293.3,233.4  \" stroke=\"rgb( 87, 255, 168)\"/>\t<path d=\"M293.3,233.4 L291.2,238.4 L289.1,243.3 L287.0,248.3  \" stroke=\"rgb(103, 255, 152)\"/>\t<path d=\"M287.0,248.3 L284.9,253.3 L282.8,258.3  \" stroke=\"rgb(119, 255, 136)\"/>\t<path d=\"M282.8,258.3 L280.7,263.3 L278.7,268.3  \" stroke=\"rgb(136, 255, 119)\"/>\t<path d=\"M341.0,153.6 L338.9,158.6 L336.8,163.6  \" stroke=\"rgb(  0, 196, 255)\"/>\t<path d=\"M336.8,163.6 L334.7,168.6 L332.6,173.6  \" stroke=\"rgb(  0, 212, 255)\"/>\t<path d=\"M332.6,173.6 L330.5,178.6 L328.4,183.6 L326.3,188.5  \" stroke=\"rgb(  0, 229, 255)\"/>\t<path d=\"M326.3,188.5 L324.1,193.5 L322.0,198.5  \" stroke=\"rgb(  0, 245, 255)\"/>\t<path d=\"M322.0,198.5 L319.9,203.4 L317.8,208.4  \" stroke=\"rgb(  6, 255, 249)\"/>\t<path d=\"M317.8,208.4 L315.7,213.4 L313.6,218.4  \" stroke=\"rgb( 22, 255, 233)\"/>\t<path d=\"M313.6,218.4 L311.5,223.3 L309.4,228.3 L307.3,233.3  \" stroke=\"rgb( 38, 255, 217)\"/>\t<path d=\"M307.3,233.3 L305.2,238.3 L303.1,243.3  \" stroke=\"rgb( 55, 255, 200)\"/>\t<path d=\"M303.1,243.3 L301.0,248.3 L298.9,253.2  \" stroke=\"rgb( 71, 255, 184)\"/>\t<path d=\"M298.9,253.2 L296.8,258.2 L294.7,263.2  \" stroke=\"rgb( 87, 255, 168)\"/>\t<path d=\"M294.7,263.2 L292.6,268.2 L290.5,273.2  \" stroke=\"rgb(103, 255, 152)\"/>\t<path d=\"M352.9,158.6 L350.8,163.6 L348.7,168.5 L346.6,173.5  \" stroke=\"rgb(  0, 164, 255)\"/>\t<path d=\"M346.6,173.5 L344.5,178.5 L342.4,183.5  \" stroke=\"rgb(  0, 180, 255)\"/>\t<path d=\"M342.4,183.5 L340.3,188.5 L338.2,193.5  \" stroke=\"rgb(  0, 196, 255)\"/>\t<path d=\"M338.2,193.5 L336.1,198.4 L334.0,203.3  \" stroke=\"rgb(  0, 212, 255)\"/>\t<path d=\"M334.0,203.3 L331.9,208.3 L329.8,213.3 L327.7,218.3  \" stroke=\"rgb(  0, 229, 255)\"/>\t<path d=\"M327.7,218.3 L325.6,223.3 L323.5,228.3  \" stroke=\"rgb(  0, 245, 255)\"/>\t<path d=\"M323.5,228.3 L321.4,233.2 L319.3,238.2  \" stroke=\"rgb(  6, 255, 249)\"/>\t<path d=\"M319.3,238.2 L317.1,243.2 L315.0,248.2  \" stroke=\"rgb( 22, 255, 233)\"/>\t<path d=\"M315.0,248.2 L312.9,253.2 L310.8,258.2 L308.7,263.1  \" stroke=\"rgb( 38, 255, 217)\"/>\t<path d=\"M308.7,263.1 L306.6,268.1 L304.5,273.1  \" stroke=\"rgb( 55, 255, 200)\"/>\t<path d=\"M304.5,273.1 L302.4,278.1  \" stroke=\"rgb( 71, 255, 184)\"/>\t<path d=\"M364.8,163.5 L362.7,168.5  \" stroke=\"rgb(  0, 115, 255)\"/>\t<path d=\"M362.7,168.5 L360.6,173.5 L358.5,178.4  \" stroke=\"rgb(  0, 132, 255)\"/>\t<path d=\"M358.5,178.4 L356.4,183.4 L354.3,188.4  \" stroke=\"rgb(  0, 148, 255)\"/>\t<path d=\"M354.3,188.4 L352.2,193.4 L350.1,198.4 L348.0,203.3  \" stroke=\"rgb(  0, 164, 255)\"/>\t<path d=\"M348.0,203.3 L345.9,208.3 L343.8,213.2  \" stroke=\"rgb(  0, 180, 255)\"/>\t<path d=\"M343.8,213.2 L341.7,218.2 L339.6,223.2  \" stroke=\"rgb(  0, 196, 255)\"/>\t<path d=\"M339.6,223.2 L337.5,228.2 L335.4,233.2  \" stroke=\"rgb(  0, 212, 255)\"/>\t<path d=\"M335.4,233.2 L333.3,238.2 L331.2,243.1 L329.1,248.1  \" stroke=\"rgb(  0, 229, 255)\"/>\t<path d=\"M329.1,248.1 L327.0,253.1 L324.9,258.1  \" stroke=\"rgb(  0, 245, 255)\"/>\t<path d=\"M324.9,258.1 L322.8,263.1 L320.7,268.1  \" stroke=\"rgb(  6, 255, 249)\"/>\t<path d=\"M320.7,268.1 L318.6,273.1 L316.5,278.0  \" stroke=\"rgb( 22, 255, 233)\"/>\t<path d=\"M316.5,278.0 L314.4,283.0  \" stroke=\"rgb( 38, 255, 217)\"/>\t<path d=\"M376.8,168.4 L374.7,173.4  \" stroke=\"rgb(  0,  83, 255)\"/>\t<path d=\"M374.7,173.4 L372.6,178.4 L370.5,183.4 L368.3,188.3  \" stroke=\"rgb(  0,  99, 255)\"/>\t<path d=\"M368.3,188.3 L366.2,193.3 L364.1,198.3  \" stroke=\"rgb(  0, 115, 255)\"/>\t<path d=\"M364.1,198.3 L362.0,203.2 L359.9,208.2  \" stroke=\"rgb(  0, 132, 255)\"/>\t<path d=\"M359.9,208.2 L357.8,213.2 L355.7,218.2  \" stroke=\"rgb(  0, 148, 255)\"/>\t<path d=\"M355.7,218.2 L353.6,223.1 L351.5,228.1 L349.4,233.1  \" stroke=\"rgb(  0, 164, 255)\"/>\t<path d=\"M349.4,233.1 L347.3,238.1 L345.2,243.1  \" stroke=\"rgb(  0, 180, 255)\"/>\t<path d=\"M345.2,243.1 L343.1,248.1 L341.0,253.0  \" stroke=\"rgb(  0, 196, 255)\"/>\t<path d=\"M341.0,253.0 L338.9,258.0 L336.8,263.0  \" stroke=\"rgb(  0, 212, 255)\"/>\t<path d=\"M336.8,263.0 L334.7,268.0 L332.6,273.0 L330.5,278.0  \" stroke=\"rgb(  0, 229, 255)\"/>\t<path d=\"M330.5,278.0 L328.4,283.0 L326.3,287.9  \" stroke=\"rgb(  0, 245, 255)\"/>\t<path d=\"M388.7,173.3 L386.6,178.3 L384.5,183.3  \" stroke=\"rgb(  0,  51, 255)\"/>\t<path d=\"M384.5,183.3 L382.4,188.3 L380.3,193.3  \" stroke=\"rgb(  0,  67, 255)\"/>\t<path d=\"M380.3,193.3 L378.2,198.3 L376.1,203.1  \" stroke=\"rgb(  0,  83, 255)\"/>\t<path d=\"M376.1,203.1 L374.0,208.1 L371.9,213.1 L369.8,218.1  \" stroke=\"rgb(  0,  99, 255)\"/>\t<path d=\"M369.8,218.1 L367.7,223.1 L365.6,228.1  \" stroke=\"rgb(  0, 115, 255)\"/>\t<path d=\"M365.6,228.1 L363.4,233.0 L361.3,238.0  \" stroke=\"rgb(  0, 132, 255)\"/>\t<path d=\"M361.3,238.0 L359.2,243.0 L357.1,248.0  \" stroke=\"rgb(  0, 148, 255)\"/>\t<path d=\"M357.1,248.0 L355.0,253.0 L352.9,258.0 L350.8,263.0  \" stroke=\"rgb(  0, 164, 255)\"/>\t<path d=\"M350.8,263.0 L348.7,267.9 L346.6,272.9  \" stroke=\"rgb(  0, 180, 255)\"/>\t<path d=\"M346.6,272.9 L344.5,277.9 L342.4,282.9  \" stroke=\"rgb(  0, 196, 255)\"/>\t<path d=\"M342.4,282.9 L340.3,287.9 L338.2,292.9  \" stroke=\"rgb(  0, 212, 255)\"/>\t<path d=\"M400.6,178.2 L398.5,183.2 L396.4,188.2  \" stroke=\"rgb(  0,  18, 255)\"/>\t<path d=\"M396.4,188.2 L394.3,193.2 L392.2,198.2 L390.1,203.1  \" stroke=\"rgb(  0,  34, 255)\"/>\t<path d=\"M390.1,203.1 L388.0,208.1 L385.9,213.0  \" stroke=\"rgb(  0,  51, 255)\"/>\t<path d=\"M385.9,213.0 L383.8,218.0 L381.7,223.0  \" stroke=\"rgb(  0,  67, 255)\"/>\t<path d=\"M381.7,223.0 L379.6,228.0 L377.5,233.0  \" stroke=\"rgb(  0,  83, 255)\"/>\t<path d=\"M377.5,233.0 L375.4,238.0 L373.3,242.9 L371.2,247.9  \" stroke=\"rgb(  0,  99, 255)\"/>\t<path d=\"M371.2,247.9 L369.1,252.9 L367.0,257.9  \" stroke=\"rgb(  0, 115, 255)\"/>\t<path d=\"M367.0,257.9 L364.9,262.9 L362.8,267.9  \" stroke=\"rgb(  0, 132, 255)\"/>\t<path d=\"M362.8,267.9 L360.7,272.9 L358.6,277.8  \" stroke=\"rgb(  0, 148, 255)\"/>\t<path d=\"M358.6,277.8 L356.4,282.8 L354.3,287.8 L352.2,292.8  \" stroke=\"rgb(  0, 164, 255)\"/>\t<path d=\"M352.2,292.8 L350.1,297.8  \" stroke=\"rgb(  0, 180, 255)\"/>\t<path d=\"M412.5,183.2 L410.4,188.2  \" stroke=\"rgb(  0,   0, 225)\"/>\t<path d=\"M410.4,188.2 L408.3,193.1 L406.2,198.1  \" stroke=\"rgb(  0,   0, 241)\"/>\t<path d=\"M406.2,198.1 L404.1,203.0 L402.0,208.0  \" stroke=\"rgb(  0,   2, 255)\"/>\t<path d=\"M402.0,208.0 L399.9,213.0 L397.8,218.0  \" stroke=\"rgb(  0,  18, 255)\"/>\t<path d=\"M397.8,218.0 L395.7,222.9 L393.6,227.9 L391.5,232.9  \" stroke=\"rgb(  0,  34, 255)\"/>\t<path d=\"M391.5,232.9 L389.4,237.9 L387.3,242.9  \" stroke=\"rgb(  0,  51, 255)\"/>\t<path d=\"M387.3,242.9 L385.2,247.9 L383.1,252.9  \" stroke=\"rgb(  0,  67, 255)\"/>\t<path d=\"M383.1,252.9 L381.0,257.8 L378.9,262.8  \" stroke=\"rgb(  0,  83, 255)\"/>\t<path d=\"M378.9,262.8 L376.8,267.8 L374.7,272.8 L372.6,277.8  \" stroke=\"rgb(  0,  99, 255)\"/>\t<path d=\"M372.6,277.8 L370.5,282.8 L368.4,287.7  \" stroke=\"rgb(  0, 115, 255)\"/>\t<path d=\"M368.4,287.7 L366.3,292.7 L364.2,297.7  \" stroke=\"rgb(  0, 132, 255)\"/>\t<path d=\"M364.2,297.7 L362.1,302.7  \" stroke=\"rgb(  0, 148, 255)\"/>\t<path d=\"M424.5,188.1 L422.4,193.1  \" stroke=\"rgb(  0,   0, 192)\"/>\t<path d=\"M422.4,193.1 L420.3,198.1 L418.2,202.9  \" stroke=\"rgb(  0,   0, 208)\"/>\t<path d=\"M418.2,202.9 L416.1,207.9 L414.0,212.9 L411.9,217.9  \" stroke=\"rgb(  0,   0, 225)\"/>\t<path d=\"M411.9,217.9 L409.8,222.9 L407.6,227.9  \" stroke=\"rgb(  0,   0, 241)\"/>\t<path d=\"M407.6,227.9 L405.5,232.8 L403.4,237.8  \" stroke=\"rgb(  0,   2, 255)\"/>\t<path d=\"M403.4,237.8 L401.3,242.8 L399.2,247.8  \" stroke=\"rgb(  0,  18, 255)\"/>\t<path d=\"M399.2,247.8 L397.1,252.8 L395.0,257.8 L392.9,262.8  \" stroke=\"rgb(  0,  34, 255)\"/>\t<path d=\"M392.9,262.8 L390.8,267.7 L388.7,272.7  \" stroke=\"rgb(  0,  51, 255)\"/>\t<path d=\"M388.7,272.7 L386.6,277.7 L384.5,282.7  \" stroke=\"rgb(  0,  67, 255)\"/>\t<path d=\"M384.5,282.7 L382.4,287.7 L380.3,292.7  \" stroke=\"rgb(  0,  83, 255)\"/>\t<path d=\"M380.3,292.7 L378.2,297.6 L376.1,302.6 L374.0,307.6  \" stroke=\"rgb(  0,  99, 255)\"/>\t<path d=\"M436.4,193.0 L434.3,198.0 L432.2,202.9  \" stroke=\"rgb(  0,   0, 160)\"/>\t<path d=\"M432.2,202.9 L430.1,207.9 L428.0,212.8  \" stroke=\"rgb(  0,   0, 176)\"/>\t<path d=\"M428.0,212.8 L425.9,217.8 L423.8,222.8  \" stroke=\"rgb(  0,   0, 192)\"/>\t<path d=\"M423.8,222.8 L421.7,227.8 L419.6,232.8  \" stroke=\"rgb(  0,   0, 208)\"/>\t<path d=\"M419.6,232.8 L417.5,237.8 L415.4,242.8 L413.3,247.7  \" stroke=\"rgb(  0,   0, 225)\"/>\t<path d=\"M413.3,247.7 L411.2,252.7 L409.1,257.7  \" stroke=\"rgb(  0,   0, 241)\"/>\t<path d=\"M409.1,257.7 L407.0,262.7 L404.9,267.7  \" stroke=\"rgb(  0,   2, 255)\"/>\t<path d=\"M404.9,267.7 L402.8,272.7 L400.6,277.6  \" stroke=\"rgb(  0,  18, 255)\"/>\t<path d=\"M400.6,277.6 L398.5,282.6 L396.4,287.6 L394.3,292.6  \" stroke=\"rgb(  0,  34, 255)\"/>\t<path d=\"M394.3,292.6 L392.2,297.6 L390.1,302.6  \" stroke=\"rgb(  0,  51, 255)\"/>\t<path d=\"M390.1,302.6 L388.0,307.6 L385.9,312.5  \" stroke=\"rgb(  0,  67, 255)\"/>\t<path d=\"M448.3,197.9 L446.2,202.8 L444.1,207.8  \" stroke=\"rgb(  0,   0, 128)\"/>\t<path d=\"M444.1,207.8 L442.0,212.8 L439.9,217.8  \" stroke=\"rgb(  0,   0, 144)\"/>\t<path d=\"M439.9,217.8 L437.8,222.7 L435.7,227.7 L433.6,232.7  \" stroke=\"rgb(  0,   0, 160)\"/>\t<path d=\"M433.6,232.7 L431.5,237.7 L429.4,242.7  \" stroke=\"rgb(  0,   0, 176)\"/>\t<path d=\"M429.4,242.7 L427.3,247.7 L425.2,252.7  \" stroke=\"rgb(  0,   0, 192)\"/>\t<path d=\"M425.2,252.7 L423.1,257.6 L421.0,262.6  \" stroke=\"rgb(  0,   0, 208)\"/>\t<path d=\"M421.0,262.6 L418.9,267.6 L416.8,272.6 L414.7,277.6  \" stroke=\"rgb(  0,   0, 225)\"/>\t<path d=\"M414.7,277.6 L412.6,282.6 L410.5,287.5  \" stroke=\"rgb(  0,   0, 241)\"/>\t<path d=\"M410.5,287.5 L408.4,292.5 L406.3,297.5  \" stroke=\"rgb(  0,   2, 255)\"/>\t<path d=\"M406.3,297.5 L404.2,302.5 L402.1,307.5  \" stroke=\"rgb(  0,  18, 255)\"/>\t<path d=\"M402.1,307.5 L400.0,312.5 L397.9,317.5  \" stroke=\"rgb(  0,  34, 255)\"/>\t<path d=\"M162.1,79.9 L174.1,84.8  \" stroke=\"rgb(255,  51,   0)\"/>\t<path d=\"M174.1,84.8 L186.0,89.7  \" stroke=\"rgb(255,  83,   0)\"/>\t<path d=\"M186.0,89.7 L197.9,94.6  \" stroke=\"rgb(255, 132,   0)\"/>\t<path d=\"M197.9,94.6 L209.9,99.5  \" stroke=\"rgb(255, 164,   0)\"/>\t<path d=\"M209.9,99.5 L221.8,104.5  \" stroke=\"rgb(255, 196,   0)\"/>\t<path d=\"M221.8,104.5 L233.7,109.4  \" stroke=\"rgb(255, 229,   0)\"/>\t<path d=\"M233.7,109.4 L245.6,114.3  \" stroke=\"rgb(233, 255,  22)\"/>\t<path d=\"M245.6,114.3 L257.6,119.2  \" stroke=\"rgb(200, 255,  55)\"/>\t<path d=\"M257.6,119.2 L269.5,124.1  \" stroke=\"rgb(168, 255,  87)\"/>\t<path d=\"M269.5,124.1 L281.3,129.1  \" stroke=\"rgb(136, 255, 119)\"/>\t<path d=\"M281.3,129.1 L293.3,134.0  \" stroke=\"rgb(103, 255, 152)\"/>\t<path d=\"M293.3,134.0 L305.2,138.9  \" stroke=\"rgb( 55, 255, 200)\"/>\t<path d=\"M305.2,138.9 L317.1,143.8  \" stroke=\"rgb( 22, 255, 233)\"/>\t<path d=\"M317.1,143.8 L329.0,148.7  \" stroke=\"rgb(  0, 245, 255)\"/>\t<path d=\"M329.0,148.7 L341.0,153.6  \" stroke=\"rgb(  0, 212, 255)\"/>\t<path d=\"M341.0,153.6 L352.9,158.6  \" stroke=\"rgb(  0, 164, 255)\"/>\t<path d=\"M352.9,158.6 L364.8,163.5  \" stroke=\"rgb(  0, 132, 255)\"/>\t<path d=\"M364.8,163.5 L376.8,168.4  \" stroke=\"rgb(  0,  99, 255)\"/>\t<path d=\"M376.8,168.4 L388.7,173.3  \" stroke=\"rgb(  0,  67, 255)\"/>\t<path d=\"M388.7,173.3 L400.6,178.2  \" stroke=\"rgb(  0,  34, 255)\"/>\t<path d=\"M400.6,178.2 L412.5,183.2  \" stroke=\"rgb(  0,   0, 241)\"/>\t<path d=\"M412.5,183.2 L424.5,188.1  \" stroke=\"rgb(  0,   0, 208)\"/>\t<path d=\"M424.5,188.1 L436.4,193.0  \" stroke=\"rgb(  0,   0, 176)\"/>\t<path d=\"M436.4,193.0 L448.3,197.9  \" stroke=\"rgb(  0,   0, 144)\"/>\t<path d=\"M160.0,84.8 L172.0,89.8  \" stroke=\"rgb(255,  51,   0)\"/>\t<path d=\"M172.0,89.8 L183.9,94.7  \" stroke=\"rgb(255,  83,   0)\"/>\t<path d=\"M183.9,94.7 L195.8,99.6  \" stroke=\"rgb(255, 115,   0)\"/>\t<path d=\"M195.8,99.6 L207.8,104.5  \" stroke=\"rgb(255, 148,   0)\"/>\t<path d=\"M207.8,104.5 L219.7,109.4  \" stroke=\"rgb(255, 196,   0)\"/>\t<path d=\"M219.7,109.4 L231.6,114.4  \" stroke=\"rgb(255, 229,   0)\"/>\t<path d=\"M231.6,114.4 L243.5,119.3  \" stroke=\"rgb(249, 255,   6)\"/>\t<path d=\"M243.5,119.3 L255.5,124.2  \" stroke=\"rgb(217, 255,  38)\"/>\t<path d=\"M255.5,124.2 L267.4,129.1  \" stroke=\"rgb(168, 255,  87)\"/>\t<path d=\"M267.4,129.1 L279.3,134.0  \" stroke=\"rgb(136, 255, 119)\"/>\t<path d=\"M279.3,134.0 L291.2,139.0  \" stroke=\"rgb(103, 255, 152)\"/>\t<path d=\"M291.2,139.0 L303.1,143.9  \" stroke=\"rgb( 71, 255, 184)\"/>\t<path d=\"M303.1,143.9 L315.0,148.8  \" stroke=\"rgb( 38, 255, 217)\"/>\t<path d=\"M315.0,148.8 L326.9,153.7  \" stroke=\"rgb(  0, 245, 255)\"/>\t<path d=\"M326.9,153.7 L338.9,158.6  \" stroke=\"rgb(  0, 212, 255)\"/>\t<path d=\"M338.9,158.6 L350.8,163.6  \" stroke=\"rgb(  0, 180, 255)\"/>\t<path d=\"M350.8,163.6 L362.7,168.5  \" stroke=\"rgb(  0, 148, 255)\"/>\t<path d=\"M362.7,168.5 L374.7,173.4  \" stroke=\"rgb(  0,  99, 255)\"/>\t<path d=\"M374.7,173.4 L386.6,178.3  \" stroke=\"rgb(  0,  67, 255)\"/>\t<path d=\"M386.6,178.3 L398.5,183.2  \" stroke=\"rgb(  0,  34, 255)\"/>\t<path d=\"M398.5,183.2 L410.4,188.2  \" stroke=\"rgb(  0,   2, 255)\"/>\t<path d=\"M410.4,188.2 L422.4,193.1  \" stroke=\"rgb(  0,   0, 225)\"/>\t<path d=\"M422.4,193.1 L434.3,198.0  \" stroke=\"rgb(  0,   0, 176)\"/>\t<path d=\"M434.3,198.0 L446.2,202.8  \" stroke=\"rgb(  0,   0, 144)\"/>\t<path d=\"M157.9,89.8 L169.9,94.7  \" stroke=\"rgb(255,  34,   0)\"/>\t<path d=\"M169.9,94.7 L181.8,99.7  \" stroke=\"rgb(255,  83,   0)\"/>\t<path d=\"M181.8,99.7 L193.7,104.6  \" stroke=\"rgb(255, 115,   0)\"/>\t<path d=\"M193.7,104.6 L205.7,109.5  \" stroke=\"rgb(255, 148,   0)\"/>\t<path d=\"M205.7,109.5 L217.6,114.4  \" stroke=\"rgb(255, 180,   0)\"/>\t<path d=\"M217.6,114.4 L229.5,119.3  \" stroke=\"rgb(255, 212,   0)\"/>\t<path d=\"M229.5,119.3 L241.4,124.3  \" stroke=\"rgb(249, 255,   6)\"/>\t<path d=\"M241.4,124.3 L253.4,129.2  \" stroke=\"rgb(217, 255,  38)\"/>\t<path d=\"M253.4,129.2 L265.3,134.1  \" stroke=\"rgb(184, 255,  71)\"/>\t<path d=\"M265.3,134.1 L277.2,139.0  \" stroke=\"rgb(152, 255, 103)\"/>\t<path d=\"M277.2,139.0 L289.1,143.9  \" stroke=\"rgb(103, 255, 152)\"/>\t<path d=\"M289.1,143.9 L301.0,148.9  \" stroke=\"rgb( 71, 255, 184)\"/>\t<path d=\"M301.0,148.9 L312.9,153.8  \" stroke=\"rgb( 38, 255, 217)\"/>\t<path d=\"M312.9,153.8 L324.8,158.7  \" stroke=\"rgb(  6, 255, 249)\"/>\t<path d=\"M324.8,158.7 L336.8,163.6  \" stroke=\"rgb(  0, 229, 255)\"/>\t<path d=\"M336.8,163.6 L348.7,168.5  \" stroke=\"rgb(  0, 180, 255)\"/>\t<path d=\"M348.7,168.5 L360.6,173.5  \" stroke=\"rgb(  0, 148, 255)\"/>\t<path d=\"M360.6,173.5 L372.6,178.4  \" stroke=\"rgb(  0, 115, 255)\"/>\t<path d=\"M372.6,178.4 L384.5,183.3  \" stroke=\"rgb(  0,  83, 255)\"/>\t<path d=\"M384.5,183.3 L396.4,188.2  \" stroke=\"rgb(  0,  34, 255)\"/>\t<path d=\"M396.4,188.2 L408.3,193.1  \" stroke=\"rgb(  0,   2, 255)\"/>\t<path d=\"M408.3,193.1 L420.3,198.1  \" stroke=\"rgb(  0,   0, 225)\"/>\t<path d=\"M420.3,198.1 L432.2,202.9  \" stroke=\"rgb(  0,   0, 192)\"/>\t<path d=\"M432.2,202.9 L444.1,207.8  \" stroke=\"rgb(  0,   0, 160)\"/>\t<path d=\"M155.8,94.8 L167.8,99.7  \" stroke=\"rgb(255,  34,   0)\"/>\t<path d=\"M167.8,99.7 L179.7,104.7  \" stroke=\"rgb(255,  67,   0)\"/>\t<path d=\"M179.7,104.7 L191.6,109.6  \" stroke=\"rgb(255,  99,   0)\"/>\t<path d=\"M191.6,109.6 L203.6,114.5  \" stroke=\"rgb(255, 148,   0)\"/>\t<path d=\"M203.6,114.5 L215.5,119.4  \" stroke=\"rgb(255, 180,   0)\"/>\t<path d=\"M215.5,119.4 L227.4,124.3  \" stroke=\"rgb(255, 212,   0)\"/>\t<path d=\"M227.4,124.3 L239.3,129.2  \" stroke=\"rgb(255, 245,   0)\"/>\t<path d=\"M239.3,129.2 L251.3,134.2  \" stroke=\"rgb(233, 255,  22)\"/>\t<path d=\"M251.3,134.2 L263.2,139.1  \" stroke=\"rgb(184, 255,  71)\"/>\t<path d=\"M263.2,139.1 L275.1,144.0  \" stroke=\"rgb(152, 255, 103)\"/>\t<path d=\"M275.1,144.0 L287.0,148.9  \" stroke=\"rgb(119, 255, 136)\"/>\t<path d=\"M287.0,148.9 L298.9,153.8  \" stroke=\"rgb( 87, 255, 168)\"/>\t<path d=\"M298.9,153.8 L310.8,158.8  \" stroke=\"rgb( 38, 255, 217)\"/>\t<path d=\"M310.8,158.8 L322.7,163.7  \" stroke=\"rgb(  6, 255, 249)\"/>\t<path d=\"M322.7,163.7 L334.7,168.6  \" stroke=\"rgb(  0, 229, 255)\"/>\t<path d=\"M334.7,168.6 L346.6,173.5  \" stroke=\"rgb(  0, 196, 255)\"/>\t<path d=\"M346.6,173.5 L358.5,178.4  \" stroke=\"rgb(  0, 164, 255)\"/>\t<path d=\"M358.5,178.4 L370.5,183.4  \" stroke=\"rgb(  0, 115, 255)\"/>\t<path d=\"M370.5,183.4 L382.4,188.3  \" stroke=\"rgb(  0,  83, 255)\"/>\t<path d=\"M382.4,188.3 L394.3,193.2  \" stroke=\"rgb(  0,  51, 255)\"/>\t<path d=\"M394.3,193.2 L406.2,198.1  \" stroke=\"rgb(  0,  18, 255)\"/>\t<path d=\"M406.2,198.1 L418.2,202.9  \" stroke=\"rgb(  0,   0, 225)\"/>\t<path d=\"M418.2,202.9 L430.1,207.9  \" stroke=\"rgb(  0,   0, 192)\"/>\t<path d=\"M430.1,207.9 L442.0,212.8  \" stroke=\"rgb(  0,   0, 160)\"/>\t<path d=\"M153.7,99.8 L165.7,104.7  \" stroke=\"rgb(255,  18,   0)\"/>\t<path d=\"M165.7,104.7 L177.6,109.6  \" stroke=\"rgb(255,  67,   0)\"/>\t<path d=\"M177.6,109.6 L189.5,114.6  \" stroke=\"rgb(255,  99,   0)\"/>\t<path d=\"M189.5,114.6 L201.4,119.5  \" stroke=\"rgb(255, 132,   0)\"/>\t<path d=\"M201.4,119.5 L213.4,124.4  \" stroke=\"rgb(255, 164,   0)\"/>\t<path d=\"M213.4,124.4 L225.3,129.3  \" stroke=\"rgb(255, 212,   0)\"/>\t<path d=\"M225.3,129.3 L237.2,134.2  \" stroke=\"rgb(255, 245,   0)\"/>\t<path d=\"M237.2,134.2 L249.2,139.2  \" stroke=\"rgb(233, 255,  22)\"/>\t<path d=\"M249.2,139.2 L261.1,144.1  \" stroke=\"rgb(200, 255,  55)\"/>\t<path d=\"M261.1,144.1 L273.0,149.0  \" stroke=\"rgb(168, 255,  87)\"/>\t<path d=\"M273.0,149.0 L284.8,153.9  \" stroke=\"rgb(119, 255, 136)\"/>\t<path d=\"M284.8,153.9 L296.8,158.8  \" stroke=\"rgb( 87, 255, 168)\"/>\t<path d=\"M296.8,158.8 L308.7,163.7  \" stroke=\"rgb( 55, 255, 200)\"/>\t<path d=\"M308.7,163.7 L320.6,168.7  \" stroke=\"rgb( 22, 255, 233)\"/>\t<path d=\"M320.6,168.7 L332.6,173.6  \" stroke=\"rgb(  0, 229, 255)\"/>\t<path d=\"M332.6,173.6 L344.5,178.5  \" stroke=\"rgb(  0, 196, 255)\"/>\t<path d=\"M344.5,178.5 L356.4,183.4  \" stroke=\"rgb(  0, 164, 255)\"/>\t<path d=\"M356.4,183.4 L368.3,188.3  \" stroke=\"rgb(  0, 132, 255)\"/>\t<path d=\"M368.3,188.3 L380.3,193.3  \" stroke=\"rgb(  0,  99, 255)\"/>\t<path d=\"M380.3,193.3 L392.2,198.2  \" stroke=\"rgb(  0,  51, 255)\"/>\t<path d=\"M392.2,198.2 L404.1,203.0  \" stroke=\"rgb(  0,  18, 255)\"/>\t<path d=\"M404.1,203.0 L416.1,207.9  \" stroke=\"rgb(  0,   0, 241)\"/>\t<path d=\"M416.1,207.9 L428.0,212.8  \" stroke=\"rgb(  0,   0, 208)\"/>\t<path d=\"M428.0,212.8 L439.9,217.8  \" stroke=\"rgb(  0,   0, 160)\"/>\t<path d=\"M151.6,104.8 L163.6,109.7  \" stroke=\"rgb(255,  18,   0)\"/>\t<path d=\"M163.6,109.7 L175.5,114.6  \" stroke=\"rgb(255,  51,   0)\"/>\t<path d=\"M175.5,114.6 L187.4,119.5  \" stroke=\"rgb(255,  83,   0)\"/>\t<path d=\"M187.4,119.5 L199.3,124.5  \" stroke=\"rgb(255, 132,   0)\"/>\t<path d=\"M199.3,124.5 L211.3,129.4  \" stroke=\"rgb(255, 164,   0)\"/>\t<path d=\"M211.3,129.4 L223.2,134.3  \" stroke=\"rgb(255, 196,   0)\"/>\t<path d=\"M223.2,134.3 L235.1,139.2  \" stroke=\"rgb(255, 229,   0)\"/>\t<path d=\"M235.1,139.2 L247.1,144.1  \" stroke=\"rgb(233, 255,  22)\"/>\t<path d=\"M247.1,144.1 L259.0,149.1  \" stroke=\"rgb(200, 255,  55)\"/>\t<path d=\"M259.0,149.1 L270.9,154.0  \" stroke=\"rgb(168, 255,  87)\"/>\t<path d=\"M270.9,154.0 L282.7,158.9  \" stroke=\"rgb(136, 255, 119)\"/>\t<path d=\"M282.7,158.9 L294.7,163.8  \" stroke=\"rgb(103, 255, 152)\"/>\t<path d=\"M294.7,163.8 L306.6,168.7  \" stroke=\"rgb( 55, 255, 200)\"/>\t<path d=\"M306.6,168.7 L318.5,173.7  \" stroke=\"rgb( 22, 255, 233)\"/>\t<path d=\"M318.5,173.7 L330.5,178.6  \" stroke=\"rgb(  0, 245, 255)\"/>\t<path d=\"M330.5,178.6 L342.4,183.5  \" stroke=\"rgb(  0, 212, 255)\"/>\t<path d=\"M342.4,183.5 L354.3,188.4  \" stroke=\"rgb(  0, 164, 255)\"/>\t<path d=\"M354.3,188.4 L366.2,193.3  \" stroke=\"rgb(  0, 132, 255)\"/>\t<path d=\"M366.2,193.3 L378.2,198.3  \" stroke=\"rgb(  0,  99, 255)\"/>\t<path d=\"M378.2,198.3 L390.1,203.1  \" stroke=\"rgb(  0,  67, 255)\"/>\t<path d=\"M390.1,203.1 L402.0,208.0  \" stroke=\"rgb(  0,  34, 255)\"/>\t<path d=\"M402.0,208.0 L414.0,212.9  \" stroke=\"rgb(  0,   0, 241)\"/>\t<path d=\"M414.0,212.9 L425.9,217.8  \" stroke=\"rgb(  0,   0, 208)\"/>\t<path d=\"M425.9,217.8 L437.8,222.7  \" stroke=\"rgb(  0,   0, 176)\"/>\t<path d=\"M149.5,109.8 L161.5,114.7  \" stroke=\"rgb(255,  18,   0)\"/>\t<path d=\"M161.5,114.7 L173.4,119.6  \" stroke=\"rgb(255,  51,   0)\"/>\t<path d=\"M173.4,119.6 L185.3,124.5  \" stroke=\"rgb(255,  83,   0)\"/>\t<path d=\"M185.3,124.5 L197.2,129.4  \" stroke=\"rgb(255, 115,   0)\"/>\t<path d=\"M197.2,129.4 L209.2,134.4  \" stroke=\"rgb(255, 148,   0)\"/>\t<path d=\"M209.2,134.4 L221.1,139.3  \" stroke=\"rgb(255, 196,   0)\"/>\t<path d=\"M221.1,139.3 L233.0,144.2  \" stroke=\"rgb(255, 229,   0)\"/>\t<path d=\"M233.0,144.2 L245.0,149.1  \" stroke=\"rgb(249, 255,   6)\"/>\t<path d=\"M245.0,149.1 L256.9,154.0  \" stroke=\"rgb(217, 255,  38)\"/>\t<path d=\"M256.9,154.0 L268.8,159.0  \" stroke=\"rgb(168, 255,  87)\"/>\t<path d=\"M268.8,159.0 L280.6,163.9  \" stroke=\"rgb(136, 255, 119)\"/>\t<path d=\"M280.6,163.9 L292.6,168.8  \" stroke=\"rgb(103, 255, 152)\"/>\t<path d=\"M292.6,168.8 L304.5,173.7  \" stroke=\"rgb( 71, 255, 184)\"/>\t<path d=\"M304.5,173.7 L316.4,178.6  \" stroke=\"rgb( 38, 255, 217)\"/>\t<path d=\"M316.4,178.6 L328.4,183.6  \" stroke=\"rgb(  0, 245, 255)\"/>\t<path d=\"M328.4,183.6 L340.3,188.5  \" stroke=\"rgb(  0, 212, 255)\"/>\t<path d=\"M340.3,188.5 L352.2,193.4  \" stroke=\"rgb(  0, 180, 255)\"/>\t<path d=\"M352.2,193.4 L364.1,198.3  \" stroke=\"rgb(  0, 148, 255)\"/>\t<path d=\"M364.1,198.3 L376.1,203.1  \" stroke=\"rgb(  0,  99, 255)\"/>\t<path d=\"M376.1,203.1 L388.0,208.1  \" stroke=\"rgb(  0,  67, 255)\"/>\t<path d=\"M388.0,208.1 L399.9,213.0  \" stroke=\"rgb(  0,  34, 255)\"/>\t<path d=\"M399.9,213.0 L411.9,217.9  \" stroke=\"rgb(  0,   2, 255)\"/>\t<path d=\"M411.9,217.9 L423.8,222.8  \" stroke=\"rgb(  0,   0, 225)\"/>\t<path d=\"M423.8,222.8 L435.7,227.7  \" stroke=\"rgb(  0,   0, 176)\"/>\t<path d=\"M147.4,114.8 L159.4,119.7  \" stroke=\"rgb(255,   2,   0)\"/>\t<path d=\"M159.4,119.7 L171.3,124.6  \" stroke=\"rgb(255,  34,   0)\"/>\t<path d=\"M171.3,124.6 L183.2,129.5  \" stroke=\"rgb(255,  83,   0)\"/>\t<path d=\"M183.2,129.5 L195.1,134.4  \" stroke=\"rgb(255, 115,   0)\"/>\t<path d=\"M195.1,134.4 L207.1,139.3  \" stroke=\"rgb(255, 148,   0)\"/>\t<path d=\"M207.1,139.3 L219.0,144.3  \" stroke=\"rgb(255, 180,   0)\"/>\t<path d=\"M219.0,144.3 L230.9,149.2  \" stroke=\"rgb(255, 212,   0)\"/>\t<path d=\"M230.9,149.2 L242.9,154.1  \" stroke=\"rgb(249, 255,   6)\"/>\t<path d=\"M242.9,154.1 L254.8,159.0  \" stroke=\"rgb(217, 255,  38)\"/>\t<path d=\"M254.8,159.0 L266.7,163.9  \" stroke=\"rgb(184, 255,  71)\"/>\t<path d=\"M266.7,163.9 L278.6,168.9  \" stroke=\"rgb(152, 255, 103)\"/>\t<path d=\"M278.6,168.9 L290.5,173.8  \" stroke=\"rgb(103, 255, 152)\"/>\t<path d=\"M290.5,173.8 L302.4,178.7  \" stroke=\"rgb( 71, 255, 184)\"/>\t<path d=\"M302.4,178.7 L314.3,183.6  \" stroke=\"rgb( 38, 255, 217)\"/>\t<path d=\"M314.3,183.6 L326.3,188.5  \" stroke=\"rgb(  6, 255, 249)\"/>\t<path d=\"M326.3,188.5 L338.2,193.5  \" stroke=\"rgb(  0, 229, 255)\"/>\t<path d=\"M338.2,193.5 L350.1,198.4  \" stroke=\"rgb(  0, 180, 255)\"/>\t<path d=\"M350.1,198.4 L362.0,203.2  \" stroke=\"rgb(  0, 148, 255)\"/>\t<path d=\"M362.0,203.2 L374.0,208.1  \" stroke=\"rgb(  0, 115, 255)\"/>\t<path d=\"M374.0,208.1 L385.9,213.0  \" stroke=\"rgb(  0,  83, 255)\"/>\t<path d=\"M385.9,213.0 L397.8,218.0  \" stroke=\"rgb(  0,  34, 255)\"/>\t<path d=\"M397.8,218.0 L409.8,222.9  \" stroke=\"rgb(  0,   2, 255)\"/>\t<path d=\"M409.8,222.9 L421.7,227.8  \" stroke=\"rgb(  0,   0, 225)\"/>\t<path d=\"M421.7,227.8 L433.6,232.7  \" stroke=\"rgb(  0,   0, 192)\"/>\t<path d=\"M145.3,119.7 L157.2,124.7  \" stroke=\"rgb(255,   2,   0)\"/>\t<path d=\"M157.2,124.7 L169.2,129.6  \" stroke=\"rgb(255,  34,   0)\"/>\t<path d=\"M169.2,129.6 L181.1,134.5  \" stroke=\"rgb(255,  67,   0)\"/>\t<path d=\"M181.1,134.5 L193.0,139.4  \" stroke=\"rgb(255,  99,   0)\"/>\t<path d=\"M193.0,139.4 L205.0,144.3  \" stroke=\"rgb(255, 148,   0)\"/>\t<path d=\"M205.0,144.3 L216.9,149.3  \" stroke=\"rgb(255, 180,   0)\"/>\t<path d=\"M216.9,149.3 L228.8,154.2  \" stroke=\"rgb(255, 212,   0)\"/>\t<path d=\"M228.8,154.2 L240.7,159.1  \" stroke=\"rgb(255, 245,   0)\"/>\t<path d=\"M240.7,159.1 L252.7,164.0  \" stroke=\"rgb(233, 255,  22)\"/>\t<path d=\"M252.7,164.0 L264.6,168.9  \" stroke=\"rgb(184, 255,  71)\"/>\t<path d=\"M264.6,168.9 L276.5,173.8  \" stroke=\"rgb(152, 255, 103)\"/>\t<path d=\"M276.5,173.8 L288.4,178.8  \" stroke=\"rgb(119, 255, 136)\"/>\t<path d=\"M288.4,178.8 L300.3,183.7  \" stroke=\"rgb( 87, 255, 168)\"/>\t<path d=\"M300.3,183.7 L312.2,188.6  \" stroke=\"rgb( 38, 255, 217)\"/>\t<path d=\"M312.2,188.6 L324.1,193.5  \" stroke=\"rgb(  6, 255, 249)\"/>\t<path d=\"M324.1,193.5 L336.1,198.4  \" stroke=\"rgb(  0, 229, 255)\"/>\t<path d=\"M336.1,198.4 L348.0,203.3  \" stroke=\"rgb(  0, 196, 255)\"/>\t<path d=\"M348.0,203.3 L359.9,208.2  \" stroke=\"rgb(  0, 164, 255)\"/>\t<path d=\"M359.9,208.2 L371.9,213.1  \" stroke=\"rgb(  0, 115, 255)\"/>\t<path d=\"M371.9,213.1 L383.8,218.0  \" stroke=\"rgb(  0,  83, 255)\"/>\t<path d=\"M383.8,218.0 L395.7,222.9  \" stroke=\"rgb(  0,  51, 255)\"/>\t<path d=\"M395.7,222.9 L407.6,227.9  \" stroke=\"rgb(  0,  18, 255)\"/>\t<path d=\"M407.6,227.9 L419.6,232.8  \" stroke=\"rgb(  0,   0, 225)\"/>\t<path d=\"M419.6,232.8 L431.5,237.7  \" stroke=\"rgb(  0,   0, 192)\"/>\t<path d=\"M143.2,124.7 L155.1,129.6  \" stroke=\"rgb(241,   0,   0)\"/>\t<path d=\"M155.1,129.6 L167.1,134.6  \" stroke=\"rgb(255,  18,   0)\"/>\t<path d=\"M167.1,134.6 L179.0,139.5  \" stroke=\"rgb(255,  67,   0)\"/>\t<path d=\"M179.0,139.5 L190.9,144.4  \" stroke=\"rgb(255,  99,   0)\"/>\t<path d=\"M190.9,144.4 L202.9,149.3  \" stroke=\"rgb(255, 132,   0)\"/>\t<path d=\"M202.9,149.3 L214.8,154.2  \" stroke=\"rgb(255, 164,   0)\"/>\t<path d=\"M214.8,154.2 L226.7,159.2  \" stroke=\"rgb(255, 212,   0)\"/>\t<path d=\"M226.7,159.2 L238.6,164.1  \" stroke=\"rgb(255, 245,   0)\"/>\t<path d=\"M238.6,164.1 L250.6,169.0  \" stroke=\"rgb(233, 255,  22)\"/>\t<path d=\"M250.6,169.0 L262.5,173.9  \" stroke=\"rgb(200, 255,  55)\"/>\t<path d=\"M262.5,173.9 L274.4,178.8  \" stroke=\"rgb(168, 255,  87)\"/>\t<path d=\"M274.4,178.8 L286.3,183.8  \" stroke=\"rgb(119, 255, 136)\"/>\t<path d=\"M286.3,183.8 L298.2,188.7  \" stroke=\"rgb( 87, 255, 168)\"/>\t<path d=\"M298.2,188.7 L310.1,193.6  \" stroke=\"rgb( 55, 255, 200)\"/>\t<path d=\"M310.1,193.6 L322.0,198.5  \" stroke=\"rgb( 22, 255, 233)\"/>\t<path d=\"M322.0,198.5 L334.0,203.3  \" stroke=\"rgb(  0, 229, 255)\"/>\t<path d=\"M334.0,203.3 L345.9,208.3  \" stroke=\"rgb(  0, 196, 255)\"/>\t<path d=\"M345.9,208.3 L357.8,213.2  \" stroke=\"rgb(  0, 164, 255)\"/>\t<path d=\"M357.8,213.2 L369.8,218.1  \" stroke=\"rgb(  0, 132, 255)\"/>\t<path d=\"M369.8,218.1 L381.7,223.0  \" stroke=\"rgb(  0,  99, 255)\"/>\t<path d=\"M381.7,223.0 L393.6,227.9  \" stroke=\"rgb(  0,  51, 255)\"/>\t<path d=\"M393.6,227.9 L405.5,232.8  \" stroke=\"rgb(  0,  18, 255)\"/>\t<path d=\"M405.5,232.8 L417.5,237.8  \" stroke=\"rgb(  0,   0, 241)\"/>\t<path d=\"M417.5,237.8 L429.4,242.7  \" stroke=\"rgb(  0,   0, 208)\"/>\t<path d=\"M141.1,129.7 L153.0,134.6  \" stroke=\"rgb(241,   0,   0)\"/>\t<path d=\"M153.0,134.6 L165.0,139.5  \" stroke=\"rgb(255,  18,   0)\"/>\t<path d=\"M165.0,139.5 L176.9,144.5  \" stroke=\"rgb(255,  51,   0)\"/>\t<path d=\"M176.9,144.5 L188.8,149.4  \" stroke=\"rgb(255,  83,   0)\"/>\t<path d=\"M188.8,149.4 L200.8,154.3  \" stroke=\"rgb(255, 132,   0)\"/>\t<path d=\"M200.8,154.3 L212.7,159.2  \" stroke=\"rgb(255, 164,   0)\"/>\t<path d=\"M212.7,159.2 L224.6,164.1  \" stroke=\"rgb(255, 196,   0)\"/>\t<path d=\"M224.6,164.1 L236.5,169.1  \" stroke=\"rgb(255, 229,   0)\"/>\t<path d=\"M236.5,169.1 L248.5,174.0  \" stroke=\"rgb(233, 255,  22)\"/>\t<path d=\"M248.5,174.0 L260.4,178.9  \" stroke=\"rgb(200, 255,  55)\"/>\t<path d=\"M260.4,178.9 L272.3,183.8  \" stroke=\"rgb(168, 255,  87)\"/>\t<path d=\"M272.3,183.8 L284.2,188.7  \" stroke=\"rgb(136, 255, 119)\"/>\t<path d=\"M284.2,188.7 L296.1,193.7  \" stroke=\"rgb(103, 255, 152)\"/>\t<path d=\"M296.1,193.7 L308.0,198.6  \" stroke=\"rgb( 55, 255, 200)\"/>\t<path d=\"M308.0,198.6 L319.9,203.4  \" stroke=\"rgb( 22, 255, 233)\"/>\t<path d=\"M319.9,203.4 L331.9,208.3  \" stroke=\"rgb(  0, 245, 255)\"/>\t<path d=\"M331.9,208.3 L343.8,213.2  \" stroke=\"rgb(  0, 212, 255)\"/>\t<path d=\"M343.8,213.2 L355.7,218.2  \" stroke=\"rgb(  0, 164, 255)\"/>\t<path d=\"M355.7,218.2 L367.7,223.1  \" stroke=\"rgb(  0, 132, 255)\"/>\t<path d=\"M367.7,223.1 L379.6,228.0  \" stroke=\"rgb(  0,  99, 255)\"/>\t<path d=\"M379.6,228.0 L391.5,232.9  \" stroke=\"rgb(  0,  67, 255)\"/>\t<path d=\"M391.5,232.9 L403.4,237.8  \" stroke=\"rgb(  0,  34, 255)\"/>\t<path d=\"M403.4,237.8 L415.4,242.8  \" stroke=\"rgb(  0,   0, 241)\"/>\t<path d=\"M415.4,242.8 L427.3,247.7  \" stroke=\"rgb(  0,   0, 208)\"/>\t<path d=\"M139.0,134.7 L150.9,139.6  \" stroke=\"rgb(225,   0,   0)\"/>\t<path d=\"M150.9,139.6 L162.9,144.5  \" stroke=\"rgb(255,  18,   0)\"/>\t<path d=\"M162.9,144.5 L174.8,149.4  \" stroke=\"rgb(255,  51,   0)\"/>\t<path d=\"M174.8,149.4 L186.7,154.4  \" stroke=\"rgb(255,  83,   0)\"/>\t<path d=\"M186.7,154.4 L198.7,159.3  \" stroke=\"rgb(255, 115,   0)\"/>\t<path d=\"M198.7,159.3 L210.6,164.2  \" stroke=\"rgb(255, 148,   0)\"/>\t<path d=\"M210.6,164.2 L222.5,169.1  \" stroke=\"rgb(255, 196,   0)\"/>\t<path d=\"M222.5,169.1 L234.4,174.0  \" stroke=\"rgb(255, 229,   0)\"/>\t<path d=\"M234.4,174.0 L246.4,179.0  \" stroke=\"rgb(249, 255,   6)\"/>\t<path d=\"M246.4,179.0 L258.3,183.9  \" stroke=\"rgb(217, 255,  38)\"/>\t<path d=\"M258.3,183.9 L270.2,188.8  \" stroke=\"rgb(168, 255,  87)\"/>\t<path d=\"M270.2,188.8 L282.1,193.7  \" stroke=\"rgb(136, 255, 119)\"/>\t<path d=\"M282.1,193.7 L294.0,198.6  \" stroke=\"rgb(103, 255, 152)\"/>\t<path d=\"M294.0,198.6 L305.9,203.5  \" stroke=\"rgb( 71, 255, 184)\"/>\t<path d=\"M305.9,203.5 L317.8,208.4  \" stroke=\"rgb( 38, 255, 217)\"/>\t<path d=\"M317.8,208.4 L329.8,213.3  \" stroke=\"rgb(  0, 245, 255)\"/>\t<path d=\"M329.8,213.3 L341.7,218.2  \" stroke=\"rgb(  0, 212, 255)\"/>\t<path d=\"M341.7,218.2 L353.6,223.1  \" stroke=\"rgb(  0, 180, 255)\"/>\t<path d=\"M353.6,223.1 L365.6,228.1  \" stroke=\"rgb(  0, 148, 255)\"/>\t<path d=\"M365.6,228.1 L377.5,233.0  \" stroke=\"rgb(  0,  99, 255)\"/>\t<path d=\"M377.5,233.0 L389.4,237.9  \" stroke=\"rgb(  0,  67, 255)\"/>\t<path d=\"M389.4,237.9 L401.3,242.8  \" stroke=\"rgb(  0,  34, 255)\"/>\t<path d=\"M401.3,242.8 L413.3,247.7  \" stroke=\"rgb(  0,   2, 255)\"/>\t<path d=\"M413.3,247.7 L425.2,252.7  \" stroke=\"rgb(  0,   0, 225)\"/>\t<path d=\"M136.9,139.7 L148.8,144.6  \" stroke=\"rgb(225,   0,   0)\"/>\t<path d=\"M148.8,144.6 L160.8,149.5  \" stroke=\"rgb(255,   2,   0)\"/>\t<path d=\"M160.8,149.5 L172.7,154.4  \" stroke=\"rgb(255,  34,   0)\"/>\t<path d=\"M172.7,154.4 L184.6,159.4  \" stroke=\"rgb(255,  83,   0)\"/>\t<path d=\"M184.6,159.4 L196.6,164.3  \" stroke=\"rgb(255, 115,   0)\"/>\t<path d=\"M196.6,164.3 L208.5,169.2  \" stroke=\"rgb(255, 148,   0)\"/>\t<path d=\"M208.5,169.2 L220.4,174.1  \" stroke=\"rgb(255, 180,   0)\"/>\t<path d=\"M220.4,174.1 L232.3,179.0  \" stroke=\"rgb(255, 212,   0)\"/>\t<path d=\"M232.3,179.0 L244.3,184.0  \" stroke=\"rgb(249, 255,   6)\"/>\t<path d=\"M244.3,184.0 L256.2,188.9  \" stroke=\"rgb(217, 255,  38)\"/>\t<path d=\"M256.2,188.9 L268.1,193.8  \" stroke=\"rgb(184, 255,  71)\"/>\t<path d=\"M268.1,193.8 L280.0,198.7  \" stroke=\"rgb(152, 255, 103)\"/>\t<path d=\"M280.0,198.7 L291.9,203.5  \" stroke=\"rgb(103, 255, 152)\"/>\t<path d=\"M291.9,203.5 L303.8,208.4  \" stroke=\"rgb( 71, 255, 184)\"/>\t<path d=\"M303.8,208.4 L315.7,213.4  \" stroke=\"rgb( 38, 255, 217)\"/>\t<path d=\"M315.7,213.4 L327.7,218.3  \" stroke=\"rgb(  6, 255, 249)\"/>\t<path d=\"M327.7,218.3 L339.6,223.2  \" stroke=\"rgb(  0, 229, 255)\"/>\t<path d=\"M339.6,223.2 L351.5,228.1  \" stroke=\"rgb(  0, 180, 255)\"/>\t<path d=\"M351.5,228.1 L363.4,233.0  \" stroke=\"rgb(  0, 148, 255)\"/>\t<path d=\"M363.4,233.0 L375.4,238.0  \" stroke=\"rgb(  0, 115, 255)\"/>\t<path d=\"M375.4,238.0 L387.3,242.9  \" stroke=\"rgb(  0,  83, 255)\"/>\t<path d=\"M387.3,242.9 L399.2,247.8  \" stroke=\"rgb(  0,  34, 255)\"/>\t<path d=\"M399.2,247.8 L411.2,252.7  \" stroke=\"rgb(  0,   2, 255)\"/>\t<path d=\"M411.2,252.7 L423.1,257.6  \" stroke=\"rgb(  0,   0, 225)\"/>\t<path d=\"M134.8,144.7 L146.7,149.6  \" stroke=\"rgb(208,   0,   0)\"/>\t<path d=\"M146.7,149.6 L158.7,154.5  \" stroke=\"rgb(255,   2,   0)\"/>\t<path d=\"M158.7,154.5 L170.6,159.4  \" stroke=\"rgb(255,  34,   0)\"/>\t<path d=\"M170.6,159.4 L182.5,164.3  \" stroke=\"rgb(255,  67,   0)\"/>\t<path d=\"M182.5,164.3 L194.4,169.3  \" stroke=\"rgb(255,  99,   0)\"/>\t<path d=\"M194.4,169.3 L206.4,174.2  \" stroke=\"rgb(255, 148,   0)\"/>\t<path d=\"M206.4,174.2 L218.3,179.1  \" stroke=\"rgb(255, 180,   0)\"/>\t<path d=\"M218.3,179.1 L230.2,184.0  \" stroke=\"rgb(255, 212,   0)\"/>\t<path d=\"M230.2,184.0 L242.2,188.9  \" stroke=\"rgb(255, 245,   0)\"/>\t<path d=\"M242.2,188.9 L254.1,193.9  \" stroke=\"rgb(233, 255,  22)\"/>\t<path d=\"M254.1,193.9 L266.0,198.8  \" stroke=\"rgb(184, 255,  71)\"/>\t<path d=\"M266.0,198.8 L277.9,203.6  \" stroke=\"rgb(152, 255, 103)\"/>\t<path d=\"M277.9,203.6 L289.8,208.5  \" stroke=\"rgb(119, 255, 136)\"/>\t<path d=\"M289.8,208.5 L301.7,213.4  \" stroke=\"rgb( 87, 255, 168)\"/>\t<path d=\"M301.7,213.4 L313.6,218.4  \" stroke=\"rgb( 38, 255, 217)\"/>\t<path d=\"M313.6,218.4 L325.6,223.3  \" stroke=\"rgb(  6, 255, 249)\"/>\t<path d=\"M325.6,223.3 L337.5,228.2  \" stroke=\"rgb(  0, 229, 255)\"/>\t<path d=\"M337.5,228.2 L349.4,233.1  \" stroke=\"rgb(  0, 196, 255)\"/>\t<path d=\"M349.4,233.1 L361.3,238.0  \" stroke=\"rgb(  0, 164, 255)\"/>\t<path d=\"M361.3,238.0 L373.3,242.9  \" stroke=\"rgb(  0, 115, 255)\"/>\t<path d=\"M373.3,242.9 L385.2,247.9  \" stroke=\"rgb(  0,  83, 255)\"/>\t<path d=\"M385.2,247.9 L397.1,252.8  \" stroke=\"rgb(  0,  51, 255)\"/>\t<path d=\"M397.1,252.8 L409.1,257.7  \" stroke=\"rgb(  0,  18, 255)\"/>\t<path d=\"M409.1,257.7 L421.0,262.6  \" stroke=\"rgb(  0,   0, 225)\"/>\t<path d=\"M132.7,149.6 L144.6,154.6  \" stroke=\"rgb(208,   0,   0)\"/>\t<path d=\"M144.6,154.6 L156.6,159.5  \" stroke=\"rgb(241,   0,   0)\"/>\t<path d=\"M156.6,159.5 L168.5,164.4  \" stroke=\"rgb(255,  18,   0)\"/>\t<path d=\"M168.5,164.4 L180.4,169.3  \" stroke=\"rgb(255,  67,   0)\"/>\t<path d=\"M180.4,169.3 L192.3,174.2  \" stroke=\"rgb(255,  99,   0)\"/>\t<path d=\"M192.3,174.2 L204.3,179.2  \" stroke=\"rgb(255, 132,   0)\"/>\t<path d=\"M204.3,179.2 L216.2,184.1  \" stroke=\"rgb(255, 164,   0)\"/>\t<path d=\"M216.2,184.1 L228.1,189.0  \" stroke=\"rgb(255, 212,   0)\"/>\t<path d=\"M228.1,189.0 L240.1,193.9  \" stroke=\"rgb(255, 245,   0)\"/>\t<path d=\"M240.1,193.9 L252.0,198.8  \" stroke=\"rgb(233, 255,  22)\"/>\t<path d=\"M252.0,198.8 L263.9,203.7  \" stroke=\"rgb(200, 255,  55)\"/>\t<path d=\"M263.9,203.7 L275.8,208.6  \" stroke=\"rgb(168, 255,  87)\"/>\t<path d=\"M275.8,208.6 L287.7,213.5  \" stroke=\"rgb(119, 255, 136)\"/>\t<path d=\"M287.7,213.5 L299.6,218.4  \" stroke=\"rgb( 87, 255, 168)\"/>\t<path d=\"M299.6,218.4 L311.5,223.3  \" stroke=\"rgb( 55, 255, 200)\"/>\t<path d=\"M311.5,223.3 L323.5,228.3  \" stroke=\"rgb( 22, 255, 233)\"/>\t<path d=\"M323.5,228.3 L335.4,233.2  \" stroke=\"rgb(  0, 229, 255)\"/>\t<path d=\"M335.4,233.2 L347.3,238.1  \" stroke=\"rgb(  0, 196, 255)\"/>\t<path d=\"M347.3,238.1 L359.2,243.0  \" stroke=\"rgb(  0, 164, 255)\"/>\t<path d=\"M359.2,243.0 L371.2,247.9  \" stroke=\"rgb(  0, 132, 255)\"/>\t<path d=\"M371.2,247.9 L383.1,252.9  \" stroke=\"rgb(  0,  99, 255)\"/>\t<path d=\"M383.1,252.9 L395.0,257.8  \" stroke=\"rgb(  0,  51, 255)\"/>\t<path d=\"M395.0,257.8 L407.0,262.7  \" stroke=\"rgb(  0,  18, 255)\"/>\t<path d=\"M407.0,262.7 L418.9,267.6  \" stroke=\"rgb(  0,   0, 241)\"/>\t<path d=\"M130.6,154.6 L142.5,159.5  \" stroke=\"rgb(208,   0,   0)\"/>\t<path d=\"M142.5,159.5 L154.5,164.5  \" stroke=\"rgb(241,   0,   0)\"/>\t<path d=\"M154.5,164.5 L166.4,169.4  \" stroke=\"rgb(255,  18,   0)\"/>\t<path d=\"M166.4,169.4 L178.3,174.3  \" stroke=\"rgb(255,  51,   0)\"/>\t<path d=\"M178.3,174.3 L190.2,179.2  \" stroke=\"rgb(255,  83,   0)\"/>\t<path d=\"M190.2,179.2 L202.2,184.1  \" stroke=\"rgb(255, 132,   0)\"/>\t<path d=\"M202.2,184.1 L214.1,189.1  \" stroke=\"rgb(255, 164,   0)\"/>\t<path d=\"M214.1,189.1 L226.0,194.0  \" stroke=\"rgb(255, 196,   0)\"/>\t<path d=\"M226.0,194.0 L238.0,198.9  \" stroke=\"rgb(255, 229,   0)\"/>\t<path d=\"M238.0,198.9 L249.9,203.7  \" stroke=\"rgb(233, 255,  22)\"/>\t<path d=\"M249.9,203.7 L261.8,208.6  \" stroke=\"rgb(200, 255,  55)\"/>\t<path d=\"M261.8,208.6 L273.7,213.6  \" stroke=\"rgb(168, 255,  87)\"/>\t<path d=\"M273.7,213.6 L285.6,218.5  \" stroke=\"rgb(136, 255, 119)\"/>\t<path d=\"M285.6,218.5 L297.5,223.4  \" stroke=\"rgb(103, 255, 152)\"/>\t<path d=\"M297.5,223.4 L309.4,228.3  \" stroke=\"rgb( 55, 255, 200)\"/>\t<path d=\"M309.4,228.3 L321.4,233.2  \" stroke=\"rgb( 22, 255, 233)\"/>\t<path d=\"M321.4,233.2 L333.3,238.2  \" stroke=\"rgb(  0, 245, 255)\"/>\t<path d=\"M333.3,238.2 L345.2,243.1  \" stroke=\"rgb(  0, 212, 255)\"/>\t<path d=\"M345.2,243.1 L357.1,248.0  \" stroke=\"rgb(  0, 164, 255)\"/>\t<path d=\"M357.1,248.0 L369.1,252.9  \" stroke=\"rgb(  0, 132, 255)\"/>\t<path d=\"M369.1,252.9 L381.0,257.8  \" stroke=\"rgb(  0,  99, 255)\"/>\t<path d=\"M381.0,257.8 L392.9,262.8  \" stroke=\"rgb(  0,  67, 255)\"/>\t<path d=\"M392.9,262.8 L404.9,267.7  \" stroke=\"rgb(  0,  34, 255)\"/>\t<path d=\"M404.9,267.7 L416.8,272.6  \" stroke=\"rgb(  0,   0, 241)\"/>\t<path d=\"M128.5,159.6 L140.4,164.5  \" stroke=\"rgb(192,   0,   0)\"/>\t<path d=\"M140.4,164.5 L152.4,169.5  \" stroke=\"rgb(225,   0,   0)\"/>\t<path d=\"M152.4,169.5 L164.3,174.4  \" stroke=\"rgb(255,  18,   0)\"/>\t<path d=\"M164.3,174.4 L176.2,179.3  \" stroke=\"rgb(255,  51,   0)\"/>\t<path d=\"M176.2,179.3 L188.1,184.2  \" stroke=\"rgb(255,  83,   0)\"/>\t<path d=\"M188.1,184.2 L200.1,189.1  \" stroke=\"rgb(255, 115,   0)\"/>\t<path d=\"M200.1,189.1 L212.0,194.1  \" stroke=\"rgb(255, 148,   0)\"/>\t<path d=\"M212.0,194.1 L223.9,199.0  \" stroke=\"rgb(255, 196,   0)\"/>\t<path d=\"M223.9,199.0 L235.9,203.8  \" stroke=\"rgb(255, 229,   0)\"/>\t<path d=\"M235.9,203.8 L247.8,208.7  \" stroke=\"rgb(249, 255,   6)\"/>\t<path d=\"M247.8,208.7 L259.7,213.6  \" stroke=\"rgb(217, 255,  38)\"/>\t<path d=\"M259.7,213.6 L271.6,218.5  \" stroke=\"rgb(168, 255,  87)\"/>\t<path d=\"M271.6,218.5 L283.5,223.5  \" stroke=\"rgb(136, 255, 119)\"/>\t<path d=\"M283.5,223.5 L295.4,228.4  \" stroke=\"rgb(103, 255, 152)\"/>\t<path d=\"M295.4,228.4 L307.3,233.3  \" stroke=\"rgb( 71, 255, 184)\"/>\t<path d=\"M307.3,233.3 L319.3,238.2  \" stroke=\"rgb( 38, 255, 217)\"/>\t<path d=\"M319.3,238.2 L331.2,243.1  \" stroke=\"rgb(  0, 245, 255)\"/>\t<path d=\"M331.2,243.1 L343.1,248.1  \" stroke=\"rgb(  0, 212, 255)\"/>\t<path d=\"M343.1,248.1 L355.0,253.0  \" stroke=\"rgb(  0, 180, 255)\"/>\t<path d=\"M355.0,253.0 L367.0,257.9  \" stroke=\"rgb(  0, 148, 255)\"/>\t<path d=\"M367.0,257.9 L378.9,262.8  \" stroke=\"rgb(  0,  99, 255)\"/>\t<path d=\"M378.9,262.8 L390.8,267.7  \" stroke=\"rgb(  0,  67, 255)\"/>\t<path d=\"M390.8,267.7 L402.8,272.7  \" stroke=\"rgb(  0,  34, 255)\"/>\t<path d=\"M402.8,272.7 L414.7,277.6  \" stroke=\"rgb(  0,   2, 255)\"/>\t<path d=\"M126.4,164.6 L138.3,169.5  \" stroke=\"rgb(192,   0,   0)\"/>\t<path d=\"M138.3,169.5 L150.2,174.4  \" stroke=\"rgb(225,   0,   0)\"/>\t<path d=\"M150.2,174.4 L162.2,179.4  \" stroke=\"rgb(255,   2,   0)\"/>\t<path d=\"M162.2,179.4 L174.1,184.3  \" stroke=\"rgb(255,  34,   0)\"/>\t<path d=\"M174.1,184.3 L186.0,189.2  \" stroke=\"rgb(255,  83,   0)\"/>\t<path d=\"M186.0,189.2 L198.0,194.1  \" stroke=\"rgb(255, 115,   0)\"/>\t<path d=\"M198.0,194.1 L209.9,199.0  \" stroke=\"rgb(255, 148,   0)\"/>\t<path d=\"M209.9,199.0 L221.8,203.9  \" stroke=\"rgb(255, 180,   0)\"/>\t<path d=\"M221.8,203.9 L233.7,208.8  \" stroke=\"rgb(255, 212,   0)\"/>\t<path d=\"M233.7,208.8 L245.7,213.7  \" stroke=\"rgb(249, 255,   6)\"/>\t<path d=\"M245.7,213.7 L257.6,218.6  \" stroke=\"rgb(217, 255,  38)\"/>\t<path d=\"M257.6,218.6 L269.5,223.5  \" stroke=\"rgb(184, 255,  71)\"/>\t<path d=\"M269.5,223.5 L281.4,228.5  \" stroke=\"rgb(152, 255, 103)\"/>\t<path d=\"M281.4,228.5 L293.3,233.4  \" stroke=\"rgb(103, 255, 152)\"/>\t<path d=\"M293.3,233.4 L305.2,238.3  \" stroke=\"rgb( 71, 255, 184)\"/>\t<path d=\"M305.2,238.3 L317.1,243.2  \" stroke=\"rgb( 38, 255, 217)\"/>\t<path d=\"M317.1,243.2 L329.1,248.1  \" stroke=\"rgb(  6, 255, 249)\"/>\t<path d=\"M329.1,248.1 L341.0,253.0  \" stroke=\"rgb(  0, 229, 255)\"/>\t<path d=\"M341.0,253.0 L352.9,258.0  \" stroke=\"rgb(  0, 180, 255)\"/>\t<path d=\"M352.9,258.0 L364.9,262.9  \" stroke=\"rgb(  0, 148, 255)\"/>\t<path d=\"M364.9,262.9 L376.8,267.8  \" stroke=\"rgb(  0, 115, 255)\"/>\t<path d=\"M376.8,267.8 L388.7,272.7  \" stroke=\"rgb(  0,  83, 255)\"/>\t<path d=\"M388.7,272.7 L400.6,277.6  \" stroke=\"rgb(  0,  34, 255)\"/>\t<path d=\"M400.6,277.6 L412.6,282.6  \" stroke=\"rgb(  0,   2, 255)\"/>\t<path d=\"M124.3,169.6 L136.2,174.5  \" stroke=\"rgb(176,   0,   0)\"/>\t<path d=\"M136.2,174.5 L148.1,179.4  \" stroke=\"rgb(208,   0,   0)\"/>\t<path d=\"M148.1,179.4 L160.1,184.3  \" stroke=\"rgb(255,   2,   0)\"/>\t<path d=\"M160.1,184.3 L172.0,189.3  \" stroke=\"rgb(255,  34,   0)\"/>\t<path d=\"M172.0,189.3 L183.9,194.2  \" stroke=\"rgb(255,  67,   0)\"/>\t<path d=\"M183.9,194.2 L195.9,199.1  \" stroke=\"rgb(255,  99,   0)\"/>\t<path d=\"M195.9,199.1 L207.8,203.9  \" stroke=\"rgb(255, 148,   0)\"/>\t<path d=\"M207.8,203.9 L219.7,208.8  \" stroke=\"rgb(255, 180,   0)\"/>\t<path d=\"M219.7,208.8 L231.6,213.8  \" stroke=\"rgb(255, 212,   0)\"/>\t<path d=\"M231.6,213.8 L243.6,218.7  \" stroke=\"rgb(255, 245,   0)\"/>\t<path d=\"M243.6,218.7 L255.5,223.6  \" stroke=\"rgb(233, 255,  22)\"/>\t<path d=\"M255.5,223.6 L267.4,228.5  \" stroke=\"rgb(184, 255,  71)\"/>\t<path d=\"M267.4,228.5 L279.4,233.4  \" stroke=\"rgb(152, 255, 103)\"/>\t<path d=\"M279.4,233.4 L291.2,238.4  \" stroke=\"rgb(119, 255, 136)\"/>\t<path d=\"M291.2,238.4 L303.1,243.3  \" stroke=\"rgb( 87, 255, 168)\"/>\t<path d=\"M303.1,243.3 L315.0,248.2  \" stroke=\"rgb( 38, 255, 217)\"/>\t<path d=\"M315.0,248.2 L327.0,253.1  \" stroke=\"rgb(  6, 255, 249)\"/>\t<path d=\"M327.0,253.1 L338.9,258.0  \" stroke=\"rgb(  0, 229, 255)\"/>\t<path d=\"M338.9,258.0 L350.8,263.0  \" stroke=\"rgb(  0, 196, 255)\"/>\t<path d=\"M350.8,263.0 L362.8,267.9  \" stroke=\"rgb(  0, 164, 255)\"/>\t<path d=\"M362.8,267.9 L374.7,272.8  \" stroke=\"rgb(  0, 115, 255)\"/>\t<path d=\"M374.7,272.8 L386.6,277.7  \" stroke=\"rgb(  0,  83, 255)\"/>\t<path d=\"M386.6,277.7 L398.5,282.6  \" stroke=\"rgb(  0,  51, 255)\"/>\t<path d=\"M398.5,282.6 L410.5,287.5  \" stroke=\"rgb(  0,  18, 255)\"/>\t<path d=\"M122.2,174.6 L134.1,179.5  \" stroke=\"rgb(176,   0,   0)\"/>\t<path d=\"M134.1,179.5 L146.0,184.4  \" stroke=\"rgb(208,   0,   0)\"/>\t<path d=\"M146.0,184.4 L158.0,189.3  \" stroke=\"rgb(241,   0,   0)\"/>\t<path d=\"M158.0,189.3 L169.9,194.2  \" stroke=\"rgb(255,  18,   0)\"/>\t<path d=\"M169.9,194.2 L181.8,199.2  \" stroke=\"rgb(255,  67,   0)\"/>\t<path d=\"M181.8,199.2 L193.8,204.0  \" stroke=\"rgb(255,  99,   0)\"/>\t<path d=\"M193.8,204.0 L205.7,208.9  \" stroke=\"rgb(255, 132,   0)\"/>\t<path d=\"M205.7,208.9 L217.6,213.8  \" stroke=\"rgb(255, 164,   0)\"/>\t<path d=\"M217.6,213.8 L229.5,218.7  \" stroke=\"rgb(255, 212,   0)\"/>\t<path d=\"M229.5,218.7 L241.5,223.7  \" stroke=\"rgb(255, 245,   0)\"/>\t<path d=\"M241.5,223.7 L253.4,228.6  \" stroke=\"rgb(233, 255,  22)\"/>\t<path d=\"M253.4,228.6 L265.3,233.5  \" stroke=\"rgb(200, 255,  55)\"/>\t<path d=\"M265.3,233.5 L277.3,238.4  \" stroke=\"rgb(168, 255,  87)\"/>\t<path d=\"M277.3,238.4 L289.1,243.3  \" stroke=\"rgb(119, 255, 136)\"/>\t<path d=\"M289.1,243.3 L301.0,248.3  \" stroke=\"rgb( 87, 255, 168)\"/>\t<path d=\"M301.0,248.3 L312.9,253.2  \" stroke=\"rgb( 55, 255, 200)\"/>\t<path d=\"M312.9,253.2 L324.9,258.1  \" stroke=\"rgb( 22, 255, 233)\"/>\t<path d=\"M324.9,258.1 L336.8,263.0  \" stroke=\"rgb(  0, 229, 255)\"/>\t<path d=\"M336.8,263.0 L348.7,267.9  \" stroke=\"rgb(  0, 196, 255)\"/>\t<path d=\"M348.7,267.9 L360.7,272.9  \" stroke=\"rgb(  0, 164, 255)\"/>\t<path d=\"M360.7,272.9 L372.6,277.8  \" stroke=\"rgb(  0, 132, 255)\"/>\t<path d=\"M372.6,277.8 L384.5,282.7  \" stroke=\"rgb(  0,  99, 255)\"/>\t<path d=\"M384.5,282.7 L396.4,287.6  \" stroke=\"rgb(  0,  51, 255)\"/>\t<path d=\"M396.4,287.6 L408.4,292.5  \" stroke=\"rgb(  0,  18, 255)\"/>\t<path d=\"M120.1,179.6 L132.0,184.5  \" stroke=\"rgb(160,   0,   0)\"/>\t<path d=\"M132.0,184.5 L143.9,189.4  \" stroke=\"rgb(208,   0,   0)\"/>\t<path d=\"M143.9,189.4 L155.9,194.3  \" stroke=\"rgb(241,   0,   0)\"/>\t<path d=\"M155.9,194.3 L167.8,199.2  \" stroke=\"rgb(255,  18,   0)\"/>\t<path d=\"M167.8,199.2 L179.7,204.1  \" stroke=\"rgb(255,  51,   0)\"/>\t<path d=\"M179.7,204.1 L191.7,209.0  \" stroke=\"rgb(255,  83,   0)\"/>\t<path d=\"M191.7,209.0 L203.6,213.9  \" stroke=\"rgb(255, 132,   0)\"/>\t<path d=\"M203.6,213.9 L215.5,218.8  \" stroke=\"rgb(255, 164,   0)\"/>\t<path d=\"M215.5,218.8 L227.4,223.7  \" stroke=\"rgb(255, 196,   0)\"/>\t<path d=\"M227.4,223.7 L239.4,228.6  \" stroke=\"rgb(255, 229,   0)\"/>\t<path d=\"M239.4,228.6 L251.3,233.6  \" stroke=\"rgb(233, 255,  22)\"/>\t<path d=\"M251.3,233.6 L263.2,238.5  \" stroke=\"rgb(200, 255,  55)\"/>\t<path d=\"M263.2,238.5 L275.2,243.4  \" stroke=\"rgb(168, 255,  87)\"/>\t<path d=\"M275.2,243.4 L287.0,248.3  \" stroke=\"rgb(136, 255, 119)\"/>\t<path d=\"M287.0,248.3 L298.9,253.2  \" stroke=\"rgb(103, 255, 152)\"/>\t<path d=\"M298.9,253.2 L310.8,258.2  \" stroke=\"rgb( 55, 255, 200)\"/>\t<path d=\"M310.8,258.2 L322.8,263.1  \" stroke=\"rgb( 22, 255, 233)\"/>\t<path d=\"M322.8,263.1 L334.7,268.0  \" stroke=\"rgb(  0, 245, 255)\"/>\t<path d=\"M334.7,268.0 L346.6,272.9  \" stroke=\"rgb(  0, 212, 255)\"/>\t<path d=\"M346.6,272.9 L358.6,277.8  \" stroke=\"rgb(  0, 164, 255)\"/>\t<path d=\"M358.6,277.8 L370.5,282.8  \" stroke=\"rgb(  0, 132, 255)\"/>\t<path d=\"M370.5,282.8 L382.4,287.7  \" stroke=\"rgb(  0,  99, 255)\"/>\t<path d=\"M382.4,287.7 L394.3,292.6  \" stroke=\"rgb(  0,  67, 255)\"/>\t<path d=\"M394.3,292.6 L406.3,297.5  \" stroke=\"rgb(  0,  34, 255)\"/>\t<path d=\"M118.0,184.5 L129.9,189.5  \" stroke=\"rgb(160,   0,   0)\"/>\t<path d=\"M129.9,189.5 L141.8,194.4  \" stroke=\"rgb(192,   0,   0)\"/>\t<path d=\"M141.8,194.4 L153.8,199.3  \" stroke=\"rgb(225,   0,   0)\"/>\t<path d=\"M153.8,199.3 L165.7,204.1  \" stroke=\"rgb(255,  18,   0)\"/>\t<path d=\"M165.7,204.1 L177.6,209.0  \" stroke=\"rgb(255,  51,   0)\"/>\t<path d=\"M177.6,209.0 L189.5,214.0  \" stroke=\"rgb(255,  83,   0)\"/>\t<path d=\"M189.5,214.0 L201.5,218.9  \" stroke=\"rgb(255, 115,   0)\"/>\t<path d=\"M201.5,218.9 L213.4,223.8  \" stroke=\"rgb(255, 148,   0)\"/>\t<path d=\"M213.4,223.8 L225.3,228.7  \" stroke=\"rgb(255, 196,   0)\"/>\t<path d=\"M225.3,228.7 L237.3,233.6  \" stroke=\"rgb(255, 229,   0)\"/>\t<path d=\"M237.3,233.6 L249.2,238.6  \" stroke=\"rgb(249, 255,   6)\"/>\t<path d=\"M249.2,238.6 L261.1,243.5  \" stroke=\"rgb(217, 255,  38)\"/>\t<path d=\"M261.1,243.5 L273.0,248.4  \" stroke=\"rgb(168, 255,  87)\"/>\t<path d=\"M273.0,248.4 L284.9,253.3  \" stroke=\"rgb(136, 255, 119)\"/>\t<path d=\"M284.9,253.3 L296.8,258.2  \" stroke=\"rgb(103, 255, 152)\"/>\t<path d=\"M296.8,258.2 L308.7,263.1  \" stroke=\"rgb( 71, 255, 184)\"/>\t<path d=\"M308.7,263.1 L320.7,268.1  \" stroke=\"rgb( 38, 255, 217)\"/>\t<path d=\"M320.7,268.1 L332.6,273.0  \" stroke=\"rgb(  0, 245, 255)\"/>\t<path d=\"M332.6,273.0 L344.5,277.9  \" stroke=\"rgb(  0, 212, 255)\"/>\t<path d=\"M344.5,277.9 L356.4,282.8  \" stroke=\"rgb(  0, 180, 255)\"/>\t<path d=\"M356.4,282.8 L368.4,287.7  \" stroke=\"rgb(  0, 148, 255)\"/>\t<path d=\"M368.4,287.7 L380.3,292.7  \" stroke=\"rgb(  0,  99, 255)\"/>\t<path d=\"M380.3,292.7 L392.2,297.6  \" stroke=\"rgb(  0,  67, 255)\"/>\t<path d=\"M392.2,297.6 L404.2,302.5  \" stroke=\"rgb(  0,  34, 255)\"/>\t<path d=\"M115.9,189.5 L127.8,194.4  \" stroke=\"rgb(144,   0,   0)\"/>\t<path d=\"M127.8,194.4 L139.7,199.4  \" stroke=\"rgb(192,   0,   0)\"/>\t<path d=\"M139.7,199.4 L151.7,204.2  \" stroke=\"rgb(225,   0,   0)\"/>\t<path d=\"M151.7,204.2 L163.6,209.1  \" stroke=\"rgb(255,   2,   0)\"/>\t<path d=\"M163.6,209.1 L175.5,214.0  \" stroke=\"rgb(255,  34,   0)\"/>\t<path d=\"M175.5,214.0 L187.4,218.9  \" stroke=\"rgb(255,  83,   0)\"/>\t<path d=\"M187.4,218.9 L199.4,223.9  \" stroke=\"rgb(255, 115,   0)\"/>\t<path d=\"M199.4,223.9 L211.3,228.8  \" stroke=\"rgb(255, 148,   0)\"/>\t<path d=\"M211.3,228.8 L223.2,233.7  \" stroke=\"rgb(255, 180,   0)\"/>\t<path d=\"M223.2,233.7 L235.2,238.6  \" stroke=\"rgb(255, 212,   0)\"/>\t<path d=\"M235.2,238.6 L247.1,243.5  \" stroke=\"rgb(249, 255,   6)\"/>\t<path d=\"M247.1,243.5 L259.0,248.5  \" stroke=\"rgb(217, 255,  38)\"/>\t<path d=\"M259.0,248.5 L270.9,253.4  \" stroke=\"rgb(184, 255,  71)\"/>\t<path d=\"M270.9,253.4 L282.8,258.3  \" stroke=\"rgb(152, 255, 103)\"/>\t<path d=\"M282.8,258.3 L294.7,263.2  \" stroke=\"rgb(103, 255, 152)\"/>\t<path d=\"M294.7,263.2 L306.6,268.1  \" stroke=\"rgb( 71, 255, 184)\"/>\t<path d=\"M306.6,268.1 L318.6,273.1  \" stroke=\"rgb( 38, 255, 217)\"/>\t<path d=\"M318.6,273.1 L330.5,278.0  \" stroke=\"rgb(  6, 255, 249)\"/>\t<path d=\"M330.5,278.0 L342.4,282.9  \" stroke=\"rgb(  0, 229, 255)\"/>\t<path d=\"M342.4,282.9 L354.3,287.8  \" stroke=\"rgb(  0, 180, 255)\"/>\t<path d=\"M354.3,287.8 L366.3,292.7  \" stroke=\"rgb(  0, 148, 255)\"/>\t<path d=\"M366.3,292.7 L378.2,297.6  \" stroke=\"rgb(  0, 115, 255)\"/>\t<path d=\"M378.2,297.6 L390.1,302.6  \" stroke=\"rgb(  0,  83, 255)\"/>\t<path d=\"M390.1,302.6 L402.1,307.5  \" stroke=\"rgb(  0,  34, 255)\"/>\t<path d=\"M113.8,194.5 L125.7,199.4  \" stroke=\"rgb(144,   0,   0)\"/>\t<path d=\"M125.7,199.4 L137.6,204.2  \" stroke=\"rgb(176,   0,   0)\"/>\t<path d=\"M137.6,204.2 L149.6,209.2  \" stroke=\"rgb(208,   0,   0)\"/>\t<path d=\"M149.6,209.2 L161.5,214.1  \" stroke=\"rgb(255,   2,   0)\"/>\t<path d=\"M161.5,214.1 L173.4,219.0  \" stroke=\"rgb(255,  34,   0)\"/>\t<path d=\"M173.4,219.0 L185.3,223.9  \" stroke=\"rgb(255,  67,   0)\"/>\t<path d=\"M185.3,223.9 L197.3,228.8  \" stroke=\"rgb(255,  99,   0)\"/>\t<path d=\"M197.3,228.8 L209.2,233.8  \" stroke=\"rgb(255, 148,   0)\"/>\t<path d=\"M209.2,233.8 L221.1,238.7  \" stroke=\"rgb(255, 180,   0)\"/>\t<path d=\"M221.1,238.7 L233.1,243.6  \" stroke=\"rgb(255, 212,   0)\"/>\t<path d=\"M233.1,243.6 L245.0,248.5  \" stroke=\"rgb(255, 245,   0)\"/>\t<path d=\"M245.0,248.5 L256.9,253.4  \" stroke=\"rgb(233, 255,  22)\"/>\t<path d=\"M256.9,253.4 L268.8,258.4  \" stroke=\"rgb(184, 255,  71)\"/>\t<path d=\"M268.8,258.4 L280.7,263.3  \" stroke=\"rgb(152, 255, 103)\"/>\t<path d=\"M280.7,263.3 L292.6,268.2  \" stroke=\"rgb(119, 255, 136)\"/>\t<path d=\"M292.6,268.2 L304.5,273.1  \" stroke=\"rgb( 87, 255, 168)\"/>\t<path d=\"M304.5,273.1 L316.5,278.0  \" stroke=\"rgb( 38, 255, 217)\"/>\t<path d=\"M316.5,278.0 L328.4,283.0  \" stroke=\"rgb(  6, 255, 249)\"/>\t<path d=\"M328.4,283.0 L340.3,287.9  \" stroke=\"rgb(  0, 229, 255)\"/>\t<path d=\"M340.3,287.9 L352.2,292.8  \" stroke=\"rgb(  0, 196, 255)\"/>\t<path d=\"M352.2,292.8 L364.2,297.7  \" stroke=\"rgb(  0, 164, 255)\"/>\t<path d=\"M364.2,297.7 L376.1,302.6  \" stroke=\"rgb(  0, 115, 255)\"/>\t<path d=\"M376.1,302.6 L388.0,307.6  \" stroke=\"rgb(  0,  83, 255)\"/>\t<path d=\"M388.0,307.6 L400.0,312.5  \" stroke=\"rgb(  0,  51, 255)\"/>\t<path d=\"M111.7,199.5 L123.6,204.3  \" stroke=\"rgb(144,   0,   0)\"/>\t<path d=\"M123.6,204.3 L135.5,209.2  \" stroke=\"rgb(176,   0,   0)\"/>\t<path d=\"M135.5,209.2 L147.5,214.2  \" stroke=\"rgb(208,   0,   0)\"/>\t<path d=\"M147.5,214.2 L159.4,219.1  \" stroke=\"rgb(241,   0,   0)\"/>\t<path d=\"M159.4,219.1 L171.3,224.0  \" stroke=\"rgb(255,  18,   0)\"/>\t<path d=\"M171.3,224.0 L183.2,228.9  \" stroke=\"rgb(255,  67,   0)\"/>\t<path d=\"M183.2,228.9 L195.2,233.8  \" stroke=\"rgb(255,  99,   0)\"/>\t<path d=\"M195.2,233.8 L207.1,238.7  \" stroke=\"rgb(255, 132,   0)\"/>\t<path d=\"M207.1,238.7 L219.0,243.7  \" stroke=\"rgb(255, 164,   0)\"/>\t<path d=\"M219.0,243.7 L231.0,248.6  \" stroke=\"rgb(255, 212,   0)\"/>\t<path d=\"M231.0,248.6 L242.9,253.5  \" stroke=\"rgb(255, 245,   0)\"/>\t<path d=\"M242.9,253.5 L254.8,258.4  \" stroke=\"rgb(233, 255,  22)\"/>\t<path d=\"M254.8,258.4 L266.7,263.3  \" stroke=\"rgb(200, 255,  55)\"/>\t<path d=\"M266.7,263.3 L278.7,268.3  \" stroke=\"rgb(168, 255,  87)\"/>\t<path d=\"M278.7,268.3 L290.5,273.2  \" stroke=\"rgb(119, 255, 136)\"/>\t<path d=\"M290.5,273.2 L302.4,278.1  \" stroke=\"rgb( 87, 255, 168)\"/>\t<path d=\"M302.4,278.1 L314.4,283.0  \" stroke=\"rgb( 55, 255, 200)\"/>\t<path d=\"M314.4,283.0 L326.3,287.9  \" stroke=\"rgb( 22, 255, 233)\"/>\t<path d=\"M326.3,287.9 L338.2,292.9  \" stroke=\"rgb(  0, 229, 255)\"/>\t<path d=\"M338.2,292.9 L350.1,297.8  \" stroke=\"rgb(  0, 196, 255)\"/>\t<path d=\"M350.1,297.8 L362.1,302.7  \" stroke=\"rgb(  0, 164, 255)\"/>\t<path d=\"M362.1,302.7 L374.0,307.6  \" stroke=\"rgb(  0, 132, 255)\"/>\t<path d=\"M374.0,307.6 L385.9,312.5  \" stroke=\"rgb(  0,  99, 255)\"/>\t<path d=\"M385.9,312.5 L397.9,317.5  \" stroke=\"rgb(  0,  51, 255)\"/></g>\n",
       "\t</g>\n",
       "\t<g id=\"gnuplot_plot_2a\"><title>gnuplot_plot_2a</title>\n",
       "<g color=\"black\" fill=\"none\" stroke=\"currentColor\" stroke-linecap=\"butt\" stroke-linejoin=\"miter\" stroke-width=\"1.00\">\n",
       "\t<path d=\"M162.1,112.6 L160.0,118.0  \" stroke=\"rgb(168, 255,  87)\"/>\t<path d=\"M160.0,118.0 L157.9,123.4 L155.8,128.8 L153.7,134.1 L151.6,139.5 L149.5,144.9  \" stroke=\"rgb(184, 255,  71)\"/>\t<path d=\"M149.5,144.9 L147.4,150.3 L145.3,155.6 L143.2,161.0 L141.1,166.4  \" stroke=\"rgb(200, 255,  55)\"/>\t<path d=\"M141.1,166.4 L139.0,171.8 L136.9,177.1 L134.8,182.5 L132.7,187.9 L130.6,193.3  \" stroke=\"rgb(217, 255,  38)\"/>\t<path d=\"M130.6,193.3 L128.5,198.6 L126.4,203.9 L124.3,209.3 L122.2,214.7  \" stroke=\"rgb(233, 255,  22)\"/>\t<path d=\"M122.2,214.7 L120.1,220.0 L118.0,225.4 L115.9,230.8 L113.8,236.2 L111.7,241.5  \" stroke=\"rgb(249, 255,   6)\"/>\t<path d=\"M174.1,114.4 L172.0,119.8 L169.9,125.2 L167.8,130.6  \" stroke=\"rgb(168, 255,  87)\"/>\t<path d=\"M167.8,130.6 L165.7,135.9 L163.6,141.3 L161.5,146.7 L159.4,152.1 L157.2,157.4  \" stroke=\"rgb(184, 255,  71)\"/>\t<path d=\"M157.2,157.4 L155.1,162.8 L153.0,168.2 L150.9,173.6 L148.8,178.9  \" stroke=\"rgb(200, 255,  55)\"/>\t<path d=\"M148.8,178.9 L146.7,184.3 L144.6,189.7 L142.5,195.1 L140.4,200.4 L138.3,205.7  \" stroke=\"rgb(217, 255,  38)\"/>\t<path d=\"M138.3,205.7 L136.2,211.1 L134.1,216.5 L132.0,221.8 L129.9,227.2  \" stroke=\"rgb(233, 255,  22)\"/>\t<path d=\"M129.9,227.2 L127.8,232.6 L125.7,238.0 L123.6,243.3  \" stroke=\"rgb(249, 255,   6)\"/>\t<path d=\"M186.0,116.2 L183.9,121.6  \" stroke=\"rgb(152, 255, 103)\"/>\t<path d=\"M183.9,121.6 L181.8,127.0 L179.7,132.4 L177.6,137.7 L175.5,143.1  \" stroke=\"rgb(168, 255,  87)\"/>\t<path d=\"M175.5,143.1 L173.4,148.5 L171.3,153.9 L169.2,159.2 L167.1,164.6 L165.0,170.0  \" stroke=\"rgb(184, 255,  71)\"/>\t<path d=\"M165.0,170.0 L162.9,175.4 L160.8,180.7 L158.7,186.1 L156.6,191.5  \" stroke=\"rgb(200, 255,  55)\"/>\t<path d=\"M156.6,191.5 L154.5,196.9 L152.4,202.1 L150.2,207.5 L148.1,212.9 L146.0,218.3  \" stroke=\"rgb(217, 255,  38)\"/>\t<path d=\"M146.0,218.3 L143.9,223.6 L141.8,229.0 L139.7,234.4 L137.6,239.8  \" stroke=\"rgb(233, 255,  22)\"/>\t<path d=\"M137.6,239.8 L135.5,245.1  \" stroke=\"rgb(249, 255,   6)\"/>\t<path d=\"M197.9,118.0 L195.8,123.4 L193.7,128.8 L191.6,134.2  \" stroke=\"rgb(152, 255, 103)\"/>\t<path d=\"M191.6,134.2 L189.5,139.5 L187.4,144.9 L185.3,150.3 L183.2,155.7  \" stroke=\"rgb(168, 255,  87)\"/>\t<path d=\"M183.2,155.7 L181.1,161.0 L179.0,166.4 L176.9,171.8 L174.8,177.2 L172.7,182.5  \" stroke=\"rgb(184, 255,  71)\"/>\t<path d=\"M172.7,182.5 L170.6,187.9 L168.5,193.3 L166.4,198.7 L164.3,203.9  \" stroke=\"rgb(200, 255,  55)\"/>\t<path d=\"M164.3,203.9 L162.2,209.3 L160.1,214.7 L158.0,220.1 L155.9,225.4 L153.8,230.8  \" stroke=\"rgb(217, 255,  38)\"/>\t<path d=\"M153.8,230.8 L151.7,236.2 L149.6,241.6 L147.5,246.9  \" stroke=\"rgb(233, 255,  22)\"/>\t<path d=\"M209.9,119.8 L207.8,125.2 L205.7,130.6 L203.6,136.0 L201.4,141.3 L199.3,146.7  \" stroke=\"rgb(152, 255, 103)\"/>\t<path d=\"M199.3,146.7 L197.2,152.1 L195.1,157.5 L193.0,162.8 L190.9,168.2  \" stroke=\"rgb(168, 255,  87)\"/>\t<path d=\"M190.9,168.2 L188.8,173.6 L186.7,179.0 L184.6,184.3 L182.5,189.7 L180.4,195.1  \" stroke=\"rgb(184, 255,  71)\"/>\t<path d=\"M180.4,195.1 L178.3,200.5 L176.2,205.7 L174.1,211.1 L172.0,216.5  \" stroke=\"rgb(200, 255,  55)\"/>\t<path d=\"M172.0,216.5 L169.9,221.9 L167.8,227.2 L165.7,232.6 L163.6,238.0 L161.5,243.4  \" stroke=\"rgb(217, 255,  38)\"/>\t<path d=\"M161.5,243.4 L159.4,248.7  \" stroke=\"rgb(233, 255,  22)\"/>\t<path d=\"M221.8,121.6 L219.7,127.0 L217.6,132.4  \" stroke=\"rgb(136, 255, 119)\"/>\t<path d=\"M217.6,132.4 L215.5,137.8 L213.4,143.1 L211.3,148.5 L209.2,153.9 L207.1,159.3  \" stroke=\"rgb(152, 255, 103)\"/>\t<path d=\"M207.1,159.3 L205.0,164.6 L202.9,170.0 L200.8,175.4 L198.7,180.8  \" stroke=\"rgb(168, 255,  87)\"/>\t<path d=\"M198.7,180.8 L196.6,186.1 L194.4,191.5 L192.3,196.9 L190.2,202.2 L188.1,207.5  \" stroke=\"rgb(184, 255,  71)\"/>\t<path d=\"M188.1,207.5 L186.0,212.9 L183.9,218.3 L181.8,223.7 L179.7,229.0  \" stroke=\"rgb(200, 255,  55)\"/>\t<path d=\"M179.7,229.0 L177.6,234.4 L175.5,239.8 L173.4,245.2 L171.3,250.5  \" stroke=\"rgb(217, 255,  38)\"/>\t<path d=\"M233.7,123.4 L231.6,128.8 L229.5,134.2 L227.4,139.6 L225.3,144.9  \" stroke=\"rgb(136, 255, 119)\"/>\t<path d=\"M225.3,144.9 L223.2,150.3 L221.1,155.7 L219.0,161.1 L216.9,166.4 L214.8,171.8  \" stroke=\"rgb(152, 255, 103)\"/>\t<path d=\"M214.8,171.8 L212.7,177.2 L210.6,182.6 L208.5,187.9 L206.4,193.3  \" stroke=\"rgb(168, 255,  87)\"/>\t<path d=\"M206.4,193.3 L204.3,198.7 L202.2,204.0 L200.1,209.3 L198.0,214.7 L195.9,220.1  \" stroke=\"rgb(184, 255,  71)\"/>\t<path d=\"M195.9,220.1 L193.8,225.5 L191.7,230.8 L189.5,236.2 L187.4,241.6  \" stroke=\"rgb(200, 255,  55)\"/>\t<path d=\"M187.4,241.6 L185.3,247.0 L183.2,252.3  \" stroke=\"rgb(217, 255,  38)\"/>\t<path d=\"M245.6,125.2 L243.5,130.6 L241.4,136.0  \" stroke=\"rgb(119, 255, 136)\"/>\t<path d=\"M241.4,136.0 L239.3,141.3 L237.2,146.7 L235.1,152.1 L233.0,157.5  \" stroke=\"rgb(136, 255, 119)\"/>\t<path d=\"M233.0,157.5 L230.9,162.8 L228.8,168.2 L226.7,173.6 L224.6,179.0 L222.5,184.3  \" stroke=\"rgb(152, 255, 103)\"/>\t<path d=\"M222.5,184.3 L220.4,189.7 L218.3,195.1 L216.2,200.5 L214.1,205.7  \" stroke=\"rgb(168, 255,  87)\"/>\t<path d=\"M214.1,205.7 L212.0,211.1 L209.9,216.5 L207.8,221.9 L205.7,227.2 L203.6,232.6  \" stroke=\"rgb(184, 255,  71)\"/>\t<path d=\"M203.6,232.6 L201.5,238.0 L199.4,243.4 L197.3,248.7 L195.2,254.1  \" stroke=\"rgb(200, 255,  55)\"/>\t<path d=\"M257.6,127.0 L255.5,132.4 L253.4,137.8 L251.3,143.1 L249.2,148.5  \" stroke=\"rgb(119, 255, 136)\"/>\t<path d=\"M249.2,148.5 L247.1,153.9 L245.0,159.3 L242.9,164.6 L240.7,170.0  \" stroke=\"rgb(136, 255, 119)\"/>\t<path d=\"M240.7,170.0 L238.6,175.4 L236.5,180.8 L234.4,186.1 L232.3,191.5 L230.2,196.9  \" stroke=\"rgb(152, 255, 103)\"/>\t<path d=\"M230.2,196.9 L228.1,202.2 L226.0,207.5 L223.9,212.9 L221.8,218.3  \" stroke=\"rgb(168, 255,  87)\"/>\t<path d=\"M221.8,218.3 L219.7,223.7 L217.6,229.0 L215.5,234.4 L213.4,239.8 L211.3,245.2  \" stroke=\"rgb(184, 255,  71)\"/>\t<path d=\"M211.3,245.2 L209.2,250.5 L207.1,255.9  \" stroke=\"rgb(200, 255,  55)\"/>\t<path d=\"M269.5,128.8 L267.4,134.2  \" stroke=\"rgb(103, 255, 152)\"/>\t<path d=\"M267.4,134.2 L265.3,139.6 L263.2,144.9 L261.1,150.3 L259.0,155.7 L256.9,161.1  \" stroke=\"rgb(119, 255, 136)\"/>\t<path d=\"M256.9,161.1 L254.8,166.4 L252.7,171.8 L250.6,177.2 L248.5,182.6  \" stroke=\"rgb(136, 255, 119)\"/>\t<path d=\"M248.5,182.6 L246.4,187.9 L244.3,193.3 L242.2,198.7 L240.1,204.0 L238.0,209.3  \" stroke=\"rgb(152, 255, 103)\"/>\t<path d=\"M238.0,209.3 L235.9,214.7 L233.7,220.1 L231.6,225.5 L229.5,230.8  \" stroke=\"rgb(168, 255,  87)\"/>\t<path d=\"M229.5,230.8 L227.4,236.2 L225.3,241.6 L223.2,247.0 L221.1,252.3 L219.0,257.7  \" stroke=\"rgb(184, 255,  71)\"/>\t<path d=\"M281.3,130.6 L279.3,136.0 L277.2,141.4 L275.1,146.7  \" stroke=\"rgb(103, 255, 152)\"/>\t<path d=\"M275.1,146.7 L273.0,152.1 L270.9,157.5 L268.8,162.9 L266.7,168.2 L264.6,173.6  \" stroke=\"rgb(119, 255, 136)\"/>\t<path d=\"M264.6,173.6 L262.5,179.0 L260.4,184.4 L258.3,189.7 L256.2,195.1  \" stroke=\"rgb(136, 255, 119)\"/>\t<path d=\"M256.2,195.1 L254.1,200.5 L252.0,205.8 L249.9,211.1 L247.8,216.5 L245.7,221.9  \" stroke=\"rgb(152, 255, 103)\"/>\t<path d=\"M245.7,221.9 L243.6,227.3 L241.5,232.6 L239.4,238.0 L237.3,243.4  \" stroke=\"rgb(168, 255,  87)\"/>\t<path d=\"M237.3,243.4 L235.2,248.8 L233.1,254.1 L231.0,259.5  \" stroke=\"rgb(184, 255,  71)\"/>\t<path d=\"M293.3,132.4 L291.2,137.8  \" stroke=\"rgb( 87, 255, 168)\"/>\t<path d=\"M291.2,137.8 L289.1,143.2 L287.0,148.5 L284.8,153.9 L282.7,159.3  \" stroke=\"rgb(103, 255, 152)\"/>\t<path d=\"M282.7,159.3 L280.6,164.7 L278.6,170.0 L276.5,175.4 L274.4,180.8 L272.3,186.2  \" stroke=\"rgb(119, 255, 136)\"/>\t<path d=\"M272.3,186.2 L270.2,191.5 L268.1,196.9 L266.0,202.2 L263.9,207.6  \" stroke=\"rgb(136, 255, 119)\"/>\t<path d=\"M263.9,207.6 L261.8,212.9 L259.7,218.3 L257.6,223.7 L255.5,229.1 L253.4,234.4  \" stroke=\"rgb(152, 255, 103)\"/>\t<path d=\"M253.4,234.4 L251.3,239.8 L249.2,245.2 L247.1,250.6 L245.0,255.9  \" stroke=\"rgb(168, 255,  87)\"/>\t<path d=\"M245.0,255.9 L242.9,261.3  \" stroke=\"rgb(184, 255,  71)\"/>\t<path d=\"M305.2,134.2 L303.1,139.6 L301.0,145.0 L298.9,150.3  \" stroke=\"rgb( 87, 255, 168)\"/>\t<path d=\"M298.9,150.3 L296.8,155.7 L294.7,161.1 L292.6,166.5 L290.5,171.8  \" stroke=\"rgb(103, 255, 152)\"/>\t<path d=\"M290.5,171.8 L288.4,177.2 L286.3,182.6 L284.2,188.0 L282.1,193.3 L280.0,198.7  \" stroke=\"rgb(119, 255, 136)\"/>\t<path d=\"M280.0,198.7 L277.9,204.0 L275.8,209.4 L273.7,214.7 L271.6,220.1  \" stroke=\"rgb(136, 255, 119)\"/>\t<path d=\"M271.6,220.1 L269.5,225.5 L267.4,230.9 L265.3,236.2 L263.2,241.6 L261.1,247.0  \" stroke=\"rgb(152, 255, 103)\"/>\t<path d=\"M261.1,247.0 L259.0,252.4 L256.9,257.7 L254.8,263.1  \" stroke=\"rgb(168, 255,  87)\"/>\t<path d=\"M317.1,136.0 L315.0,141.4 L312.9,146.8 L310.8,152.1 L308.7,157.5 L306.6,162.9  \" stroke=\"rgb( 87, 255, 168)\"/>\t<path d=\"M306.6,162.9 L304.5,168.3 L302.4,173.6 L300.3,179.0 L298.2,184.4  \" stroke=\"rgb(103, 255, 152)\"/>\t<path d=\"M298.2,184.4 L296.1,189.8 L294.0,195.1 L291.9,200.5 L289.8,205.8 L287.7,211.2  \" stroke=\"rgb(119, 255, 136)\"/>\t<path d=\"M287.7,211.2 L285.6,216.5 L283.5,221.9 L281.4,227.3 L279.4,232.7  \" stroke=\"rgb(136, 255, 119)\"/>\t<path d=\"M279.4,232.7 L277.3,238.0 L275.2,243.4 L273.0,248.8 L270.9,254.2 L268.8,259.5  \" stroke=\"rgb(152, 255, 103)\"/>\t<path d=\"M268.8,259.5 L266.7,264.9  \" stroke=\"rgb(168, 255,  87)\"/>\t<path d=\"M329.0,137.8 L326.9,143.2 L324.8,148.6  \" stroke=\"rgb( 71, 255, 184)\"/>\t<path d=\"M324.8,148.6 L322.7,153.9 L320.6,159.3 L318.5,164.7 L316.4,170.1 L314.3,175.4  \" stroke=\"rgb( 87, 255, 168)\"/>\t<path d=\"M314.3,175.4 L312.2,180.8 L310.1,186.2 L308.0,191.6 L305.9,196.9  \" stroke=\"rgb(103, 255, 152)\"/>\t<path d=\"M305.9,196.9 L303.8,202.2 L301.7,207.6 L299.6,213.0 L297.5,218.3 L295.4,223.7  \" stroke=\"rgb(119, 255, 136)\"/>\t<path d=\"M295.4,223.7 L293.3,229.1 L291.2,234.5 L289.1,239.8 L287.0,245.2  \" stroke=\"rgb(136, 255, 119)\"/>\t<path d=\"M287.0,245.2 L284.9,250.6 L282.8,256.0 L280.7,261.3 L278.7,266.7  \" stroke=\"rgb(152, 255, 103)\"/>\t<path d=\"M341.0,139.6 L338.9,145.0 L336.8,150.3 L334.7,155.7 L332.6,161.1  \" stroke=\"rgb( 71, 255, 184)\"/>\t<path d=\"M332.6,161.1 L330.5,166.5 L328.4,171.8 L326.3,177.2 L324.1,182.6 L322.0,188.0  \" stroke=\"rgb( 87, 255, 168)\"/>\t<path d=\"M322.0,188.0 L319.9,193.3 L317.8,198.7 L315.7,204.0 L313.6,209.4  \" stroke=\"rgb(103, 255, 152)\"/>\t<path d=\"M313.6,209.4 L311.5,214.7 L309.4,220.1 L307.3,225.5 L305.2,230.9 L303.1,236.2  \" stroke=\"rgb(119, 255, 136)\"/>\t<path d=\"M303.1,236.2 L301.0,241.6 L298.9,247.0 L296.8,252.4 L294.7,257.8  \" stroke=\"rgb(136, 255, 119)\"/>\t<path d=\"M294.7,257.8 L292.6,263.1 L290.5,268.5  \" stroke=\"rgb(152, 255, 103)\"/>\t<path d=\"M352.9,141.4 L350.8,146.8 L348.7,152.1  \" stroke=\"rgb( 55, 255, 200)\"/>\t<path d=\"M348.7,152.1 L346.6,157.5 L344.5,162.9 L342.4,168.3 L340.3,173.6  \" stroke=\"rgb( 71, 255, 184)\"/>\t<path d=\"M340.3,173.6 L338.2,179.0 L336.1,184.4 L334.0,189.8 L331.9,195.1 L329.8,200.5  \" stroke=\"rgb( 87, 255, 168)\"/>\t<path d=\"M329.8,200.5 L327.7,205.8 L325.6,211.2 L323.5,216.5 L321.4,221.9  \" stroke=\"rgb(103, 255, 152)\"/>\t<path d=\"M321.4,221.9 L319.3,227.3 L317.1,232.7 L315.0,238.0 L312.9,243.4 L310.8,248.8  \" stroke=\"rgb(119, 255, 136)\"/>\t<path d=\"M310.8,248.8 L308.7,254.2 L306.6,259.5 L304.5,264.9 L302.4,270.3  \" stroke=\"rgb(136, 255, 119)\"/>\t<path d=\"M364.8,143.2 L362.7,148.6 L360.6,153.9 L358.5,159.3 L356.4,164.7  \" stroke=\"rgb( 55, 255, 200)\"/>\t<path d=\"M356.4,164.7 L354.3,170.1 L352.2,175.4 L350.1,180.8 L348.0,186.2  \" stroke=\"rgb( 71, 255, 184)\"/>\t<path d=\"M348.0,186.2 L345.9,191.6 L343.8,196.9 L341.7,202.2 L339.6,207.6 L337.5,213.0  \" stroke=\"rgb( 87, 255, 168)\"/>\t<path d=\"M337.5,213.0 L335.4,218.3 L333.3,223.7 L331.2,229.1 L329.1,234.5  \" stroke=\"rgb(103, 255, 152)\"/>\t<path d=\"M329.1,234.5 L327.0,239.8 L324.9,245.2 L322.8,250.6 L320.7,256.0 L318.6,261.3  \" stroke=\"rgb(119, 255, 136)\"/>\t<path d=\"M318.6,261.3 L316.5,266.7 L314.4,272.1  \" stroke=\"rgb(136, 255, 119)\"/>\t<path d=\"M376.8,145.0 L374.7,150.4  \" stroke=\"rgb( 38, 255, 217)\"/>\t<path d=\"M374.7,150.4 L372.6,155.7 L370.5,161.1 L368.3,166.5 L366.2,171.9 L364.1,177.2  \" stroke=\"rgb( 55, 255, 200)\"/>\t<path d=\"M364.1,177.2 L362.0,182.6 L359.9,188.0 L357.8,193.4 L355.7,198.7  \" stroke=\"rgb( 71, 255, 184)\"/>\t<path d=\"M355.7,198.7 L353.6,204.0 L351.5,209.4 L349.4,214.8 L347.3,220.1 L345.2,225.5  \" stroke=\"rgb( 87, 255, 168)\"/>\t<path d=\"M345.2,225.5 L343.1,230.9 L341.0,236.3 L338.9,241.6 L336.8,247.0  \" stroke=\"rgb(103, 255, 152)\"/>\t<path d=\"M336.8,247.0 L334.7,252.4 L332.6,257.8 L330.5,263.1 L328.4,268.5 L326.3,273.9  \" stroke=\"rgb(119, 255, 136)\"/>\t<path d=\"M388.7,146.8 L386.6,152.2 L384.5,157.5 L382.4,162.9  \" stroke=\"rgb( 38, 255, 217)\"/>\t<path d=\"M382.4,162.9 L380.3,168.3 L378.2,173.7 L376.1,179.0 L374.0,184.4 L371.9,189.8  \" stroke=\"rgb( 55, 255, 200)\"/>\t<path d=\"M371.9,189.8 L369.8,195.2 L367.7,200.5 L365.6,205.8 L363.4,211.2  \" stroke=\"rgb( 71, 255, 184)\"/>\t<path d=\"M363.4,211.2 L361.3,216.6 L359.2,221.9 L357.1,227.3 L355.0,232.7 L352.9,238.1  \" stroke=\"rgb( 87, 255, 168)\"/>\t<path d=\"M352.9,238.1 L350.8,243.4 L348.7,248.8 L346.6,254.2 L344.5,259.6  \" stroke=\"rgb(103, 255, 152)\"/>\t<path d=\"M344.5,259.6 L342.4,264.9 L340.3,270.3 L338.2,275.7  \" stroke=\"rgb(119, 255, 136)\"/>\t<path d=\"M400.6,148.6 L398.5,154.0  \" stroke=\"rgb( 22, 255, 233)\"/>\t<path d=\"M398.5,154.0 L396.4,159.3 L394.3,164.7 L392.2,170.1 L390.1,175.5  \" stroke=\"rgb( 38, 255, 217)\"/>\t<path d=\"M390.1,175.5 L388.0,180.8 L385.9,186.2 L383.8,191.6 L381.7,197.0 L379.6,202.2  \" stroke=\"rgb( 55, 255, 200)\"/>\t<path d=\"M379.6,202.2 L377.5,207.6 L375.4,213.0 L373.3,218.4 L371.2,223.7  \" stroke=\"rgb( 71, 255, 184)\"/>\t<path d=\"M371.2,223.7 L369.1,229.1 L367.0,234.5 L364.9,239.9 L362.8,245.2 L360.7,250.6  \" stroke=\"rgb( 87, 255, 168)\"/>\t<path d=\"M360.7,250.6 L358.6,256.0 L356.4,261.4 L354.3,266.7 L352.2,272.1  \" stroke=\"rgb(103, 255, 152)\"/>\t<path d=\"M352.2,272.1 L350.1,277.5  \" stroke=\"rgb(119, 255, 136)\"/>\t<path d=\"M412.5,150.4 L410.4,155.8 L408.3,161.1 L406.2,166.5  \" stroke=\"rgb( 22, 255, 233)\"/>\t<path d=\"M406.2,166.5 L404.1,171.9 L402.0,177.3 L399.9,182.6 L397.8,188.0  \" stroke=\"rgb( 38, 255, 217)\"/>\t<path d=\"M397.8,188.0 L395.7,193.4 L393.6,198.8 L391.5,204.0 L389.4,209.4 L387.3,214.8  \" stroke=\"rgb( 55, 255, 200)\"/>\t<path d=\"M387.3,214.8 L385.2,220.2 L383.1,225.5 L381.0,230.9 L378.9,236.3  \" stroke=\"rgb( 71, 255, 184)\"/>\t<path d=\"M378.9,236.3 L376.8,241.7 L374.7,247.0 L372.6,252.4 L370.5,257.8 L368.4,263.2  \" stroke=\"rgb( 87, 255, 168)\"/>\t<path d=\"M368.4,263.2 L366.3,268.5 L364.2,273.9 L362.1,279.3  \" stroke=\"rgb(103, 255, 152)\"/>\t<path d=\"M424.5,152.2 L422.4,157.6 L420.3,162.9 L418.2,168.3 L416.1,173.7 L414.0,179.1  \" stroke=\"rgb( 22, 255, 233)\"/>\t<path d=\"M414.0,179.1 L411.9,184.4 L409.8,189.8 L407.6,195.2 L405.5,200.6  \" stroke=\"rgb( 38, 255, 217)\"/>\t<path d=\"M405.5,200.6 L403.4,205.8 L401.3,211.2 L399.2,216.6 L397.1,222.0 L395.0,227.3  \" stroke=\"rgb( 55, 255, 200)\"/>\t<path d=\"M395.0,227.3 L392.9,232.7 L390.8,238.1 L388.7,243.5 L386.6,248.8  \" stroke=\"rgb( 71, 255, 184)\"/>\t<path d=\"M386.6,248.8 L384.5,254.2 L382.4,259.6 L380.3,265.0 L378.2,270.3 L376.1,275.7  \" stroke=\"rgb( 87, 255, 168)\"/>\t<path d=\"M376.1,275.7 L374.0,281.1  \" stroke=\"rgb(103, 255, 152)\"/>\t<path d=\"M436.4,154.0 L434.3,159.4 L432.2,164.7  \" stroke=\"rgb(  6, 255, 249)\"/>\t<path d=\"M432.2,164.7 L430.1,170.1 L428.0,175.5 L425.9,180.9 L423.8,186.2 L421.7,191.6  \" stroke=\"rgb( 22, 255, 233)\"/>\t<path d=\"M421.7,191.6 L419.6,197.0 L417.5,202.3 L415.4,207.6 L413.3,213.0  \" stroke=\"rgb( 38, 255, 217)\"/>\t<path d=\"M413.3,213.0 L411.2,218.4 L409.1,223.8 L407.0,229.1 L404.9,234.5 L402.8,239.9  \" stroke=\"rgb( 55, 255, 200)\"/>\t<path d=\"M402.8,239.9 L400.6,245.3 L398.5,250.6 L396.4,256.0 L394.3,261.4  \" stroke=\"rgb( 71, 255, 184)\"/>\t<path d=\"M394.3,261.4 L392.2,266.8 L390.1,272.1 L388.0,277.5 L385.9,282.9  \" stroke=\"rgb( 87, 255, 168)\"/>\t<path d=\"M448.3,155.8 L446.2,161.1 L444.1,166.5 L442.0,171.9 L439.9,177.3  \" stroke=\"rgb(  6, 255, 249)\"/>\t<path d=\"M439.9,177.3 L437.8,182.6 L435.7,188.0 L433.6,193.4 L431.5,198.8 L429.4,204.0  \" stroke=\"rgb( 22, 255, 233)\"/>\t<path d=\"M429.4,204.0 L427.3,209.4 L425.2,214.8 L423.1,220.2 L421.0,225.5  \" stroke=\"rgb( 38, 255, 217)\"/>\t<path d=\"M421.0,225.5 L418.9,230.9 L416.8,236.3 L414.7,241.7 L412.6,247.0 L410.5,252.4  \" stroke=\"rgb( 55, 255, 200)\"/>\t<path d=\"M410.5,252.4 L408.4,257.8 L406.3,263.2 L404.2,268.5 L402.1,273.9  \" stroke=\"rgb( 71, 255, 184)\"/>\t<path d=\"M402.1,273.9 L400.0,279.3 L397.9,284.7  \" stroke=\"rgb( 87, 255, 168)\"/>\t<path d=\"M162.1,112.6 L174.1,114.4 L186.0,116.2  \" stroke=\"rgb(168, 255,  87)\"/>\t<path d=\"M186.0,116.2 L197.9,118.0 L209.9,119.8  \" stroke=\"rgb(152, 255, 103)\"/>\t<path d=\"M209.9,119.8 L221.8,121.6 L233.7,123.4  \" stroke=\"rgb(136, 255, 119)\"/>\t<path d=\"M233.7,123.4 L245.6,125.2 L257.6,127.0  \" stroke=\"rgb(119, 255, 136)\"/>\t<path d=\"M257.6,127.0 L269.5,128.8 L281.3,130.6 L293.3,132.4  \" stroke=\"rgb(103, 255, 152)\"/>\t<path d=\"M293.3,132.4 L305.2,134.2 L317.1,136.0  \" stroke=\"rgb( 87, 255, 168)\"/>\t<path d=\"M317.1,136.0 L329.0,137.8 L341.0,139.6  \" stroke=\"rgb( 71, 255, 184)\"/>\t<path d=\"M341.0,139.6 L352.9,141.4 L364.8,143.2  \" stroke=\"rgb( 55, 255, 200)\"/>\t<path d=\"M364.8,143.2 L376.8,145.0 L388.7,146.8 L400.6,148.6  \" stroke=\"rgb( 38, 255, 217)\"/>\t<path d=\"M400.6,148.6 L412.5,150.4 L424.5,152.2  \" stroke=\"rgb( 22, 255, 233)\"/>\t<path d=\"M424.5,152.2 L436.4,154.0 L448.3,155.8  \" stroke=\"rgb(  6, 255, 249)\"/>\t<path d=\"M160.0,118.0 L172.0,119.8 L183.9,121.6  \" stroke=\"rgb(168, 255,  87)\"/>\t<path d=\"M183.9,121.6 L195.8,123.4 L207.8,125.2  \" stroke=\"rgb(152, 255, 103)\"/>\t<path d=\"M207.8,125.2 L219.7,127.0 L231.6,128.8 L243.5,130.6  \" stroke=\"rgb(136, 255, 119)\"/>\t<path d=\"M243.5,130.6 L255.5,132.4 L267.4,134.2  \" stroke=\"rgb(119, 255, 136)\"/>\t<path d=\"M267.4,134.2 L279.3,136.0 L291.2,137.8  \" stroke=\"rgb(103, 255, 152)\"/>\t<path d=\"M291.2,137.8 L303.1,139.6 L315.0,141.4  \" stroke=\"rgb( 87, 255, 168)\"/>\t<path d=\"M315.0,141.4 L326.9,143.2 L338.9,145.0 L350.8,146.8  \" stroke=\"rgb( 71, 255, 184)\"/>\t<path d=\"M350.8,146.8 L362.7,148.6 L374.7,150.4  \" stroke=\"rgb( 55, 255, 200)\"/>\t<path d=\"M374.7,150.4 L386.6,152.2 L398.5,154.0  \" stroke=\"rgb( 38, 255, 217)\"/>\t<path d=\"M398.5,154.0 L410.4,155.8 L422.4,157.6  \" stroke=\"rgb( 22, 255, 233)\"/>\t<path d=\"M422.4,157.6 L434.3,159.4 L446.2,161.1  \" stroke=\"rgb(  6, 255, 249)\"/>\t<path d=\"M157.9,123.4 L169.9,125.2 L181.8,127.0 L193.7,128.8  \" stroke=\"rgb(168, 255,  87)\"/>\t<path d=\"M193.7,128.8 L205.7,130.6 L217.6,132.4  \" stroke=\"rgb(152, 255, 103)\"/>\t<path d=\"M217.6,132.4 L229.5,134.2 L241.4,136.0  \" stroke=\"rgb(136, 255, 119)\"/>\t<path d=\"M241.4,136.0 L253.4,137.8 L265.3,139.6  \" stroke=\"rgb(119, 255, 136)\"/>\t<path d=\"M265.3,139.6 L277.2,141.4 L289.1,143.2 L301.0,145.0  \" stroke=\"rgb(103, 255, 152)\"/>\t<path d=\"M301.0,145.0 L312.9,146.8 L324.8,148.6  \" stroke=\"rgb( 87, 255, 168)\"/>\t<path d=\"M324.8,148.6 L336.8,150.3 L348.7,152.1  \" stroke=\"rgb( 71, 255, 184)\"/>\t<path d=\"M348.7,152.1 L360.6,153.9 L372.6,155.7  \" stroke=\"rgb( 55, 255, 200)\"/>\t<path d=\"M372.6,155.7 L384.5,157.5 L396.4,159.3 L408.3,161.1  \" stroke=\"rgb( 38, 255, 217)\"/>\t<path d=\"M408.3,161.1 L420.3,162.9 L432.2,164.7  \" stroke=\"rgb( 22, 255, 233)\"/>\t<path d=\"M432.2,164.7 L444.1,166.5  \" stroke=\"rgb(  6, 255, 249)\"/>\t<path d=\"M155.8,128.8 L167.8,130.6  \" stroke=\"rgb(184, 255,  71)\"/>\t<path d=\"M167.8,130.6 L179.7,132.4 L191.6,134.2  \" stroke=\"rgb(168, 255,  87)\"/>\t<path d=\"M191.6,134.2 L203.6,136.0 L215.5,137.8  \" stroke=\"rgb(152, 255, 103)\"/>\t<path d=\"M215.5,137.8 L227.4,139.6 L239.3,141.3 L251.3,143.1  \" stroke=\"rgb(136, 255, 119)\"/>\t<path d=\"M251.3,143.1 L263.2,144.9 L275.1,146.7  \" stroke=\"rgb(119, 255, 136)\"/>\t<path d=\"M275.1,146.7 L287.0,148.5 L298.9,150.3  \" stroke=\"rgb(103, 255, 152)\"/>\t<path d=\"M298.9,150.3 L310.8,152.1 L322.7,153.9  \" stroke=\"rgb( 87, 255, 168)\"/>\t<path d=\"M322.7,153.9 L334.7,155.7 L346.6,157.5 L358.5,159.3  \" stroke=\"rgb( 71, 255, 184)\"/>\t<path d=\"M358.5,159.3 L370.5,161.1 L382.4,162.9  \" stroke=\"rgb( 55, 255, 200)\"/>\t<path d=\"M382.4,162.9 L394.3,164.7 L406.2,166.5  \" stroke=\"rgb( 38, 255, 217)\"/>\t<path d=\"M406.2,166.5 L418.2,168.3 L430.1,170.1  \" stroke=\"rgb( 22, 255, 233)\"/>\t<path d=\"M430.1,170.1 L442.0,171.9  \" stroke=\"rgb(  6, 255, 249)\"/>\t<path d=\"M153.7,134.1 L165.7,135.9  \" stroke=\"rgb(184, 255,  71)\"/>\t<path d=\"M165.7,135.9 L177.6,137.7 L189.5,139.5 L201.4,141.3  \" stroke=\"rgb(168, 255,  87)\"/>\t<path d=\"M201.4,141.3 L213.4,143.1 L225.3,144.9  \" stroke=\"rgb(152, 255, 103)\"/>\t<path d=\"M225.3,144.9 L237.2,146.7 L249.2,148.5  \" stroke=\"rgb(136, 255, 119)\"/>\t<path d=\"M249.2,148.5 L261.1,150.3 L273.0,152.1  \" stroke=\"rgb(119, 255, 136)\"/>\t<path d=\"M273.0,152.1 L284.8,153.9 L296.8,155.7 L308.7,157.5  \" stroke=\"rgb(103, 255, 152)\"/>\t<path d=\"M308.7,157.5 L320.6,159.3 L332.6,161.1  \" stroke=\"rgb( 87, 255, 168)\"/>\t<path d=\"M332.6,161.1 L344.5,162.9 L356.4,164.7  \" stroke=\"rgb( 71, 255, 184)\"/>\t<path d=\"M356.4,164.7 L368.3,166.5 L380.3,168.3  \" stroke=\"rgb( 55, 255, 200)\"/>\t<path d=\"M380.3,168.3 L392.2,170.1 L404.1,171.9 L416.1,173.7  \" stroke=\"rgb( 38, 255, 217)\"/>\t<path d=\"M416.1,173.7 L428.0,175.5 L439.9,177.3  \" stroke=\"rgb( 22, 255, 233)\"/>\t<path d=\"M151.6,139.5 L163.6,141.3 L175.5,143.1  \" stroke=\"rgb(184, 255,  71)\"/>\t<path d=\"M175.5,143.1 L187.4,144.9 L199.3,146.7  \" stroke=\"rgb(168, 255,  87)\"/>\t<path d=\"M199.3,146.7 L211.3,148.5 L223.2,150.3  \" stroke=\"rgb(152, 255, 103)\"/>\t<path d=\"M223.2,150.3 L235.1,152.1 L247.1,153.9 L259.0,155.7  \" stroke=\"rgb(136, 255, 119)\"/>\t<path d=\"M259.0,155.7 L270.9,157.5 L282.7,159.3  \" stroke=\"rgb(119, 255, 136)\"/>\t<path d=\"M282.7,159.3 L294.7,161.1 L306.6,162.9  \" stroke=\"rgb(103, 255, 152)\"/>\t<path d=\"M306.6,162.9 L318.5,164.7 L330.5,166.5  \" stroke=\"rgb( 87, 255, 168)\"/>\t<path d=\"M330.5,166.5 L342.4,168.3 L354.3,170.1 L366.2,171.9  \" stroke=\"rgb( 71, 255, 184)\"/>\t<path d=\"M366.2,171.9 L378.2,173.7 L390.1,175.5  \" stroke=\"rgb( 55, 255, 200)\"/>\t<path d=\"M390.1,175.5 L402.0,177.3 L414.0,179.1  \" stroke=\"rgb( 38, 255, 217)\"/>\t<path d=\"M414.0,179.1 L425.9,180.9 L437.8,182.6  \" stroke=\"rgb( 22, 255, 233)\"/>\t<path d=\"M149.5,144.9 L161.5,146.7 L173.4,148.5  \" stroke=\"rgb(184, 255,  71)\"/>\t<path d=\"M173.4,148.5 L185.3,150.3 L197.2,152.1 L209.2,153.9  \" stroke=\"rgb(168, 255,  87)\"/>\t<path d=\"M209.2,153.9 L221.1,155.7 L233.0,157.5  \" stroke=\"rgb(152, 255, 103)\"/>\t<path d=\"M233.0,157.5 L245.0,159.3 L256.9,161.1  \" stroke=\"rgb(136, 255, 119)\"/>\t<path d=\"M256.9,161.1 L268.8,162.9 L280.6,164.7  \" stroke=\"rgb(119, 255, 136)\"/>\t<path d=\"M280.6,164.7 L292.6,166.5 L304.5,168.3 L316.4,170.1  \" stroke=\"rgb(103, 255, 152)\"/>\t<path d=\"M316.4,170.1 L328.4,171.8 L340.3,173.6  \" stroke=\"rgb( 87, 255, 168)\"/>\t<path d=\"M340.3,173.6 L352.2,175.4 L364.1,177.2  \" stroke=\"rgb( 71, 255, 184)\"/>\t<path d=\"M364.1,177.2 L376.1,179.0 L388.0,180.8  \" stroke=\"rgb( 55, 255, 200)\"/>\t<path d=\"M388.0,180.8 L399.9,182.6 L411.9,184.4 L423.8,186.2  \" stroke=\"rgb( 38, 255, 217)\"/>\t<path d=\"M423.8,186.2 L435.7,188.0  \" stroke=\"rgb( 22, 255, 233)\"/>\t<path d=\"M147.4,150.3 L159.4,152.1  \" stroke=\"rgb(200, 255,  55)\"/>\t<path d=\"M159.4,152.1 L171.3,153.9 L183.2,155.7  \" stroke=\"rgb(184, 255,  71)\"/>\t<path d=\"M183.2,155.7 L195.1,157.5 L207.1,159.3  \" stroke=\"rgb(168, 255,  87)\"/>\t<path d=\"M207.1,159.3 L219.0,161.1 L230.9,162.8  \" stroke=\"rgb(152, 255, 103)\"/>\t<path d=\"M230.9,162.8 L242.9,164.6 L254.8,166.4 L266.7,168.2  \" stroke=\"rgb(136, 255, 119)\"/>\t<path d=\"M266.7,168.2 L278.6,170.0 L290.5,171.8  \" stroke=\"rgb(119, 255, 136)\"/>\t<path d=\"M290.5,171.8 L302.4,173.6 L314.3,175.4  \" stroke=\"rgb(103, 255, 152)\"/>\t<path d=\"M314.3,175.4 L326.3,177.2 L338.2,179.0  \" stroke=\"rgb( 87, 255, 168)\"/>\t<path d=\"M338.2,179.0 L350.1,180.8 L362.0,182.6 L374.0,184.4  \" stroke=\"rgb( 71, 255, 184)\"/>\t<path d=\"M374.0,184.4 L385.9,186.2 L397.8,188.0  \" stroke=\"rgb( 55, 255, 200)\"/>\t<path d=\"M397.8,188.0 L409.8,189.8 L421.7,191.6  \" stroke=\"rgb( 38, 255, 217)\"/>\t<path d=\"M421.7,191.6 L433.6,193.4  \" stroke=\"rgb( 22, 255, 233)\"/>\t<path d=\"M145.3,155.6 L157.2,157.4  \" stroke=\"rgb(200, 255,  55)\"/>\t<path d=\"M157.2,157.4 L169.2,159.2 L181.1,161.0  \" stroke=\"rgb(184, 255,  71)\"/>\t<path d=\"M181.1,161.0 L193.0,162.8 L205.0,164.6 L216.9,166.4  \" stroke=\"rgb(168, 255,  87)\"/>\t<path d=\"M216.9,166.4 L228.8,168.2 L240.7,170.0  \" stroke=\"rgb(152, 255, 103)\"/>\t<path d=\"M240.7,170.0 L252.7,171.8 L264.6,173.6  \" stroke=\"rgb(136, 255, 119)\"/>\t<path d=\"M264.6,173.6 L276.5,175.4 L288.4,177.2  \" stroke=\"rgb(119, 255, 136)\"/>\t<path d=\"M288.4,177.2 L300.3,179.0 L312.2,180.8 L324.1,182.6  \" stroke=\"rgb(103, 255, 152)\"/>\t<path d=\"M324.1,182.6 L336.1,184.4 L348.0,186.2  \" stroke=\"rgb( 87, 255, 168)\"/>\t<path d=\"M348.0,186.2 L359.9,188.0 L371.9,189.8  \" stroke=\"rgb( 71, 255, 184)\"/>\t<path d=\"M371.9,189.8 L383.8,191.6 L395.7,193.4  \" stroke=\"rgb( 55, 255, 200)\"/>\t<path d=\"M395.7,193.4 L407.6,195.2 L419.6,197.0 L431.5,198.8  \" stroke=\"rgb( 38, 255, 217)\"/>\t<path d=\"M143.2,161.0 L155.1,162.8 L167.1,164.6  \" stroke=\"rgb(200, 255,  55)\"/>\t<path d=\"M167.1,164.6 L179.0,166.4 L190.9,168.2  \" stroke=\"rgb(184, 255,  71)\"/>\t<path d=\"M190.9,168.2 L202.9,170.0 L214.8,171.8  \" stroke=\"rgb(168, 255,  87)\"/>\t<path d=\"M214.8,171.8 L226.7,173.6 L238.6,175.4  \" stroke=\"rgb(152, 255, 103)\"/>\t<path d=\"M238.6,175.4 L250.6,177.2 L262.5,179.0 L274.4,180.8  \" stroke=\"rgb(136, 255, 119)\"/>\t<path d=\"M274.4,180.8 L286.3,182.6 L298.2,184.4  \" stroke=\"rgb(119, 255, 136)\"/>\t<path d=\"M298.2,184.4 L310.1,186.2 L322.0,188.0  \" stroke=\"rgb(103, 255, 152)\"/>\t<path d=\"M322.0,188.0 L334.0,189.8 L345.9,191.6  \" stroke=\"rgb( 87, 255, 168)\"/>\t<path d=\"M345.9,191.6 L357.8,193.4 L369.8,195.2 L381.7,197.0  \" stroke=\"rgb( 71, 255, 184)\"/>\t<path d=\"M381.7,197.0 L393.6,198.8 L405.5,200.6  \" stroke=\"rgb( 55, 255, 200)\"/>\t<path d=\"M405.5,200.6 L417.5,202.3 L429.4,204.0  \" stroke=\"rgb( 38, 255, 217)\"/>\t<path d=\"M141.1,166.4 L153.0,168.2 L165.0,170.0  \" stroke=\"rgb(200, 255,  55)\"/>\t<path d=\"M165.0,170.0 L176.9,171.8 L188.8,173.6  \" stroke=\"rgb(184, 255,  71)\"/>\t<path d=\"M188.8,173.6 L200.8,175.4 L212.7,177.2 L224.6,179.0  \" stroke=\"rgb(168, 255,  87)\"/>\t<path d=\"M224.6,179.0 L236.5,180.8 L248.5,182.6  \" stroke=\"rgb(152, 255, 103)\"/>\t<path d=\"M248.5,182.6 L260.4,184.4 L272.3,186.2  \" stroke=\"rgb(136, 255, 119)\"/>\t<path d=\"M272.3,186.2 L284.2,188.0 L296.1,189.8  \" stroke=\"rgb(119, 255, 136)\"/>\t<path d=\"M296.1,189.8 L308.0,191.6 L319.9,193.3 L331.9,195.1  \" stroke=\"rgb(103, 255, 152)\"/>\t<path d=\"M331.9,195.1 L343.8,196.9 L355.7,198.7  \" stroke=\"rgb( 87, 255, 168)\"/>\t<path d=\"M355.7,198.7 L367.7,200.5 L379.6,202.2  \" stroke=\"rgb( 71, 255, 184)\"/>\t<path d=\"M379.6,202.2 L391.5,204.0 L403.4,205.8  \" stroke=\"rgb( 55, 255, 200)\"/>\t<path d=\"M403.4,205.8 L415.4,207.6 L427.3,209.4  \" stroke=\"rgb( 38, 255, 217)\"/>\t<path d=\"M139.0,171.8 L150.9,173.6 L162.9,175.4 L174.8,177.2  \" stroke=\"rgb(200, 255,  55)\"/>\t<path d=\"M174.8,177.2 L186.7,179.0 L198.7,180.8  \" stroke=\"rgb(184, 255,  71)\"/>\t<path d=\"M198.7,180.8 L210.6,182.6 L222.5,184.3  \" stroke=\"rgb(168, 255,  87)\"/>\t<path d=\"M222.5,184.3 L234.4,186.1 L246.4,187.9  \" stroke=\"rgb(152, 255, 103)\"/>\t<path d=\"M246.4,187.9 L258.3,189.7 L270.2,191.5 L282.1,193.3  \" stroke=\"rgb(136, 255, 119)\"/>\t<path d=\"M282.1,193.3 L294.0,195.1 L305.9,196.9  \" stroke=\"rgb(119, 255, 136)\"/>\t<path d=\"M305.9,196.9 L317.8,198.7 L329.8,200.5  \" stroke=\"rgb(103, 255, 152)\"/>\t<path d=\"M329.8,200.5 L341.7,202.2 L353.6,204.0  \" stroke=\"rgb( 87, 255, 168)\"/>\t<path d=\"M353.6,204.0 L365.6,205.8 L377.5,207.6 L389.4,209.4  \" stroke=\"rgb( 71, 255, 184)\"/>\t<path d=\"M389.4,209.4 L401.3,211.2 L413.3,213.0  \" stroke=\"rgb( 55, 255, 200)\"/>\t<path d=\"M413.3,213.0 L425.2,214.8  \" stroke=\"rgb( 38, 255, 217)\"/>\t<path d=\"M136.9,177.1 L148.8,178.9  \" stroke=\"rgb(217, 255,  38)\"/>\t<path d=\"M148.8,178.9 L160.8,180.7 L172.7,182.5  \" stroke=\"rgb(200, 255,  55)\"/>\t<path d=\"M172.7,182.5 L184.6,184.3 L196.6,186.1  \" stroke=\"rgb(184, 255,  71)\"/>\t<path d=\"M196.6,186.1 L208.5,187.9 L220.4,189.7 L232.3,191.5  \" stroke=\"rgb(168, 255,  87)\"/>\t<path d=\"M232.3,191.5 L244.3,193.3 L256.2,195.1  \" stroke=\"rgb(152, 255, 103)\"/>\t<path d=\"M256.2,195.1 L268.1,196.9 L280.0,198.7  \" stroke=\"rgb(136, 255, 119)\"/>\t<path d=\"M280.0,198.7 L291.9,200.5 L303.8,202.2  \" stroke=\"rgb(119, 255, 136)\"/>\t<path d=\"M303.8,202.2 L315.7,204.0 L327.7,205.8 L339.6,207.6  \" stroke=\"rgb(103, 255, 152)\"/>\t<path d=\"M339.6,207.6 L351.5,209.4 L363.4,211.2  \" stroke=\"rgb( 87, 255, 168)\"/>\t<path d=\"M363.4,211.2 L375.4,213.0 L387.3,214.8  \" stroke=\"rgb( 71, 255, 184)\"/>\t<path d=\"M387.3,214.8 L399.2,216.6 L411.2,218.4  \" stroke=\"rgb( 55, 255, 200)\"/>\t<path d=\"M411.2,218.4 L423.1,220.2  \" stroke=\"rgb( 38, 255, 217)\"/>\t<path d=\"M134.8,182.5 L146.7,184.3  \" stroke=\"rgb(217, 255,  38)\"/>\t<path d=\"M146.7,184.3 L158.7,186.1 L170.6,187.9 L182.5,189.7  \" stroke=\"rgb(200, 255,  55)\"/>\t<path d=\"M182.5,189.7 L194.4,191.5 L206.4,193.3  \" stroke=\"rgb(184, 255,  71)\"/>\t<path d=\"M206.4,193.3 L218.3,195.1 L230.2,196.9  \" stroke=\"rgb(168, 255,  87)\"/>\t<path d=\"M230.2,196.9 L242.2,198.7 L254.1,200.5  \" stroke=\"rgb(152, 255, 103)\"/>\t<path d=\"M254.1,200.5 L266.0,202.2 L277.9,204.0 L289.8,205.8  \" stroke=\"rgb(136, 255, 119)\"/>\t<path d=\"M289.8,205.8 L301.7,207.6 L313.6,209.4  \" stroke=\"rgb(119, 255, 136)\"/>\t<path d=\"M313.6,209.4 L325.6,211.2 L337.5,213.0  \" stroke=\"rgb(103, 255, 152)\"/>\t<path d=\"M337.5,213.0 L349.4,214.8 L361.3,216.6  \" stroke=\"rgb( 87, 255, 168)\"/>\t<path d=\"M361.3,216.6 L373.3,218.4 L385.2,220.2 L397.1,222.0  \" stroke=\"rgb( 71, 255, 184)\"/>\t<path d=\"M397.1,222.0 L409.1,223.8 L421.0,225.5  \" stroke=\"rgb( 55, 255, 200)\"/>\t<path d=\"M132.7,187.9 L144.6,189.7 L156.6,191.5  \" stroke=\"rgb(217, 255,  38)\"/>\t<path d=\"M156.6,191.5 L168.5,193.3 L180.4,195.1  \" stroke=\"rgb(200, 255,  55)\"/>\t<path d=\"M180.4,195.1 L192.3,196.9 L204.3,198.7  \" stroke=\"rgb(184, 255,  71)\"/>\t<path d=\"M204.3,198.7 L216.2,200.5 L228.1,202.2 L240.1,204.0  \" stroke=\"rgb(168, 255,  87)\"/>\t<path d=\"M240.1,204.0 L252.0,205.8 L263.9,207.6  \" stroke=\"rgb(152, 255, 103)\"/>\t<path d=\"M263.9,207.6 L275.8,209.4 L287.7,211.2  \" stroke=\"rgb(136, 255, 119)\"/>\t<path d=\"M287.7,211.2 L299.6,213.0 L311.5,214.7  \" stroke=\"rgb(119, 255, 136)\"/>\t<path d=\"M311.5,214.7 L323.5,216.5 L335.4,218.3 L347.3,220.1  \" stroke=\"rgb(103, 255, 152)\"/>\t<path d=\"M347.3,220.1 L359.2,221.9 L371.2,223.7  \" stroke=\"rgb( 87, 255, 168)\"/>\t<path d=\"M371.2,223.7 L383.1,225.5 L395.0,227.3  \" stroke=\"rgb( 71, 255, 184)\"/>\t<path d=\"M395.0,227.3 L407.0,229.1 L418.9,230.9  \" stroke=\"rgb( 55, 255, 200)\"/>\t<path d=\"M130.6,193.3 L142.5,195.1 L154.5,196.9  \" stroke=\"rgb(217, 255,  38)\"/>\t<path d=\"M154.5,196.9 L166.4,198.7 L178.3,200.5 L190.2,202.2  \" stroke=\"rgb(200, 255,  55)\"/>\t<path d=\"M190.2,202.2 L202.2,204.0 L214.1,205.7  \" stroke=\"rgb(184, 255,  71)\"/>\t<path d=\"M214.1,205.7 L226.0,207.5 L238.0,209.3  \" stroke=\"rgb(168, 255,  87)\"/>\t<path d=\"M238.0,209.3 L249.9,211.1 L261.8,212.9  \" stroke=\"rgb(152, 255, 103)\"/>\t<path d=\"M261.8,212.9 L273.7,214.7 L285.6,216.5 L297.5,218.3  \" stroke=\"rgb(136, 255, 119)\"/>\t<path d=\"M297.5,218.3 L309.4,220.1 L321.4,221.9  \" stroke=\"rgb(119, 255, 136)\"/>\t<path d=\"M321.4,221.9 L333.3,223.7 L345.2,225.5  \" stroke=\"rgb(103, 255, 152)\"/>\t<path d=\"M345.2,225.5 L357.1,227.3 L369.1,229.1  \" stroke=\"rgb( 87, 255, 168)\"/>\t<path d=\"M369.1,229.1 L381.0,230.9 L392.9,232.7 L404.9,234.5  \" stroke=\"rgb( 71, 255, 184)\"/>\t<path d=\"M404.9,234.5 L416.8,236.3  \" stroke=\"rgb( 55, 255, 200)\"/>\t<path d=\"M128.5,198.6 L140.4,200.4  \" stroke=\"rgb(233, 255,  22)\"/>\t<path d=\"M140.4,200.4 L152.4,202.1 L164.3,203.9  \" stroke=\"rgb(217, 255,  38)\"/>\t<path d=\"M164.3,203.9 L176.2,205.7 L188.1,207.5  \" stroke=\"rgb(200, 255,  55)\"/>\t<path d=\"M188.1,207.5 L200.1,209.3 L212.0,211.1  \" stroke=\"rgb(184, 255,  71)\"/>\t<path d=\"M212.0,211.1 L223.9,212.9 L235.9,214.7 L247.8,216.5  \" stroke=\"rgb(168, 255,  87)\"/>\t<path d=\"M247.8,216.5 L259.7,218.3 L271.6,220.1  \" stroke=\"rgb(152, 255, 103)\"/>\t<path d=\"M271.6,220.1 L283.5,221.9 L295.4,223.7  \" stroke=\"rgb(136, 255, 119)\"/>\t<path d=\"M295.4,223.7 L307.3,225.5 L319.3,227.3  \" stroke=\"rgb(119, 255, 136)\"/>\t<path d=\"M319.3,227.3 L331.2,229.1 L343.1,230.9 L355.0,232.7  \" stroke=\"rgb(103, 255, 152)\"/>\t<path d=\"M355.0,232.7 L367.0,234.5 L378.9,236.3  \" stroke=\"rgb( 87, 255, 168)\"/>\t<path d=\"M378.9,236.3 L390.8,238.1 L402.8,239.9  \" stroke=\"rgb( 71, 255, 184)\"/>\t<path d=\"M402.8,239.9 L414.7,241.7  \" stroke=\"rgb( 55, 255, 200)\"/>\t<path d=\"M126.4,203.9 L138.3,205.7  \" stroke=\"rgb(233, 255,  22)\"/>\t<path d=\"M138.3,205.7 L150.2,207.5 L162.2,209.3  \" stroke=\"rgb(217, 255,  38)\"/>\t<path d=\"M162.2,209.3 L174.1,211.1 L186.0,212.9 L198.0,214.7  \" stroke=\"rgb(200, 255,  55)\"/>\t<path d=\"M198.0,214.7 L209.9,216.5 L221.8,218.3  \" stroke=\"rgb(184, 255,  71)\"/>\t<path d=\"M221.8,218.3 L233.7,220.1 L245.7,221.9  \" stroke=\"rgb(168, 255,  87)\"/>\t<path d=\"M245.7,221.9 L257.6,223.7 L269.5,225.5  \" stroke=\"rgb(152, 255, 103)\"/>\t<path d=\"M269.5,225.5 L281.4,227.3 L293.3,229.1 L305.2,230.9  \" stroke=\"rgb(136, 255, 119)\"/>\t<path d=\"M305.2,230.9 L317.1,232.7 L329.1,234.5  \" stroke=\"rgb(119, 255, 136)\"/>\t<path d=\"M329.1,234.5 L341.0,236.3 L352.9,238.1  \" stroke=\"rgb(103, 255, 152)\"/>\t<path d=\"M352.9,238.1 L364.9,239.9 L376.8,241.7  \" stroke=\"rgb( 87, 255, 168)\"/>\t<path d=\"M376.8,241.7 L388.7,243.5 L400.6,245.3 L412.6,247.0  \" stroke=\"rgb( 71, 255, 184)\"/>\t<path d=\"M124.3,209.3 L136.2,211.1 L148.1,212.9  \" stroke=\"rgb(233, 255,  22)\"/>\t<path d=\"M148.1,212.9 L160.1,214.7 L172.0,216.5  \" stroke=\"rgb(217, 255,  38)\"/>\t<path d=\"M172.0,216.5 L183.9,218.3 L195.9,220.1  \" stroke=\"rgb(200, 255,  55)\"/>\t<path d=\"M195.9,220.1 L207.8,221.9 L219.7,223.7  \" stroke=\"rgb(184, 255,  71)\"/>\t<path d=\"M219.7,223.7 L231.6,225.5 L243.6,227.3 L255.5,229.1  \" stroke=\"rgb(168, 255,  87)\"/>\t<path d=\"M255.5,229.1 L267.4,230.9 L279.4,232.7  \" stroke=\"rgb(152, 255, 103)\"/>\t<path d=\"M279.4,232.7 L291.2,234.5 L303.1,236.2  \" stroke=\"rgb(136, 255, 119)\"/>\t<path d=\"M303.1,236.2 L315.0,238.0 L327.0,239.8  \" stroke=\"rgb(119, 255, 136)\"/>\t<path d=\"M327.0,239.8 L338.9,241.6 L350.8,243.4 L362.8,245.2  \" stroke=\"rgb(103, 255, 152)\"/>\t<path d=\"M362.8,245.2 L374.7,247.0 L386.6,248.8  \" stroke=\"rgb( 87, 255, 168)\"/>\t<path d=\"M386.6,248.8 L398.5,250.6 L410.5,252.4  \" stroke=\"rgb( 71, 255, 184)\"/>\t<path d=\"M122.2,214.7 L134.1,216.5 L146.0,218.3  \" stroke=\"rgb(233, 255,  22)\"/>\t<path d=\"M146.0,218.3 L158.0,220.1 L169.9,221.9  \" stroke=\"rgb(217, 255,  38)\"/>\t<path d=\"M169.9,221.9 L181.8,223.7 L193.8,225.5 L205.7,227.2  \" stroke=\"rgb(200, 255,  55)\"/>\t<path d=\"M205.7,227.2 L217.6,229.0 L229.5,230.8  \" stroke=\"rgb(184, 255,  71)\"/>\t<path d=\"M229.5,230.8 L241.5,232.6 L253.4,234.4  \" stroke=\"rgb(168, 255,  87)\"/>\t<path d=\"M253.4,234.4 L265.3,236.2 L277.3,238.0  \" stroke=\"rgb(152, 255, 103)\"/>\t<path d=\"M277.3,238.0 L289.1,239.8 L301.0,241.6 L312.9,243.4  \" stroke=\"rgb(136, 255, 119)\"/>\t<path d=\"M312.9,243.4 L324.9,245.2 L336.8,247.0  \" stroke=\"rgb(119, 255, 136)\"/>\t<path d=\"M336.8,247.0 L348.7,248.8 L360.7,250.6  \" stroke=\"rgb(103, 255, 152)\"/>\t<path d=\"M360.7,250.6 L372.6,252.4 L384.5,254.2  \" stroke=\"rgb( 87, 255, 168)\"/>\t<path d=\"M384.5,254.2 L396.4,256.0 L408.4,257.8  \" stroke=\"rgb( 71, 255, 184)\"/>\t<path d=\"M120.1,220.0 L132.0,221.8 L143.9,223.6 L155.9,225.4  \" stroke=\"rgb(233, 255,  22)\"/>\t<path d=\"M155.9,225.4 L167.8,227.2 L179.7,229.0  \" stroke=\"rgb(217, 255,  38)\"/>\t<path d=\"M179.7,229.0 L191.7,230.8 L203.6,232.6  \" stroke=\"rgb(200, 255,  55)\"/>\t<path d=\"M203.6,232.6 L215.5,234.4 L227.4,236.2  \" stroke=\"rgb(184, 255,  71)\"/>\t<path d=\"M227.4,236.2 L239.4,238.0 L251.3,239.8 L263.2,241.6  \" stroke=\"rgb(168, 255,  87)\"/>\t<path d=\"M263.2,241.6 L275.2,243.4 L287.0,245.2  \" stroke=\"rgb(152, 255, 103)\"/>\t<path d=\"M287.0,245.2 L298.9,247.0 L310.8,248.8  \" stroke=\"rgb(136, 255, 119)\"/>\t<path d=\"M310.8,248.8 L322.8,250.6 L334.7,252.4  \" stroke=\"rgb(119, 255, 136)\"/>\t<path d=\"M334.7,252.4 L346.6,254.2 L358.6,256.0 L370.5,257.8  \" stroke=\"rgb(103, 255, 152)\"/>\t<path d=\"M370.5,257.8 L382.4,259.6 L394.3,261.4  \" stroke=\"rgb( 87, 255, 168)\"/>\t<path d=\"M394.3,261.4 L406.3,263.2  \" stroke=\"rgb( 71, 255, 184)\"/>\t<path d=\"M118.0,225.4 L129.9,227.2  \" stroke=\"rgb(249, 255,   6)\"/>\t<path d=\"M129.9,227.2 L141.8,229.0 L153.8,230.8  \" stroke=\"rgb(233, 255,  22)\"/>\t<path d=\"M153.8,230.8 L165.7,232.6 L177.6,234.4  \" stroke=\"rgb(217, 255,  38)\"/>\t<path d=\"M177.6,234.4 L189.5,236.2 L201.5,238.0 L213.4,239.8  \" stroke=\"rgb(200, 255,  55)\"/>\t<path d=\"M213.4,239.8 L225.3,241.6 L237.3,243.4  \" stroke=\"rgb(184, 255,  71)\"/>\t<path d=\"M237.3,243.4 L249.2,245.2 L261.1,247.0  \" stroke=\"rgb(168, 255,  87)\"/>\t<path d=\"M261.1,247.0 L273.0,248.8 L284.9,250.6  \" stroke=\"rgb(152, 255, 103)\"/>\t<path d=\"M284.9,250.6 L296.8,252.4 L308.7,254.2 L320.7,256.0  \" stroke=\"rgb(136, 255, 119)\"/>\t<path d=\"M320.7,256.0 L332.6,257.8 L344.5,259.6  \" stroke=\"rgb(119, 255, 136)\"/>\t<path d=\"M344.5,259.6 L356.4,261.4 L368.4,263.2  \" stroke=\"rgb(103, 255, 152)\"/>\t<path d=\"M368.4,263.2 L380.3,265.0 L392.2,266.8  \" stroke=\"rgb( 87, 255, 168)\"/>\t<path d=\"M392.2,266.8 L404.2,268.5  \" stroke=\"rgb( 71, 255, 184)\"/>\t<path d=\"M115.9,230.8 L127.8,232.6  \" stroke=\"rgb(249, 255,   6)\"/>\t<path d=\"M127.8,232.6 L139.7,234.4 L151.7,236.2 L163.6,238.0  \" stroke=\"rgb(233, 255,  22)\"/>\t<path d=\"M163.6,238.0 L175.5,239.8 L187.4,241.6  \" stroke=\"rgb(217, 255,  38)\"/>\t<path d=\"M187.4,241.6 L199.4,243.4 L211.3,245.2  \" stroke=\"rgb(200, 255,  55)\"/>\t<path d=\"M211.3,245.2 L223.2,247.0 L235.2,248.8  \" stroke=\"rgb(184, 255,  71)\"/>\t<path d=\"M235.2,248.8 L247.1,250.6 L259.0,252.4 L270.9,254.2  \" stroke=\"rgb(168, 255,  87)\"/>\t<path d=\"M270.9,254.2 L282.8,256.0 L294.7,257.8  \" stroke=\"rgb(152, 255, 103)\"/>\t<path d=\"M294.7,257.8 L306.6,259.5 L318.6,261.3  \" stroke=\"rgb(136, 255, 119)\"/>\t<path d=\"M318.6,261.3 L330.5,263.1 L342.4,264.9  \" stroke=\"rgb(119, 255, 136)\"/>\t<path d=\"M342.4,264.9 L354.3,266.7 L366.3,268.5 L378.2,270.3  \" stroke=\"rgb(103, 255, 152)\"/>\t<path d=\"M378.2,270.3 L390.1,272.1 L402.1,273.9  \" stroke=\"rgb( 87, 255, 168)\"/>\t<path d=\"M113.8,236.2 L125.7,238.0 L137.6,239.8  \" stroke=\"rgb(249, 255,   6)\"/>\t<path d=\"M137.6,239.8 L149.6,241.6 L161.5,243.4  \" stroke=\"rgb(233, 255,  22)\"/>\t<path d=\"M161.5,243.4 L173.4,245.2 L185.3,247.0  \" stroke=\"rgb(217, 255,  38)\"/>\t<path d=\"M185.3,247.0 L197.3,248.7 L209.2,250.5 L221.1,252.3  \" stroke=\"rgb(200, 255,  55)\"/>\t<path d=\"M221.1,252.3 L233.1,254.1 L245.0,255.9  \" stroke=\"rgb(184, 255,  71)\"/>\t<path d=\"M245.0,255.9 L256.9,257.7 L268.8,259.5  \" stroke=\"rgb(168, 255,  87)\"/>\t<path d=\"M268.8,259.5 L280.7,261.3 L292.6,263.1  \" stroke=\"rgb(152, 255, 103)\"/>\t<path d=\"M292.6,263.1 L304.5,264.9 L316.5,266.7 L328.4,268.5  \" stroke=\"rgb(136, 255, 119)\"/>\t<path d=\"M328.4,268.5 L340.3,270.3 L352.2,272.1  \" stroke=\"rgb(119, 255, 136)\"/>\t<path d=\"M352.2,272.1 L364.2,273.9 L376.1,275.7  \" stroke=\"rgb(103, 255, 152)\"/>\t<path d=\"M376.1,275.7 L388.0,277.5 L400.0,279.3  \" stroke=\"rgb( 87, 255, 168)\"/>\t<path d=\"M111.7,241.5 L123.6,243.3 L135.5,245.1  \" stroke=\"rgb(249, 255,   6)\"/>\t<path d=\"M135.5,245.1 L147.5,246.9 L159.4,248.7 L171.3,250.5  \" stroke=\"rgb(233, 255,  22)\"/>\t<path d=\"M171.3,250.5 L183.2,252.3 L195.2,254.1  \" stroke=\"rgb(217, 255,  38)\"/>\t<path d=\"M195.2,254.1 L207.1,255.9 L219.0,257.7  \" stroke=\"rgb(200, 255,  55)\"/>\t<path d=\"M219.0,257.7 L231.0,259.5 L242.9,261.3  \" stroke=\"rgb(184, 255,  71)\"/>\t<path d=\"M242.9,261.3 L254.8,263.1 L266.7,264.9 L278.7,266.7  \" stroke=\"rgb(168, 255,  87)\"/>\t<path d=\"M278.7,266.7 L290.5,268.5 L302.4,270.3  \" stroke=\"rgb(152, 255, 103)\"/>\t<path d=\"M302.4,270.3 L314.4,272.1 L326.3,273.9  \" stroke=\"rgb(136, 255, 119)\"/>\t<path d=\"M326.3,273.9 L338.2,275.7 L350.1,277.5  \" stroke=\"rgb(119, 255, 136)\"/>\t<path d=\"M350.1,277.5 L362.1,279.3 L374.0,281.1 L385.9,282.9  \" stroke=\"rgb(103, 255, 152)\"/>\t<path d=\"M385.9,282.9 L397.9,284.7  \" stroke=\"rgb( 87, 255, 168)\"/></g>\n",
       "\t</g>\n",
       "\t<g id=\"gnuplot_plot_3a\"><title>gnuplot_plot_3a</title>\n",
       "<g color=\"black\" fill=\"none\" stroke=\"currentColor\" stroke-linecap=\"butt\" stroke-linejoin=\"miter\" stroke-width=\"1.00\">\n",
       "\t<path d=\"M162.1,119.9 L160.0,125.6 L157.9,131.3 L155.8,137.0 L153.7,142.7 L151.6,148.3 L149.5,154.0 L147.4,159.7   L145.3,165.4 L143.2,171.1 L141.1,176.8  \" stroke=\"rgb(103, 255, 152)\"/>\t<path d=\"M141.1,176.8 L139.0,182.5 L136.9,188.1 L134.8,193.8 L132.7,199.5 L130.6,205.1 L128.5,210.8 L126.4,216.5   L124.3,222.2 L122.2,227.9 L120.1,233.5 L118.0,239.2 L115.9,244.9 L113.8,250.6 L111.7,256.3  \" stroke=\"rgb(119, 255, 136)\"/>\t<path d=\"M174.1,121.0 L172.0,126.6 L169.9,132.3 L167.8,138.0 L165.7,143.7 L163.6,149.4 L161.5,155.1 L159.4,160.8   L157.2,166.5 L155.1,172.1 L153.0,177.8 L150.9,183.5  \" stroke=\"rgb(103, 255, 152)\"/>\t<path d=\"M150.9,183.5 L148.8,189.2 L146.7,194.9 L144.6,200.6 L142.5,206.2 L140.4,211.9 L138.3,217.5 L136.2,223.2   L134.1,228.9 L132.0,234.6 L129.9,240.3 L127.8,246.0 L125.7,251.7 L123.6,257.4  \" stroke=\"rgb(119, 255, 136)\"/>\t<path d=\"M186.0,122.0 L183.9,127.7 L181.8,133.4 L179.7,139.1 L177.6,144.8 L175.5,150.4 L173.4,156.1 L171.3,161.8   L169.2,167.5 L167.1,173.2 L165.0,178.9 L162.9,184.6  \" stroke=\"rgb(103, 255, 152)\"/>\t<path d=\"M162.9,184.6 L160.8,190.3 L158.7,195.9 L156.6,201.5 L154.5,207.2 L152.4,212.9 L150.2,218.6 L148.1,224.3   L146.0,230.0 L143.9,235.7 L141.8,241.3 L139.7,247.0 L137.6,252.7 L135.5,258.4  \" stroke=\"rgb(119, 255, 136)\"/>\t<path d=\"M197.9,123.1 L195.8,128.8 L193.7,134.4 L191.6,140.1 L189.5,145.8 L187.4,151.5 L185.3,157.2 L183.2,162.9   L181.1,168.6 L179.0,174.3 L176.9,179.9 L174.8,185.6 L172.7,191.3  \" stroke=\"rgb(103, 255, 152)\"/>\t<path d=\"M172.7,191.3 L170.6,197.0 L168.5,202.6 L166.4,208.3 L164.3,214.0 L162.2,219.7 L160.1,225.3 L158.0,231.0   L155.9,236.7 L153.8,242.4 L151.7,248.1 L149.6,253.8 L147.5,259.5  \" stroke=\"rgb(119, 255, 136)\"/>\t<path d=\"M209.9,124.1 L207.8,129.8 L205.7,135.5 L203.6,141.2 L201.4,146.9 L199.3,152.6 L197.2,158.2 L195.1,163.9   L193.0,169.6 L190.9,175.3 L188.8,181.0 L186.7,186.7 L184.6,192.4  \" stroke=\"rgb(103, 255, 152)\"/>\t<path d=\"M184.6,192.4 L182.5,198.1 L180.4,203.6 L178.3,209.3 L176.2,215.0 L174.1,220.7 L172.0,226.4 L169.9,232.1   L167.8,237.8 L165.7,243.5 L163.6,249.1 L161.5,254.8 L159.4,260.5  \" stroke=\"rgb(119, 255, 136)\"/>\t<path d=\"M221.8,125.2 L219.7,130.9 L217.6,136.6 L215.5,142.2 L213.4,147.9 L211.3,153.6 L209.2,159.3 L207.1,165.0   L205.0,170.7 L202.9,176.4 L200.8,182.1 L198.7,187.7 L196.6,193.4 L194.4,199.1  \" stroke=\"rgb(103, 255, 152)\"/>\t<path d=\"M194.4,199.1 L192.3,204.7 L190.2,210.4 L188.1,216.1 L186.0,221.8 L183.9,227.5 L181.8,233.1 L179.7,238.8   L177.6,244.5 L175.5,250.2 L173.4,255.9 L171.3,261.6  \" stroke=\"rgb(119, 255, 136)\"/>\t<path d=\"M233.7,126.2 L231.6,131.9 L229.5,137.6 L227.4,143.3 L225.3,149.0 L223.2,154.7 L221.1,160.4 L219.0,166.0   L216.9,171.7 L214.8,177.4 L212.7,183.1 L210.6,188.8 L208.5,194.5 L206.4,200.2  \" stroke=\"rgb(103, 255, 152)\"/>\t<path d=\"M206.4,200.2 L204.3,205.8 L202.2,211.4 L200.1,217.1 L198.0,222.8 L195.9,228.5 L193.8,234.2 L191.7,239.9   L189.5,245.6 L187.4,251.3 L185.3,256.9 L183.2,262.6  \" stroke=\"rgb(119, 255, 136)\"/>\t<path d=\"M245.6,127.3 L243.5,133.0 L241.4,138.7 L239.3,144.4 L237.2,150.0 L235.1,155.7 L233.0,161.4 L230.9,167.1   L228.8,172.8 L226.7,178.5 L224.6,184.2 L222.5,189.9 L220.4,195.5 L218.3,201.1 L216.2,206.8  \" stroke=\"rgb(103, 255, 152)\"/>\t<path d=\"M216.2,206.8 L214.1,212.5 L212.0,218.2 L209.9,223.9 L207.8,229.6 L205.7,235.2 L203.6,240.9 L201.5,246.6   L199.4,252.3 L197.3,258.0 L195.2,263.7  \" stroke=\"rgb(119, 255, 136)\"/>\t<path d=\"M257.6,128.3 L255.5,134.0 L253.4,139.7 L251.3,145.4 L249.2,151.1 L247.1,156.8 L245.0,162.5 L242.9,168.2   L240.7,173.8 L238.6,179.5 L236.5,185.2 L234.4,190.9 L232.3,196.6 L230.2,202.2 L228.1,207.9  \" stroke=\"rgb(103, 255, 152)\"/>\t<path d=\"M228.1,207.9 L226.0,213.6 L223.9,219.2 L221.8,224.9 L219.7,230.6 L217.6,236.3 L215.5,242.0 L213.4,247.7   L211.3,253.4 L209.2,259.1 L207.1,264.7  \" stroke=\"rgb(119, 255, 136)\"/>\t<path d=\"M269.5,129.4 L267.4,135.1 L265.3,140.8 L263.2,146.5 L261.1,152.2 L259.0,157.8 L256.9,163.5 L254.8,169.2   L252.7,174.9 L250.6,180.6 L248.5,186.3 L246.4,192.0 L244.3,197.6 L242.2,203.2 L240.1,208.9 L238.0,214.6    \" stroke=\"rgb(103, 255, 152)\"/>\t<path d=\"M238.0,214.6 L235.9,220.3 L233.7,226.0 L231.6,231.7 L229.5,237.4 L227.4,243.0 L225.3,248.7 L223.2,254.4   L221.1,260.1 L219.0,265.8  \" stroke=\"rgb(119, 255, 136)\"/>\t<path d=\"M281.3,130.5 L279.3,136.1 L277.2,141.8 L275.1,147.5 L273.0,153.2 L270.9,158.9 L268.8,164.6 L266.7,170.3   L264.6,176.0 L262.5,181.6 L260.4,187.3 L258.3,193.0 L256.2,198.7 L254.1,204.3 L252.0,210.0 L249.9,215.7    \" stroke=\"rgb(103, 255, 152)\"/>\t<path d=\"M249.9,215.7 L247.8,221.4 L245.7,227.0 L243.6,232.7 L241.5,238.4 L239.4,244.1 L237.3,249.8 L235.2,255.5   L233.1,261.2 L231.0,266.9  \" stroke=\"rgb(119, 255, 136)\"/>\t<path d=\"M293.3,131.5 L291.2,137.2 L289.1,142.9 L287.0,148.6 L284.8,154.3 L282.7,159.9 L280.6,165.6 L278.6,171.3   L276.5,177.0 L274.4,182.7 L272.3,188.4 L270.2,194.1 L268.1,199.8 L266.0,205.3 L263.9,211.0 L261.8,216.7   L259.7,222.4  \" stroke=\"rgb(103, 255, 152)\"/>\t<path d=\"M259.7,222.4 L257.6,228.1 L255.5,233.8 L253.4,239.5 L251.3,245.2 L249.2,250.8 L247.1,256.5 L245.0,262.2   L242.9,267.9  \" stroke=\"rgb(119, 255, 136)\"/>\t<path d=\"M305.2,132.6 L303.1,138.3 L301.0,143.9 L298.9,149.6 L296.8,155.3 L294.7,161.0 L292.6,166.7 L290.5,172.4   L288.4,178.1 L286.3,183.8 L284.2,189.4 L282.1,195.1 L280.0,200.8 L277.9,206.4 L275.8,212.1 L273.7,217.8   L271.6,223.5  \" stroke=\"rgb(103, 255, 152)\"/>\t<path d=\"M271.6,223.5 L269.5,229.2 L267.4,234.8 L265.3,240.5 L263.2,246.2 L261.1,251.9 L259.0,257.6 L256.9,263.3   L254.8,269.0  \" stroke=\"rgb(119, 255, 136)\"/>\t<path d=\"M317.1,133.6 L315.0,139.3 L312.9,145.0 L310.8,150.7 L308.7,156.4 L306.6,162.1 L304.5,167.7 L302.4,173.4   L300.3,179.1 L298.2,184.8 L296.1,190.5 L294.0,196.2 L291.9,201.8 L289.8,207.5 L287.7,213.1 L285.6,218.8   L283.5,224.5 L281.4,230.2  \" stroke=\"rgb(103, 255, 152)\"/>\t<path d=\"M281.4,230.2 L279.4,235.9 L277.3,241.6 L275.2,247.3 L273.0,253.0 L270.9,258.6 L268.8,264.3 L266.7,270.0    \" stroke=\"rgb(119, 255, 136)\"/>\t<path d=\"M329.0,134.7 L326.9,140.4 L324.8,146.1 L322.7,151.7 L320.6,157.4 L318.5,163.1 L316.4,168.8 L314.3,174.5   L312.2,180.2 L310.1,185.9 L308.0,191.6 L305.9,197.2 L303.8,202.8 L301.7,208.5 L299.6,214.2 L297.5,219.9   L295.4,225.6 L293.3,231.3  \" stroke=\"rgb(103, 255, 152)\"/>\t<path d=\"M293.3,231.3 L291.2,237.0 L289.1,242.6 L287.0,248.3 L284.9,254.0 L282.8,259.7 L280.7,265.4 L278.7,271.1    \" stroke=\"rgb(119, 255, 136)\"/>\t<path d=\"M341.0,135.7 L338.9,141.4 L336.8,147.1 L334.7,152.8 L332.6,158.5 L330.5,164.2 L328.4,169.9 L326.3,175.5   L324.1,181.2 L322.0,186.9 L319.9,192.6 L317.8,198.3 L315.7,203.9 L313.6,209.6 L311.5,215.3 L309.4,220.9   L307.3,226.6 L305.2,232.3 L303.1,238.0  \" stroke=\"rgb(103, 255, 152)\"/>\t<path d=\"M303.1,238.0 L301.0,243.7 L298.9,249.4 L296.8,255.1 L294.7,260.8 L292.6,266.4 L290.5,272.1  \" stroke=\"rgb(119, 255, 136)\"/>\t<path d=\"M352.9,136.8 L350.8,142.5 L348.7,148.2 L346.6,153.9 L344.5,159.5 L342.4,165.2 L340.3,170.9 L338.2,176.6   L336.1,182.3 L334.0,188.0 L331.9,193.7 L329.8,199.4 L327.7,204.9 L325.6,210.6 L323.5,216.3 L321.4,222.0   L319.3,227.7 L317.1,233.4 L315.0,239.1  \" stroke=\"rgb(103, 255, 152)\"/>\t<path d=\"M315.0,239.1 L312.9,244.7 L310.8,250.4 L308.7,256.1 L306.6,261.8 L304.5,267.5 L302.4,273.2  \" stroke=\"rgb(119, 255, 136)\"/>\t<path d=\"M364.8,137.8 L362.7,143.5 L360.6,149.2 L358.5,154.9 L356.4,160.6 L354.3,166.3 L352.2,172.0 L350.1,177.7   L348.0,183.3 L345.9,189.0 L343.8,194.7 L341.7,200.4 L339.6,206.0 L337.5,211.7 L335.4,217.4 L333.3,223.1   L331.2,228.7 L329.1,234.4 L327.0,240.1 L324.9,245.8  \" stroke=\"rgb(103, 255, 152)\"/>\t<path d=\"M324.9,245.8 L322.8,251.5 L320.7,257.2 L318.6,262.9 L316.5,268.6 L314.4,274.2  \" stroke=\"rgb(119, 255, 136)\"/>\t<path d=\"M376.8,138.9 L374.7,144.6 L372.6,150.3 L370.5,156.0 L368.3,161.7 L366.2,167.3 L364.1,173.0 L362.0,178.7   L359.9,184.4 L357.8,190.1 L355.7,195.8 L353.6,201.4 L351.5,207.0 L349.4,212.7 L347.3,218.4 L345.2,224.1   L343.1,229.8 L341.0,235.5 L338.9,241.2 L336.8,246.9  \" stroke=\"rgb(103, 255, 152)\"/>\t<path d=\"M336.8,246.9 L334.7,252.5 L332.6,258.2 L330.5,263.9 L328.4,269.6 L326.3,275.3  \" stroke=\"rgb(119, 255, 136)\"/>\t<path d=\"M388.7,140.0 L386.6,145.6 L384.5,151.3 L382.4,157.0 L380.3,162.7 L378.2,168.4 L376.1,174.1 L374.0,179.8   L371.9,185.5 L369.8,191.1 L367.7,196.8 L365.6,202.4 L363.4,208.1 L361.3,213.8 L359.2,219.5 L357.1,225.2   L355.0,230.9 L352.9,236.5 L350.8,242.2 L348.7,247.9 L346.6,253.6  \" stroke=\"rgb(103, 255, 152)\"/>\t<path d=\"M346.6,253.6 L344.5,259.3 L342.4,265.0 L340.3,270.7 L338.2,276.4  \" stroke=\"rgb(119, 255, 136)\"/>\t<path d=\"M400.6,141.0 L398.5,146.7 L396.4,152.4 L394.3,158.1 L392.2,163.8 L390.1,169.4 L388.0,175.1 L385.9,180.8   L383.8,186.5 L381.7,192.2 L379.6,197.9 L377.5,203.5 L375.4,209.2 L373.3,214.8 L371.2,220.5 L369.1,226.2   L367.0,231.9 L364.9,237.6 L362.8,243.3 L360.7,249.0 L358.6,254.7  \" stroke=\"rgb(103, 255, 152)\"/>\t<path d=\"M358.6,254.7 L356.4,260.3 L354.3,266.0 L352.2,271.7 L350.1,277.4  \" stroke=\"rgb(119, 255, 136)\"/>\t<path d=\"M412.5,142.1 L410.4,147.8 L408.3,153.4 L406.2,159.1 L404.1,164.8 L402.0,170.5 L399.9,176.2 L397.8,181.9   L395.7,187.6 L393.6,193.3 L391.5,198.9 L389.4,204.5 L387.3,210.2 L385.2,215.9 L383.1,221.6 L381.0,227.3   L378.9,233.0 L376.8,238.7 L374.7,244.3 L372.6,250.0 L370.5,255.7 L368.4,261.4  \" stroke=\"rgb(103, 255, 152)\"/>\t<path d=\"M368.4,261.4 L366.3,267.1 L364.2,272.8 L362.1,278.5  \" stroke=\"rgb(119, 255, 136)\"/>\t<path d=\"M424.5,143.1 L422.4,148.8 L420.3,154.5 L418.2,160.2 L416.1,165.9 L414.0,171.6 L411.9,177.2 L409.8,182.9   L407.6,188.6 L405.5,194.3 L403.4,200.0 L401.3,205.6 L399.2,211.3 L397.1,217.0 L395.0,222.6 L392.9,228.3   L390.8,234.0 L388.7,239.7 L386.6,245.4 L384.5,251.1 L382.4,256.8 L380.3,262.5  \" stroke=\"rgb(103, 255, 152)\"/>\t<path d=\"M380.3,262.5 L378.2,268.1 L376.1,273.8 L374.0,279.5  \" stroke=\"rgb(119, 255, 136)\"/>\t<path d=\"M436.4,144.2 L434.3,149.9 L432.2,155.6 L430.1,161.2 L428.0,166.9 L425.9,172.6 L423.8,178.3 L421.7,184.0   L419.6,189.7 L417.5,195.4 L415.4,201.0 L413.3,206.6 L411.2,212.3 L409.1,218.0 L407.0,223.7 L404.9,229.4   L402.8,235.1 L400.6,240.8 L398.5,246.5 L396.4,252.1 L394.3,257.8 L392.2,263.5 L390.1,269.2  \" stroke=\"rgb(103, 255, 152)\"/>\t<path d=\"M390.1,269.2 L388.0,274.9 L385.9,280.6  \" stroke=\"rgb(119, 255, 136)\"/>\t<path d=\"M448.3,145.2 L446.2,150.9 L444.1,156.6 L442.0,162.3 L439.9,168.0 L437.8,173.7 L435.7,179.4 L433.6,185.0   L431.5,190.7 L429.4,196.4 L427.3,202.0 L425.2,207.7 L423.1,213.4 L421.0,219.1 L418.9,224.8 L416.8,230.4   L414.7,236.1 L412.6,241.8 L410.5,247.5 L408.4,253.2 L406.3,258.9 L404.2,264.6 L402.1,270.3  \" stroke=\"rgb(103, 255, 152)\"/>\t<path d=\"M402.1,270.3 L400.0,275.9 L397.9,281.6  \" stroke=\"rgb(119, 255, 136)\"/>\t<path d=\"M162.1,119.9 L174.1,121.0 L186.0,122.0 L197.9,123.1 L209.9,124.1 L221.8,125.2 L233.7,126.2 L245.6,127.3   L257.6,128.3 L269.5,129.4 L281.3,130.5 L293.3,131.5 L305.2,132.6 L317.1,133.6 L329.0,134.7 L341.0,135.7   L352.9,136.8 L364.8,137.8 L376.8,138.9 L388.7,140.0 L400.6,141.0 L412.5,142.1 L424.5,143.1 L436.4,144.2   L448.3,145.2 M160.0,125.6 L172.0,126.6 L183.9,127.7 L195.8,128.8 L207.8,129.8 L219.7,130.9 L231.6,131.9   L243.5,133.0 L255.5,134.0 L267.4,135.1 L279.3,136.1 L291.2,137.2 L303.1,138.3 L315.0,139.3 L326.9,140.4   L338.9,141.4 L350.8,142.5 L362.7,143.5 L374.7,144.6 L386.6,145.6 L398.5,146.7 L410.4,147.8 L422.4,148.8   L434.3,149.9 L446.2,150.9 M157.9,131.3 L169.9,132.3 L181.8,133.4 L193.7,134.4 L205.7,135.5 L217.6,136.6   L229.5,137.6 L241.4,138.7 L253.4,139.7 L265.3,140.8 L277.2,141.8 L289.1,142.9 L301.0,143.9 L312.9,145.0   L324.8,146.1 L336.8,147.1 L348.7,148.2 L360.6,149.2 L372.6,150.3 L384.5,151.3 L396.4,152.4 L408.3,153.4   L420.3,154.5 L432.2,155.6 L444.1,156.6 M155.8,137.0 L167.8,138.0 L179.7,139.1 L191.6,140.1 L203.6,141.2   L215.5,142.2 L227.4,143.3 L239.3,144.4 L251.3,145.4 L263.2,146.5 L275.1,147.5 L287.0,148.6 L298.9,149.6   L310.8,150.7 L322.7,151.7 L334.7,152.8 L346.6,153.9 L358.5,154.9 L370.5,156.0 L382.4,157.0 L394.3,158.1   L406.2,159.1 L418.2,160.2 L430.1,161.2 L442.0,162.3 M153.7,142.7 L165.7,143.7 L177.6,144.8 L189.5,145.8   L201.4,146.9 L213.4,147.9 L225.3,149.0 L237.2,150.0 L249.2,151.1 L261.1,152.2 L273.0,153.2 L284.8,154.3   L296.8,155.3 L308.7,156.4 L320.6,157.4 L332.6,158.5 L344.5,159.5 L356.4,160.6 L368.3,161.7 L380.3,162.7   L392.2,163.8 L404.1,164.8 L416.1,165.9 L428.0,166.9 L439.9,168.0 M151.6,148.3 L163.6,149.4 L175.5,150.4   L187.4,151.5 L199.3,152.6 L211.3,153.6 L223.2,154.7 L235.1,155.7 L247.1,156.8 L259.0,157.8 L270.9,158.9   L282.7,159.9 L294.7,161.0 L306.6,162.1 L318.5,163.1 L330.5,164.2 L342.4,165.2 L354.3,166.3 L366.2,167.3   L378.2,168.4 L390.1,169.4 L402.0,170.5 L414.0,171.6 L425.9,172.6 L437.8,173.7 M149.5,154.0 L161.5,155.1   L173.4,156.1 L185.3,157.2 L197.2,158.2 L209.2,159.3 L221.1,160.4 L233.0,161.4 L245.0,162.5 L256.9,163.5   L268.8,164.6 L280.6,165.6 L292.6,166.7 L304.5,167.7 L316.4,168.8 L328.4,169.9 L340.3,170.9 L352.2,172.0   L364.1,173.0 L376.1,174.1 L388.0,175.1 L399.9,176.2 L411.9,177.2 L423.8,178.3 L435.7,179.4 M147.4,159.7   L159.4,160.8 L171.3,161.8 L183.2,162.9 L195.1,163.9 L207.1,165.0 L219.0,166.0 L230.9,167.1 L242.9,168.2   L254.8,169.2 L266.7,170.3 L278.6,171.3 L290.5,172.4 L302.4,173.4 L314.3,174.5 L326.3,175.5 L338.2,176.6   L350.1,177.7 L362.0,178.7 L374.0,179.8 L385.9,180.8 L397.8,181.9 L409.8,182.9 L421.7,184.0 L433.6,185.0   M145.3,165.4 L157.2,166.5 L169.2,167.5 L181.1,168.6 L193.0,169.6 L205.0,170.7 L216.9,171.7 L228.8,172.8   L240.7,173.8 L252.7,174.9 L264.6,176.0 L276.5,177.0 L288.4,178.1 L300.3,179.1 L312.2,180.2 L324.1,181.2   L336.1,182.3 L348.0,183.3 L359.9,184.4 L371.9,185.5 L383.8,186.5 L395.7,187.6 L407.6,188.6 L419.6,189.7   L431.5,190.7 M143.2,171.1 L155.1,172.1 L167.1,173.2 L179.0,174.3 L190.9,175.3 L202.9,176.4 L214.8,177.4   L226.7,178.5 L238.6,179.5 L250.6,180.6 L262.5,181.6 L274.4,182.7 L286.3,183.8 L298.2,184.8 L310.1,185.9   L322.0,186.9 L334.0,188.0 L345.9,189.0 L357.8,190.1 L369.8,191.1 L381.7,192.2 L393.6,193.3 L405.5,194.3   L417.5,195.4 L429.4,196.4 M141.1,176.8 L153.0,177.8 L165.0,178.9 L176.9,179.9 L188.8,181.0 L200.8,182.1   L212.7,183.1 L224.6,184.2 L236.5,185.2 L248.5,186.3 L260.4,187.3 L272.3,188.4 L284.2,189.4 L296.1,190.5   L308.0,191.6 L319.9,192.6 L331.9,193.7 L343.8,194.7 L355.7,195.8 L367.7,196.8 L379.6,197.9 L391.5,198.9   L403.4,200.0 L415.4,201.0 L427.3,202.0  \" stroke=\"rgb(103, 255, 152)\"/>\t<path d=\"M139.0,182.5 L150.9,183.5  \" stroke=\"rgb(119, 255, 136)\"/>\t<path d=\"M150.9,183.5 L162.9,184.6 L174.8,185.6 L186.7,186.7 L198.7,187.7 L210.6,188.8 L222.5,189.9 L234.4,190.9   L246.4,192.0 L258.3,193.0 L270.2,194.1 L282.1,195.1 L294.0,196.2 L305.9,197.2 L317.8,198.3 L329.8,199.4   L341.7,200.4 L353.6,201.4 L365.6,202.4 L377.5,203.5 L389.4,204.5 L401.3,205.6 L413.3,206.6 L425.2,207.7    \" stroke=\"rgb(103, 255, 152)\"/>\t<path d=\"M136.9,188.1 L148.8,189.2 L160.8,190.3 L172.7,191.3  \" stroke=\"rgb(119, 255, 136)\"/>\t<path d=\"M172.7,191.3 L184.6,192.4 L196.6,193.4 L208.5,194.5 L220.4,195.5 L232.3,196.6 L244.3,197.6 L256.2,198.7   L268.1,199.8 L280.0,200.8 L291.9,201.8 L303.8,202.8 L315.7,203.9 L327.7,204.9 L339.6,206.0 L351.5,207.0   L363.4,208.1 L375.4,209.2 L387.3,210.2 L399.2,211.3 L411.2,212.3 L423.1,213.4  \" stroke=\"rgb(103, 255, 152)\"/>\t<path d=\"M134.8,193.8 L146.7,194.9 L158.7,195.9 L170.6,197.0 L182.5,198.1 L194.4,199.1  \" stroke=\"rgb(119, 255, 136)\"/>\t<path d=\"M194.4,199.1 L206.4,200.2 L218.3,201.1 L230.2,202.2 L242.2,203.2 L254.1,204.3 L266.0,205.3 L277.9,206.4   L289.8,207.5 L301.7,208.5 L313.6,209.6 L325.6,210.6 L337.5,211.7 L349.4,212.7 L361.3,213.8 L373.3,214.8   L385.2,215.9 L397.1,217.0 L409.1,218.0 L421.0,219.1  \" stroke=\"rgb(103, 255, 152)\"/>\t<path d=\"M132.7,199.5 L144.6,200.6 L156.6,201.5 L168.5,202.6 L180.4,203.6 L192.3,204.7 L204.3,205.8 L216.2,206.8    \" stroke=\"rgb(119, 255, 136)\"/>\t<path d=\"M216.2,206.8 L228.1,207.9 L240.1,208.9 L252.0,210.0 L263.9,211.0 L275.8,212.1 L287.7,213.1 L299.6,214.2   L311.5,215.3 L323.5,216.3 L335.4,217.4 L347.3,218.4 L359.2,219.5 L371.2,220.5 L383.1,221.6 L395.0,222.6   L407.0,223.7 L418.9,224.8  \" stroke=\"rgb(103, 255, 152)\"/>\t<path d=\"M130.6,205.1 L142.5,206.2 L154.5,207.2 L166.4,208.3 L178.3,209.3 L190.2,210.4 L202.2,211.4 L214.1,212.5   L226.0,213.6 L238.0,214.6  \" stroke=\"rgb(119, 255, 136)\"/>\t<path d=\"M238.0,214.6 L249.9,215.7 L261.8,216.7 L273.7,217.8 L285.6,218.8 L297.5,219.9 L309.4,220.9 L321.4,222.0   L333.3,223.1 L345.2,224.1 L357.1,225.2 L369.1,226.2 L381.0,227.3 L392.9,228.3 L404.9,229.4 L416.8,230.4    \" stroke=\"rgb(103, 255, 152)\"/>\t<path d=\"M128.5,210.8 L140.4,211.9 L152.4,212.9 L164.3,214.0 L176.2,215.0 L188.1,216.1 L200.1,217.1 L212.0,218.2   L223.9,219.2 L235.9,220.3 L247.8,221.4 L259.7,222.4  \" stroke=\"rgb(119, 255, 136)\"/>\t<path d=\"M259.7,222.4 L271.6,223.5 L283.5,224.5 L295.4,225.6 L307.3,226.6 L319.3,227.7 L331.2,228.7 L343.1,229.8   L355.0,230.9 L367.0,231.9 L378.9,233.0 L390.8,234.0 L402.8,235.1 L414.7,236.1  \" stroke=\"rgb(103, 255, 152)\"/>\t<path d=\"M126.4,216.5 L138.3,217.5 L150.2,218.6 L162.2,219.7 L174.1,220.7 L186.0,221.8 L198.0,222.8 L209.9,223.9   L221.8,224.9 L233.7,226.0 L245.7,227.0 L257.6,228.1 L269.5,229.2 L281.4,230.2  \" stroke=\"rgb(119, 255, 136)\"/>\t<path d=\"M281.4,230.2 L293.3,231.3 L305.2,232.3 L317.1,233.4 L329.1,234.4 L341.0,235.5 L352.9,236.5 L364.9,237.6   L376.8,238.7 L388.7,239.7 L400.6,240.8 L412.6,241.8  \" stroke=\"rgb(103, 255, 152)\"/>\t<path d=\"M124.3,222.2 L136.2,223.2 L148.1,224.3 L160.1,225.3 L172.0,226.4 L183.9,227.5 L195.9,228.5 L207.8,229.6   L219.7,230.6 L231.6,231.7 L243.6,232.7 L255.5,233.8 L267.4,234.8 L279.4,235.9 L291.2,237.0 L303.1,238.0    \" stroke=\"rgb(119, 255, 136)\"/>\t<path d=\"M303.1,238.0 L315.0,239.1 L327.0,240.1 L338.9,241.2 L350.8,242.2 L362.8,243.3 L374.7,244.3 L386.6,245.4   L398.5,246.5 L410.5,247.5  \" stroke=\"rgb(103, 255, 152)\"/>\t<path d=\"M122.2,227.9 L134.1,228.9 L146.0,230.0 L158.0,231.0 L169.9,232.1 L181.8,233.1 L193.8,234.2 L205.7,235.2   L217.6,236.3 L229.5,237.4 L241.5,238.4 L253.4,239.5 L265.3,240.5 L277.3,241.6 L289.1,242.6 L301.0,243.7   L312.9,244.7 L324.9,245.8  \" stroke=\"rgb(119, 255, 136)\"/>\t<path d=\"M324.9,245.8 L336.8,246.9 L348.7,247.9 L360.7,249.0 L372.6,250.0 L384.5,251.1 L396.4,252.1 L408.4,253.2    \" stroke=\"rgb(103, 255, 152)\"/>\t<path d=\"M120.1,233.5 L132.0,234.6 L143.9,235.7 L155.9,236.7 L167.8,237.8 L179.7,238.8 L191.7,239.9 L203.6,240.9   L215.5,242.0 L227.4,243.0 L239.4,244.1 L251.3,245.2 L263.2,246.2 L275.2,247.3 L287.0,248.3 L298.9,249.4   L310.8,250.4 L322.8,251.5 L334.7,252.5 L346.6,253.6  \" stroke=\"rgb(119, 255, 136)\"/>\t<path d=\"M346.6,253.6 L358.6,254.7 L370.5,255.7 L382.4,256.8 L394.3,257.8 L406.3,258.9  \" stroke=\"rgb(103, 255, 152)\"/>\t<path d=\"M118.0,239.2 L129.9,240.3 L141.8,241.3 L153.8,242.4 L165.7,243.5 L177.6,244.5 L189.5,245.6 L201.5,246.6   L213.4,247.7 L225.3,248.7 L237.3,249.8 L249.2,250.8 L261.1,251.9 L273.0,253.0 L284.9,254.0 L296.8,255.1   L308.7,256.1 L320.7,257.2 L332.6,258.2 L344.5,259.3 L356.4,260.3 L368.4,261.4  \" stroke=\"rgb(119, 255, 136)\"/>\t<path d=\"M368.4,261.4 L380.3,262.5 L392.2,263.5 L404.2,264.6  \" stroke=\"rgb(103, 255, 152)\"/>\t<path d=\"M115.9,244.9 L127.8,246.0 L139.7,247.0 L151.7,248.1 L163.6,249.1 L175.5,250.2 L187.4,251.3 L199.4,252.3   L211.3,253.4 L223.2,254.4 L235.2,255.5 L247.1,256.5 L259.0,257.6 L270.9,258.6 L282.8,259.7 L294.7,260.8   L306.6,261.8 L318.6,262.9 L330.5,263.9 L342.4,265.0 L354.3,266.0 L366.3,267.1 L378.2,268.1 L390.1,269.2    \" stroke=\"rgb(119, 255, 136)\"/>\t<path d=\"M390.1,269.2 L402.1,270.3  \" stroke=\"rgb(103, 255, 152)\"/>\t<path d=\"M113.8,250.6 L125.7,251.7 L137.6,252.7 L149.6,253.8 L161.5,254.8 L173.4,255.9 L185.3,256.9 L197.3,258.0   L209.2,259.1 L221.1,260.1 L233.1,261.2 L245.0,262.2 L256.9,263.3 L268.8,264.3 L280.7,265.4 L292.6,266.4   L304.5,267.5 L316.5,268.6 L328.4,269.6 L340.3,270.7 L352.2,271.7 L364.2,272.8 L376.1,273.8 L388.0,274.9   L400.0,275.9 M111.7,256.3 L123.6,257.4 L135.5,258.4 L147.5,259.5 L159.4,260.5 L171.3,261.6 L183.2,262.6   L195.2,263.7 L207.1,264.7 L219.0,265.8 L231.0,266.9 L242.9,267.9 L254.8,269.0 L266.7,270.0 L278.7,271.1   L290.5,272.1 L302.4,273.2 L314.4,274.2 L326.3,275.3 L338.2,276.4 L350.1,277.4 L362.1,278.5 L374.0,279.5   L385.9,280.6 L397.9,281.6  \" stroke=\"rgb(119, 255, 136)\"/></g>\n",
       "\t</g>\n",
       "\t<g id=\"gnuplot_plot_4a\"><title>gnuplot_plot_4a</title>\n",
       "<g color=\"white\" fill=\"none\" stroke=\"rgb(119, 255, 136)\" stroke-linecap=\"butt\" stroke-linejoin=\"miter\" stroke-width=\"3.00\">\n",
       "</g>\n",
       "<g color=\"black\" fill=\"none\" stroke=\"currentColor\" stroke-linecap=\"butt\" stroke-linejoin=\"miter\" stroke-width=\"3.00\">\n",
       "\t<use color=\"rgb(  0,   0, 255)\" transform=\"translate(285.8,145.0) scale(9.00)\" xlink:href=\"#gpPt5\"/>\n",
       "</g>\n",
       "\t</g>\n",
       "<g color=\"white\" fill=\"none\" stroke=\"rgb(  0,   0, 255)\" stroke-linecap=\"butt\" stroke-linejoin=\"miter\" stroke-width=\"0.50\">\n",
       "</g>\n",
       "<g color=\"black\" fill=\"none\" stroke=\"currentColor\" stroke-linecap=\"butt\" stroke-linejoin=\"miter\" stroke-width=\"0.50\">\n",
       "\t<path d=\"M448.3,214.2 L397.9,352.6  \" stroke=\"black\"/></g>\n",
       "<g color=\"black\" fill=\"none\" stroke=\"currentColor\" stroke-linecap=\"butt\" stroke-linejoin=\"miter\" stroke-width=\"0.50\">\n",
       "\t<path d=\"M111.7,328.2 L397.9,352.6  \" stroke=\"black\"/></g>\n",
       "<g color=\"black\" fill=\"none\" stroke=\"currentColor\" stroke-linecap=\"butt\" stroke-linejoin=\"miter\" stroke-width=\"0.50\">\n",
       "\t<path d=\"M397.9,352.6 L397.9,281.6  \" stroke=\"black\"/>\t<g fill=\"rgb(0,0,0)\" font-family=\"{}\" font-size=\"16.00\" stroke=\"none\" text-anchor=\"middle\" transform=\"translate(239.0,389.8)\">\n",
       "\t\t<text><tspan font-family=\"{}\">x1</tspan></text>\n",
       "\t</g>\n",
       "</g>\n",
       "<g color=\"black\" fill=\"none\" stroke=\"currentColor\" stroke-linecap=\"butt\" stroke-linejoin=\"miter\" stroke-width=\"0.50\">\n",
       "\t<g fill=\"rgb(0,0,0)\" font-family=\"{}\" font-size=\"16.00\" stroke=\"none\" text-anchor=\"middle\" transform=\"translate(507.1,296.6)\">\n",
       "\t\t<text><tspan font-family=\"{}\">x2</tspan></text>\n",
       "\t</g>\n",
       "</g>\n",
       "<g color=\"black\" fill=\"none\" stroke=\"currentColor\" stroke-linecap=\"butt\" stroke-linejoin=\"miter\" stroke-width=\"0.50\">\n",
       "\t<g fill=\"rgb(0,0,0)\" font-family=\"{}\" font-size=\"16.00\" stroke=\"none\" text-anchor=\"middle\" transform=\"translate(59.6,257.9) rotate(-90)\">\n",
       "\t\t<text><tspan font-family=\"{}\">x3</tspan></text>\n",
       "\t</g>\n",
       "</g>\n",
       "<g color=\"black\" fill=\"none\" stroke=\"currentColor\" stroke-linecap=\"butt\" stroke-linejoin=\"miter\" stroke-width=\"0.50\">\n",
       "</g>\n",
       "</g>\n",
       "</svg>"
      ],
      "text/plain": [
       "<IPython.core.display.SVG object>"
      ]
     },
     "metadata": {},
     "output_type": "display_data"
    }
   ],
   "source": [
    "N=25;\n",
    "x11=linspace(-2,2,N);\n",
    "x12=linspace(-2,2,N);\n",
    "[X11,X12]=meshgrid(x11,x12);\n",
    "X13=1-10*X11-2*X12;\n",
    "\n",
    "x21=linspace(-2,2,N);\n",
    "x22=linspace(-2,2,N);\n",
    "[X21,X22]=meshgrid(x21,x22);\n",
    "X23=1-2*X11-X22;\n",
    "\n",
    "x31=linspace(-2,2,N);\n",
    "x32=linspace(-2,2,N);\n",
    "[X31,X32]=meshgrid(x31,x32);\n",
    "X33=1/10*(1-X31-2*X32);\n",
    "\n",
    "mesh(X11,X12,X13);\n",
    "hold on;\n",
    "mesh(X21,X22,X23)\n",
    "mesh(X31,X32,X33)\n",
    "x=[10,2, 1;2,1, 1; 1, 2, 10]\\[1;1;1];\n",
    "plot3(x(1),x(2),x(3),'o')\n",
    "xlabel('x1')\n",
    "ylabel('x2')\n",
    "zlabel('x3')\n",
    "view(10,45)"
   ]
  },
  {
   "cell_type": "markdown",
   "metadata": {},
   "source": [
    "After 3 DOF problems, the solutions are described as *hyperplane* intersections. Which are even harder to visualize"
   ]
  },
  {
   "cell_type": "markdown",
   "metadata": {},
   "source": [
    "## Gauss elimination\n",
    "### Solving sets of equations systematically\n",
    "\n",
    "$\\left[ \\begin{array}{ccc|c}\n",
    "   & A & & y \\\\\n",
    "10 & 2 & 1 & 1\\\\\n",
    "2 & 1 & 1  & 1 \\\\\n",
    "1 & 2 & 10 & 1\\end{array} \n",
    "\\right] $\n",
    "\n",
    "Ay(2,:)-Ay(1,:)/5 = ([2 1 1 1]-1/5[10 2 1 1])\n",
    "\n",
    "$\\left[ \\begin{array}{ccc|c}\n",
    "   & A & & y \\\\\n",
    "10 & 2 & 1 & 1\\\\\n",
    "0 & 3/5 & 4/5  & 4/5 \\\\\n",
    "1 & 2 & 10 & 1\\end{array} \n",
    "\\right] $\n",
    "\n",
    "Ay(3,:)-Ay(1,:)/10 = ([1 2 10 1]-1/10[10 2 1 1])\n",
    "\n",
    "$\\left[ \\begin{array}{ccc|c}\n",
    "   & A & & y \\\\\n",
    "10 & 2 & 1 & 1\\\\\n",
    "0 & 3/5 & 4/5  & 4/5 \\\\\n",
    "0 & 1.8 & 9.9 & 0.9\\end{array} \n",
    "\\right] $\n",
    "\n",
    "Ay(3,:)-1.8\\*5/3\\*Ay(2,:) = ([0 1.8 9.9 0.9]-3\\*[0 3/5 4/5 4/5])\n",
    "\n",
    "$\\left[ \\begin{array}{ccc|c}\n",
    "   & A & & y \\\\\n",
    "10 & 2 & 1 & 1\\\\\n",
    "0 & 3/5 & 4/5  & 4/5 \\\\\n",
    "0 & 0 & 7.5 & -1.5\\end{array} \n",
    "\\right] $\n",
    "\n",
    "now, $7.5x_{3}=-1.5$ so $x_{3}=-\\frac{1}{5}$\n",
    "\n",
    "then, $3/5x_{2}+4/5(-1/5)=1$ so $x_{2}=\\frac{8}{5}$\n",
    "\n",
    "finally, $10x_{1}+2(8/5)+1(-\\frac{1}{5})=1$"
   ]
  },
  {
   "cell_type": "markdown",
   "metadata": {
    "collapsed": true
   },
   "source": [
    "Consider the problem again from the intro to Linear Algebra, 4 masses are connected in series to 4 springs with K=10 N/m. What are the final positions of the masses? \n",
    "\n",
    "![Springs-masses](../lecture_09/mass_springs.svg)\n",
    "\n",
    "The masses haves the following amounts, 1, 2, 3, and 4 kg for masses 1-4. Using a FBD for each mass:\n",
    "\n",
    "$m_{1}g+k(x_{2}-x_{1})-kx_{1}=0$\n",
    "\n",
    "$m_{2}g+k(x_{3}-x_{2})-k(x_{2}-x_{1})=0$\n",
    "\n",
    "$m_{3}g+k(x_{4}-x_{3})-k(x_{3}-x_{2})=0$\n",
    "\n",
    "$m_{4}g-k(x_{4}-x_{3})=0$\n",
    "\n",
    "in matrix form:\n",
    "\n",
    "$\\left[ \\begin{array}{cccc}\n",
    "2k & -k & 0 & 0 \\\\\n",
    "-k & 2k & -k & 0 \\\\\n",
    "0 & -k & 2k & -k \\\\\n",
    "0 & 0 & -k & k \\end{array} \\right]\n",
    "\\left[ \\begin{array}{c}\n",
    "x_{1} \\\\\n",
    "x_{2} \\\\\n",
    "x_{3} \\\\\n",
    "x_{4} \\end{array} \\right]=\n",
    "\\left[ \\begin{array}{c}\n",
    "m_{1}g \\\\\n",
    "m_{2}g \\\\\n",
    "m_{3}g \\\\\n",
    "m_{4}g \\end{array} \\right]$"
   ]
  },
  {
   "cell_type": "code",
   "execution_count": 10,
   "metadata": {
    "collapsed": false
   },
   "outputs": [
    {
     "name": "stdout",
     "output_type": "stream",
     "text": [
      "K =\n",
      "\n",
      "   20  -10    0    0\n",
      "  -10   20  -10    0\n",
      "    0  -10   20  -10\n",
      "    0    0  -10   10\n",
      "\n",
      "y =\n",
      "\n",
      "    9.8100\n",
      "   19.6200\n",
      "   29.4300\n",
      "   39.2400\n",
      "\n"
     ]
    }
   ],
   "source": [
    "k=10; % N/m\n",
    "m1=1; % kg\n",
    "m2=2;\n",
    "m3=3;\n",
    "m4=4;\n",
    "g=9.81; % m/s^2\n",
    "K=[2*k -k 0 0; -k 2*k -k 0; 0 -k 2*k -k; 0 0 -k k]\n",
    "y=[m1*g;m2*g;m3*g;m4*g]"
   ]
  },
  {
   "cell_type": "code",
   "execution_count": 11,
   "metadata": {
    "collapsed": false
   },
   "outputs": [
    {
     "name": "stdout",
     "output_type": "stream",
     "text": [
      "K1 =\n",
      "\n",
      "   20.00000  -10.00000    0.00000    0.00000    9.81000\n",
      "    0.00000   15.00000  -10.00000    0.00000   24.52500\n",
      "    0.00000  -10.00000   20.00000  -10.00000   29.43000\n",
      "    0.00000    0.00000  -10.00000   10.00000   39.24000\n",
      "\n"
     ]
    }
   ],
   "source": [
    "K1=[K y];\n",
    "K1(2,:)=K1(1,:)/2+K1(2,:)"
   ]
  },
  {
   "cell_type": "code",
   "execution_count": 12,
   "metadata": {
    "collapsed": false
   },
   "outputs": [
    {
     "name": "stdout",
     "output_type": "stream",
     "text": [
      "K2 =\n",
      "\n",
      "   20.00000  -10.00000    0.00000    0.00000    9.81000\n",
      "    0.00000   15.00000  -10.00000    0.00000   24.52500\n",
      "    0.00000    0.00000   13.33333  -10.00000   45.78000\n",
      "    0.00000    0.00000  -10.00000   10.00000   39.24000\n",
      "\n"
     ]
    }
   ],
   "source": [
    "K2=K1;\n",
    "K2(3,:)=K1(2,:)*2/3+K1(3,:)\n"
   ]
  },
  {
   "cell_type": "code",
   "execution_count": 13,
   "metadata": {
    "collapsed": false
   },
   "outputs": [
    {
     "name": "stdout",
     "output_type": "stream",
     "text": [
      "K2 =\n",
      "\n",
      "   20.00000  -10.00000    0.00000    0.00000    9.81000\n",
      "    0.00000   15.00000  -10.00000    0.00000   24.52500\n",
      "    0.00000    0.00000   13.33333  -10.00000   45.78000\n",
      "    0.00000    0.00000    0.00000    2.50000   73.57500\n",
      "\n"
     ]
    }
   ],
   "source": [
    "K2(4,:)=-K2(3,:)*K2(4,3)/K2(3,3)+K2(4,:)"
   ]
  },
  {
   "cell_type": "code",
   "execution_count": 14,
   "metadata": {
    "collapsed": false
   },
   "outputs": [
    {
     "name": "stdout",
     "output_type": "stream",
     "text": [
      "x4 =  29.430\n",
      "x3 =  25.506\n",
      "x2 =  18.639\n",
      "x1 =  9.8100\n"
     ]
    }
   ],
   "source": [
    "yp=K2(:,5);\n",
    "x4=yp(4)/K2(4,4)\n",
    "x3=(yp(3)+10*x4)/K2(3,3)\n",
    "x2=(yp(2)+10*x3)/K2(2,2)\n",
    "x1=(yp(1)+10*x2)/K2(1,1)"
   ]
  },
  {
   "cell_type": "code",
   "execution_count": 15,
   "metadata": {
    "collapsed": false
   },
   "outputs": [
    {
     "name": "stdout",
     "output_type": "stream",
     "text": [
      "ans =\n",
      "\n",
      "    9.8100\n",
      "   18.6390\n",
      "   25.5060\n",
      "   29.4300\n",
      "\n"
     ]
    }
   ],
   "source": [
    "K\\y"
   ]
  },
  {
   "cell_type": "markdown",
   "metadata": {},
   "source": [
    "## Automate Gauss Elimination\n",
    "\n",
    "We can automate Gauss elimination with a function whose input is A and y:\n",
    "\n",
    "`x=GaussNaive(A,y)`"
   ]
  },
  {
   "cell_type": "code",
   "execution_count": 16,
   "metadata": {
    "collapsed": false
   },
   "outputs": [
    {
     "name": "stdout",
     "output_type": "stream",
     "text": [
      "x =\n",
      "\n",
      "    9.8100\n",
      "   18.6390\n",
      "   25.5060\n",
      "   29.4300\n",
      "\n"
     ]
    }
   ],
   "source": [
    "x=GaussNaive(K,y)"
   ]
  },
  {
   "cell_type": "markdown",
   "metadata": {},
   "source": [
    "## Problem (Diagonal element is zero)\n",
    "\n",
    "If a diagonal element is 0 or very small either:\n",
    "\n",
    "1. no solution found\n",
    "2. errors are introduced \n",
    "\n",
    "Therefore, we would want to pivot before applying Gauss elimination\n",
    "\n",
    "Consider:\n",
    "\n",
    "(a) $\\left[ \\begin{array}{cccc}\n",
    "0 & 2 & 3  \\\\\n",
    "4 & 6 & 7 \\\\\n",
    "2 & -3 & 6  \\end{array} \\right]\n",
    "\\left[ \\begin{array}{c}\n",
    "x_{1} \\\\\n",
    "x_{2} \\\\\n",
    "x_{3} \\end{array} \\right]=\n",
    "\\left[ \\begin{array}{c}\n",
    "8 \\\\\n",
    "-3 \\\\\n",
    "5\\end{array} \\right]$\n",
    "\n",
    "(b) $\\left[ \\begin{array}{cccc}\n",
    "0.0003 & 3.0000  \\\\\n",
    "1.0000 & 1.0000  \\end{array} \\right]\n",
    "\\left[ \\begin{array}{c}\n",
    "x_{1} \\\\\n",
    "x_{2} \\end{array} \\right]=\n",
    "\\left[ \\begin{array}{c}\n",
    "2.0001 \\\\\n",
    "1.0000 \\end{array} \\right]$"
   ]
  },
  {
   "cell_type": "code",
   "execution_count": 17,
   "metadata": {
    "collapsed": false
   },
   "outputs": [
    {
     "name": "stdout",
     "output_type": "stream",
     "text": [
      "warning: division by zero\n",
      "warning: called from\n",
      "    GaussNaive at line 16 column 12\n",
      "warning: division by zero\n",
      "warning: division by zero\n",
      "ans =\n",
      "\n",
      "   NaN\n",
      "   NaN\n",
      "   NaN\n",
      "\n",
      "ans =\n",
      "\n",
      "  -5.423913\n",
      "   0.021739\n",
      "   2.652174\n",
      "\n"
     ]
    }
   ],
   "source": [
    "format short\n",
    "Aa=[0,2,3;4,6,7;2,-3,6]; ya=[8;-3;5];\n",
    "GaussNaive(Aa,ya)\n",
    "Aa\\ya"
   ]
  },
  {
   "cell_type": "code",
   "execution_count": 32,
   "metadata": {
    "collapsed": false
   },
   "outputs": [
    {
     "name": "stdout",
     "output_type": "stream",
     "text": [
      "x =\n",
      "\n",
      "  -5.423913\n",
      "   0.021739\n",
      "   2.652174\n",
      "\n",
      "Aug =\n",
      "\n",
      "    4.00000    6.00000    7.00000   -3.00000\n",
      "    0.00000   -6.00000    2.50000    6.50000\n",
      "    0.00000    0.00000    3.83333   10.16667\n",
      "\n",
      "npivots =  2\n"
     ]
    }
   ],
   "source": [
    "[x,Aug,npivots]=GaussPivot(Aa,ya)"
   ]
  },
  {
   "cell_type": "code",
   "execution_count": 33,
   "metadata": {
    "collapsed": false
   },
   "outputs": [
    {
     "name": "stdout",
     "output_type": "stream",
     "text": [
      "ans =\n",
      "\n",
      "   0.325665420556713\n",
      "   0.666666666666667\n",
      "\n",
      "ans =\n",
      "\n",
      "   0.333333333333333\n",
      "   0.666666666666667\n",
      "\n"
     ]
    }
   ],
   "source": [
    "format long\n",
    "Ab=[0.3E-13,3.0000;1.0000,1.0000];yb=[2+0.1e-13;1.0000];\n",
    "GaussNaive(Ab,yb)\n",
    "Ab\\yb"
   ]
  },
  {
   "cell_type": "code",
   "execution_count": 34,
   "metadata": {
    "collapsed": false
   },
   "outputs": [
    {
     "name": "stdout",
     "output_type": "stream",
     "text": [
      "x =\n",
      "\n",
      "   0.333333333333333\n",
      "   0.666666666666667\n",
      "\n",
      "Aug =\n",
      "\n",
      "   1.000000000000000   1.000000000000000   1.000000000000000\n",
      "   0.000000000000000   2.999999999999970   1.999999999999980\n",
      "\n",
      "npivots =  1\n",
      "ans =\n",
      "\n",
      "   0.333333333333333\n",
      "   0.666666666666667\n",
      "\n"
     ]
    }
   ],
   "source": [
    "[x,Aug,npivots]=GaussPivot(Ab,yb)\n",
    "Ab\\yb\n",
    "format short"
   ]
  },
  {
   "cell_type": "code",
   "execution_count": 36,
   "metadata": {
    "collapsed": false
   },
   "outputs": [
    {
     "name": "stdout",
     "output_type": "stream",
     "text": [
      "ans = -3.0000\n",
      "ans =  3.0000\n"
     ]
    }
   ],
   "source": [
    "% determinant is (-1)^(number_of_pivots)*diagonal_elements\n",
    "det(Ab)\n",
    "Aug(1,1)*Aug(2,2)"
   ]
  },
  {
   "cell_type": "markdown",
   "metadata": {},
   "source": [
    "### Spring-Mass System again\n",
    "Now, 4 masses are connected in series to 4 springs with $K_{1}$=10 N/m, $K_{2}$=5 N/m, \n",
    "$K_{3}$=2 N/m \n",
    "and $K_{4}$=1 N/m. What are the final positions of the masses? \n",
    "\n",
    "![Springs-masses](../lecture_09/mass_springs.svg)\n",
    "\n",
    "The masses have the following amounts, 1, 2, 3, and 4 kg for masses 1-4. Using a FBD for each mass:\n",
    "\n",
    "$m_{1}g+k_{2}(x_{2}-x_{1})-k_{1}x_{1}=0$\n",
    "\n",
    "$m_{2}g+k_{3}(x_{3}-x_{2})-k_{2}(x_{2}-x_{1})=0$\n",
    "\n",
    "$m_{3}g+k_{4}(x_{4}-x_{3})-k_{3}(x_{3}-x_{2})=0$\n",
    "\n",
    "$m_{4}g-k_{4}(x_{4}-x_{3})=0$\n",
    "\n",
    "in matrix form:\n",
    "\n",
    "$\\left[ \\begin{array}{cccc}\n",
    "k_1+k_2 & -k_2 & 0 & 0 \\\\\n",
    "-k_2 & k_2+k_3 & -k_3 & 0 \\\\\n",
    "0 & -k_3 & k_3+k_4 & -k_4 \\\\\n",
    "0 & 0 & -k_4 & k_4 \\end{array} \\right]\n",
    "\\left[ \\begin{array}{c}\n",
    "x_{1} \\\\\n",
    "x_{2} \\\\\n",
    "x_{3} \\\\\n",
    "x_{4} \\end{array} \\right]=\n",
    "\\left[ \\begin{array}{c}\n",
    "m_{1}g \\\\\n",
    "m_{2}g \\\\\n",
    "m_{3}g \\\\\n",
    "m_{4}g \\end{array} \\right]$"
   ]
  },
  {
   "cell_type": "code",
   "execution_count": 24,
   "metadata": {
    "collapsed": false
   },
   "outputs": [
    {
     "name": "stdout",
     "output_type": "stream",
     "text": [
      "K =\n",
      "\n",
      "   15   -5    0    0\n",
      "   -5    7   -2    0\n",
      "    0   -2    3   -1\n",
      "    0    0   -1    1\n",
      "\n",
      "y =\n",
      "\n",
      "    9.8100\n",
      "   19.6200\n",
      "   29.4300\n",
      "   39.2400\n",
      "\n"
     ]
    }
   ],
   "source": [
    "k1=10; k2=5;k3=2;k4=1; % N/m\n",
    "m1=1; % kg\n",
    "m2=2;\n",
    "m3=3;\n",
    "m4=4;\n",
    "g=9.81; % m/s^2\n",
    "K=[k1+k2 -k2 0 0; -k2, k2+k3, -k3 0; 0 -k3, k3+k4, -k4; 0 0 -k4 k4]\n",
    "y=[m1*g;m2*g;m3*g;m4*g]"
   ]
  },
  {
   "cell_type": "markdown",
   "metadata": {},
   "source": [
    "## Tridiagonal matrix\n",
    "\n",
    "This matrix, K, could be rewritten as 3 vectors e, f and g\n",
    "\n",
    "$e=\\left[ \\begin{array}{c}\n",
    "0 \\\\\n",
    "-5 \\\\\n",
    "-2 \\\\\n",
    "-1 \\end{array} \\right]$\n",
    "\n",
    "$f=\\left[ \\begin{array}{c}\n",
    "15 \\\\\n",
    "7 \\\\\n",
    "3 \\\\\n",
    "1 \\end{array} \\right]$\n",
    "\n",
    "$g=\\left[ \\begin{array}{c}\n",
    "-5 \\\\\n",
    "-2 \\\\\n",
    "-1 \\\\\n",
    "0 \\end{array} \\right]$\n",
    "\n",
    "Where all other components are 0 and the length of the vectors are n and the first component of e and the last component of g are zero\n",
    "\n",
    "`e(1)=0` \n",
    "\n",
    "`g(end)=0`\n",
    "\n",
    "No need to pivot and number of calculations reduced enormously.\n",
    "\n",
    "|method |Number of Floating point operations for n$\\times$n-matrix|\n",
    "|----------------|---------|\n",
    "| Gauss | n-cubed |\n",
    "| Tridiagonal | n |"
   ]
  },
  {
   "cell_type": "code",
   "execution_count": 25,
   "metadata": {
    "collapsed": false
   },
   "outputs": [
    {
     "name": "stdout",
     "output_type": "stream",
     "text": [
      "ans =\n",
      "\n",
      "     9.8100    27.4680    61.8030   101.0430\n",
      "\n",
      "ans =\n",
      "\n",
      "     9.8100\n",
      "    27.4680\n",
      "    61.8030\n",
      "   101.0430\n",
      "\n"
     ]
    }
   ],
   "source": [
    "e=[0;-5;-2;-1];\n",
    "g=[-5;-2;-1;0];\n",
    "f=[15;7;3;1];\n",
    "Tridiag(e,f,g,y)\n",
    "K\\y\n"
   ]
  },
  {
   "cell_type": "code",
   "execution_count": 26,
   "metadata": {
    "collapsed": true
   },
   "outputs": [],
   "source": [
    "% tic ... t=toc \n",
    "% is Matlab timer used for debugging programs\n",
    "t_GE = zeros(1,100);\n",
    "t_GE_tridiag = zeros(1,100);\n",
    "t_TD = zeros(1,100);\n",
    "%for n = 1:200\n",
    "for n=1:100\n",
    "    A = rand(n,n);\n",
    "    e = rand(n,1); e(1)=0;\n",
    "    f = rand(n,1);\n",
    "    g = rand(n,1); g(end)=0;\n",
    "    Atd=diag(f, 0) - diag(e(2:n), -1) - diag(g(1:n-1), 1);\n",
    "    b = rand(n,1);\n",
    "    tic;\n",
    "    x = GaussPivot(A,b);\n",
    "    t_GE(n) = toc;\n",
    "    tic;\n",
    "    x = A\\b;\n",
    "    t_GE_tridiag(n) = toc;\n",
    "    tic;\n",
    "    x = Tridiag(e,f,g,b);\n",
    "    t_TD(n) = toc;\n",
    "end"
   ]
  },
  {
   "cell_type": "code",
   "execution_count": 28,
   "metadata": {
    "collapsed": false
   },
   "outputs": [
    {
     "data": {
      "image/svg+xml": [
       "<svg height=\"420px\" viewBox=\"0 0 560 420\" width=\"560px\" xmlns=\"http://www.w3.org/2000/svg\" xmlns:xlink=\"http://www.w3.org/1999/xlink\">\n",
       "\n",
       "<title>Gnuplot</title>\n",
       "<desc>Produced by GNUPLOT 5.0 patchlevel 3 </desc>\n",
       "\n",
       "<g id=\"gnuplot_canvas\">\n",
       "\n",
       "<rect fill=\"none\" height=\"420\" width=\"560\" x=\"0\" y=\"0\"/>\n",
       "<defs>\n",
       "\n",
       "\t<circle id=\"gpDot\" r=\"0.5\" stroke-width=\"0.5\"/>\n",
       "\t<path d=\"M-1,0 h2 M0,-1 v2\" id=\"gpPt0\" stroke=\"currentColor\" stroke-width=\"0.222\"/>\n",
       "\t<path d=\"M-1,-1 L1,1 M1,-1 L-1,1\" id=\"gpPt1\" stroke=\"currentColor\" stroke-width=\"0.222\"/>\n",
       "\t<path d=\"M-1,0 L1,0 M0,-1 L0,1 M-1,-1 L1,1 M-1,1 L1,-1\" id=\"gpPt2\" stroke=\"currentColor\" stroke-width=\"0.222\"/>\n",
       "\t<rect height=\"2\" id=\"gpPt3\" stroke=\"currentColor\" stroke-width=\"0.222\" width=\"2\" x=\"-1\" y=\"-1\"/>\n",
       "\t<rect fill=\"currentColor\" height=\"2\" id=\"gpPt4\" stroke=\"currentColor\" stroke-width=\"0.222\" width=\"2\" x=\"-1\" y=\"-1\"/>\n",
       "\t<circle cx=\"0\" cy=\"0\" id=\"gpPt5\" r=\"1\" stroke=\"currentColor\" stroke-width=\"0.222\"/>\n",
       "\t<use fill=\"currentColor\" id=\"gpPt6\" stroke=\"none\" xlink:href=\"#gpPt5\"/>\n",
       "\t<path d=\"M0,-1.33 L-1.33,0.67 L1.33,0.67 z\" id=\"gpPt7\" stroke=\"currentColor\" stroke-width=\"0.222\"/>\n",
       "\t<use fill=\"currentColor\" id=\"gpPt8\" stroke=\"none\" xlink:href=\"#gpPt7\"/>\n",
       "\t<use id=\"gpPt9\" stroke=\"currentColor\" transform=\"rotate(180)\" xlink:href=\"#gpPt7\"/>\n",
       "\t<use fill=\"currentColor\" id=\"gpPt10\" stroke=\"none\" xlink:href=\"#gpPt9\"/>\n",
       "\t<use id=\"gpPt11\" stroke=\"currentColor\" transform=\"rotate(45)\" xlink:href=\"#gpPt3\"/>\n",
       "\t<use fill=\"currentColor\" id=\"gpPt12\" stroke=\"none\" xlink:href=\"#gpPt11\"/>\n",
       "\t<path d=\"M0,1.330 L1.265,0.411 L0.782,-1.067 L-0.782,-1.076 L-1.265,0.411 z\" id=\"gpPt13\" stroke=\"currentColor\" stroke-width=\"0.222\"/>\n",
       "\t<use fill=\"currentColor\" id=\"gpPt14\" stroke=\"none\" xlink:href=\"#gpPt13\"/>\n",
       "\t<filter filterUnits=\"objectBoundingBox\" height=\"1\" id=\"textbox\" width=\"1\" x=\"0\" y=\"0\">\n",
       "\t  <feFlood flood-color=\"white\" flood-opacity=\"1\" result=\"bgnd\"/>\n",
       "\t  <feComposite in=\"SourceGraphic\" in2=\"bgnd\" operator=\"atop\"/>\n",
       "\t</filter>\n",
       "\t<filter filterUnits=\"objectBoundingBox\" height=\"1\" id=\"greybox\" width=\"1\" x=\"0\" y=\"0\">\n",
       "\t  <feFlood flood-color=\"lightgrey\" flood-opacity=\"1\" result=\"grey\"/>\n",
       "\t  <feComposite in=\"SourceGraphic\" in2=\"grey\" operator=\"atop\"/>\n",
       "\t</filter>\n",
       "</defs>\n",
       "<g color=\"white\" fill=\"none\" stroke=\"currentColor\" stroke-linecap=\"butt\" stroke-linejoin=\"miter\" stroke-width=\"1.00\">\n",
       "</g>\n",
       "<g color=\"black\" fill=\"none\" stroke=\"currentColor\" stroke-linecap=\"butt\" stroke-linejoin=\"miter\" stroke-width=\"1.00\">\n",
       "\t<g shape-rendering=\"crispEdges\" stroke=\"none\">\n",
       "\t\t<polygon fill=\"rgb(255, 255, 255)\" points=\"63.6,362.4 534.9,362.4 534.9,16.8 63.6,16.8 \"/>\n",
       "\t</g>\n",
       "</g>\n",
       "<g color=\"black\" fill=\"none\" stroke=\"rgb(255, 255, 255)\" stroke-linecap=\"butt\" stroke-linejoin=\"miter\" stroke-width=\"0.50\">\n",
       "</g>\n",
       "<g color=\"black\" fill=\"none\" stroke=\"currentColor\" stroke-linecap=\"butt\" stroke-linejoin=\"miter\" stroke-width=\"0.50\">\n",
       "\t<path d=\"M63.6,362.4 L76.1,362.4 M535.0,362.4 L522.5,362.4  \" stroke=\"black\"/>\t<g fill=\"rgb(0,0,0)\" font-family=\"{}\" font-size=\"16.00\" stroke=\"none\" text-anchor=\"end\" transform=\"translate(55.3,368.4)\">\n",
       "\t\t<text><tspan font-family=\"{}\">10</tspan><tspan dy=\"-8.00px\" font-family=\"{}\" font-size=\"12.8\">-5</tspan><tspan dy=\"8.00\" font-size=\"16.0\"/></text>\n",
       "\t</g>\n",
       "</g>\n",
       "<g color=\"black\" fill=\"none\" stroke=\"currentColor\" stroke-linecap=\"butt\" stroke-linejoin=\"miter\" stroke-width=\"0.50\">\n",
       "\t<path d=\"M63.6,341.6 L69.8,341.6 M535.0,341.6 L528.8,341.6 M63.6,329.4 L69.8,329.4 M535.0,329.4 L528.8,329.4   M63.6,320.8 L69.8,320.8 M535.0,320.8 L528.8,320.8 M63.6,314.1 L69.8,314.1 M535.0,314.1 L528.8,314.1   M63.6,308.6 L69.8,308.6 M535.0,308.6 L528.8,308.6 M63.6,304.0 L69.8,304.0 M535.0,304.0 L528.8,304.0   M63.6,300.0 L69.8,300.0 M535.0,300.0 L528.8,300.0 M63.6,296.4 L69.8,296.4 M535.0,296.4 L528.8,296.4   M63.6,293.3 L76.1,293.3 M535.0,293.3 L522.5,293.3  \" stroke=\"black\"/>\t<g fill=\"rgb(0,0,0)\" font-family=\"{}\" font-size=\"16.00\" stroke=\"none\" text-anchor=\"end\" transform=\"translate(55.3,299.3)\">\n",
       "\t\t<text><tspan font-family=\"{}\">10</tspan><tspan dy=\"-8.00px\" font-family=\"{}\" font-size=\"12.8\">-4</tspan><tspan dy=\"8.00\" font-size=\"16.0\"/></text>\n",
       "\t</g>\n",
       "</g>\n",
       "<g color=\"black\" fill=\"none\" stroke=\"currentColor\" stroke-linecap=\"butt\" stroke-linejoin=\"miter\" stroke-width=\"0.50\">\n",
       "\t<path d=\"M63.6,272.4 L69.8,272.4 M535.0,272.4 L528.8,272.4 M63.6,260.3 L69.8,260.3 M535.0,260.3 L528.8,260.3   M63.6,251.6 L69.8,251.6 M535.0,251.6 L528.8,251.6 M63.6,244.9 L69.8,244.9 M535.0,244.9 L528.8,244.9   M63.6,239.5 L69.8,239.5 M535.0,239.5 L528.8,239.5 M63.6,234.8 L69.8,234.8 M535.0,234.8 L528.8,234.8   M63.6,230.8 L69.8,230.8 M535.0,230.8 L528.8,230.8 M63.6,227.3 L69.8,227.3 M535.0,227.3 L528.8,227.3   M63.6,224.1 L76.1,224.1 M535.0,224.1 L522.5,224.1  \" stroke=\"black\"/>\t<g fill=\"rgb(0,0,0)\" font-family=\"{}\" font-size=\"16.00\" stroke=\"none\" text-anchor=\"end\" transform=\"translate(55.3,230.1)\">\n",
       "\t\t<text><tspan font-family=\"{}\">10</tspan><tspan dy=\"-8.00px\" font-family=\"{}\" font-size=\"12.8\">-3</tspan><tspan dy=\"8.00\" font-size=\"16.0\"/></text>\n",
       "\t</g>\n",
       "</g>\n",
       "<g color=\"black\" fill=\"none\" stroke=\"currentColor\" stroke-linecap=\"butt\" stroke-linejoin=\"miter\" stroke-width=\"0.50\">\n",
       "\t<path d=\"M63.6,203.3 L69.8,203.3 M535.0,203.3 L528.8,203.3 M63.6,191.1 L69.8,191.1 M535.0,191.1 L528.8,191.1   M63.6,182.5 L69.8,182.5 M535.0,182.5 L528.8,182.5 M63.6,175.8 L69.8,175.8 M535.0,175.8 L528.8,175.8   M63.6,170.3 L69.8,170.3 M535.0,170.3 L528.8,170.3 M63.6,165.7 L69.8,165.7 M535.0,165.7 L528.8,165.7   M63.6,161.7 L69.8,161.7 M535.0,161.7 L528.8,161.7 M63.6,158.1 L69.8,158.1 M535.0,158.1 L528.8,158.1   M63.6,155.0 L76.1,155.0 M535.0,155.0 L522.5,155.0  \" stroke=\"black\"/>\t<g fill=\"rgb(0,0,0)\" font-family=\"{}\" font-size=\"16.00\" stroke=\"none\" text-anchor=\"end\" transform=\"translate(55.3,161.0)\">\n",
       "\t\t<text><tspan font-family=\"{}\">10</tspan><tspan dy=\"-8.00px\" font-family=\"{}\" font-size=\"12.8\">-2</tspan><tspan dy=\"8.00\" font-size=\"16.0\"/></text>\n",
       "\t</g>\n",
       "</g>\n",
       "<g color=\"black\" fill=\"none\" stroke=\"currentColor\" stroke-linecap=\"butt\" stroke-linejoin=\"miter\" stroke-width=\"0.50\">\n",
       "\t<path d=\"M63.6,134.2 L69.8,134.2 M535.0,134.2 L528.8,134.2 M63.6,122.0 L69.8,122.0 M535.0,122.0 L528.8,122.0   M63.6,113.4 L69.8,113.4 M535.0,113.4 L528.8,113.4 M63.6,106.7 L69.8,106.7 M535.0,106.7 L528.8,106.7   M63.6,101.2 L69.8,101.2 M535.0,101.2 L528.8,101.2 M63.6,96.5 L69.8,96.5 M535.0,96.5 L528.8,96.5   M63.6,92.5 L69.8,92.5 M535.0,92.5 L528.8,92.5 M63.6,89.0 L69.8,89.0 M535.0,89.0 L528.8,89.0   M63.6,85.8 L76.1,85.8 M535.0,85.8 L522.5,85.8  \" stroke=\"black\"/>\t<g fill=\"rgb(0,0,0)\" font-family=\"{}\" font-size=\"16.00\" stroke=\"none\" text-anchor=\"end\" transform=\"translate(55.3,91.8)\">\n",
       "\t\t<text><tspan font-family=\"{}\">10</tspan><tspan dy=\"-8.00px\" font-family=\"{}\" font-size=\"12.8\">-1</tspan><tspan dy=\"8.00\" font-size=\"16.0\"/></text>\n",
       "\t</g>\n",
       "</g>\n",
       "<g color=\"black\" fill=\"none\" stroke=\"currentColor\" stroke-linecap=\"butt\" stroke-linejoin=\"miter\" stroke-width=\"0.50\">\n",
       "\t<path d=\"M63.6,65.0 L69.8,65.0 M535.0,65.0 L528.8,65.0 M63.6,52.9 L69.8,52.9 M535.0,52.9 L528.8,52.9   M63.6,44.2 L69.8,44.2 M535.0,44.2 L528.8,44.2 M63.6,37.5 L69.8,37.5 M535.0,37.5 L528.8,37.5   M63.6,32.0 L69.8,32.0 M535.0,32.0 L528.8,32.0 M63.6,27.4 L69.8,27.4 M535.0,27.4 L528.8,27.4   M63.6,23.4 L69.8,23.4 M535.0,23.4 L528.8,23.4 M63.6,19.9 L69.8,19.9 M535.0,19.9 L528.8,19.9   M63.6,16.7 L76.1,16.7 M535.0,16.7 L522.5,16.7  \" stroke=\"black\"/>\t<g fill=\"rgb(0,0,0)\" font-family=\"{}\" font-size=\"16.00\" stroke=\"none\" text-anchor=\"end\" transform=\"translate(55.3,22.7)\">\n",
       "\t\t<text><tspan font-family=\"{}\">10</tspan><tspan dy=\"-8.00px\" font-family=\"{}\" font-size=\"12.8\">0</tspan><tspan dy=\"8.00\" font-size=\"16.0\"/></text>\n",
       "\t</g>\n",
       "</g>\n",
       "<g color=\"black\" fill=\"none\" stroke=\"currentColor\" stroke-linecap=\"butt\" stroke-linejoin=\"miter\" stroke-width=\"0.50\">\n",
       "\t<path d=\"M63.6,362.4 L63.6,349.9 M63.6,16.7 L63.6,29.2  \" stroke=\"black\"/>\t<g fill=\"rgb(0,0,0)\" font-family=\"{}\" font-size=\"16.00\" stroke=\"none\" text-anchor=\"middle\" transform=\"translate(63.6,386.4)\">\n",
       "\t\t<text><tspan font-family=\"{}\">10</tspan><tspan dy=\"-8.00px\" font-family=\"{}\" font-size=\"12.8\">0</tspan><tspan dy=\"8.00\" font-size=\"16.0\"/></text>\n",
       "\t</g>\n",
       "</g>\n",
       "<g color=\"black\" fill=\"none\" stroke=\"currentColor\" stroke-linecap=\"butt\" stroke-linejoin=\"miter\" stroke-width=\"0.50\">\n",
       "\t<path d=\"M134.6,362.4 L134.6,356.2 M134.6,16.7 L134.6,22.9 M176.1,362.4 L176.1,356.2 M176.1,16.7 L176.1,22.9   M205.5,362.4 L205.5,356.2 M205.5,16.7 L205.5,22.9 M228.3,362.4 L228.3,356.2 M228.3,16.7 L228.3,22.9   M247.0,362.4 L247.0,356.2 M247.0,16.7 L247.0,22.9 M262.8,362.4 L262.8,356.2 M262.8,16.7 L262.8,22.9   M276.5,362.4 L276.5,356.2 M276.5,16.7 L276.5,22.9 M288.5,362.4 L288.5,356.2 M288.5,16.7 L288.5,22.9   M299.3,362.4 L299.3,349.9 M299.3,16.7 L299.3,29.2  \" stroke=\"black\"/>\t<g fill=\"rgb(0,0,0)\" font-family=\"{}\" font-size=\"16.00\" stroke=\"none\" text-anchor=\"middle\" transform=\"translate(299.3,386.4)\">\n",
       "\t\t<text><tspan font-family=\"{}\">10</tspan><tspan dy=\"-8.00px\" font-family=\"{}\" font-size=\"12.8\">1</tspan><tspan dy=\"8.00\" font-size=\"16.0\"/></text>\n",
       "\t</g>\n",
       "</g>\n",
       "<g color=\"black\" fill=\"none\" stroke=\"currentColor\" stroke-linecap=\"butt\" stroke-linejoin=\"miter\" stroke-width=\"0.50\">\n",
       "\t<path d=\"M370.3,362.4 L370.3,356.2 M370.3,16.7 L370.3,22.9 M411.8,362.4 L411.8,356.2 M411.8,16.7 L411.8,22.9   M441.2,362.4 L441.2,356.2 M441.2,16.7 L441.2,22.9 M464.0,362.4 L464.0,356.2 M464.0,16.7 L464.0,22.9   M482.7,362.4 L482.7,356.2 M482.7,16.7 L482.7,22.9 M498.5,362.4 L498.5,356.2 M498.5,16.7 L498.5,22.9   M512.2,362.4 L512.2,356.2 M512.2,16.7 L512.2,22.9 M524.2,362.4 L524.2,356.2 M524.2,16.7 L524.2,22.9   M535.0,362.4 L535.0,349.9 M535.0,16.7 L535.0,29.2  \" stroke=\"black\"/>\t<g fill=\"rgb(0,0,0)\" font-family=\"{}\" font-size=\"16.00\" stroke=\"none\" text-anchor=\"middle\" transform=\"translate(535.0,386.4)\">\n",
       "\t\t<text><tspan font-family=\"{}\">10</tspan><tspan dy=\"-8.00px\" font-family=\"{}\" font-size=\"12.8\">2</tspan><tspan dy=\"8.00\" font-size=\"16.0\"/></text>\n",
       "\t</g>\n",
       "</g>\n",
       "<g color=\"black\" fill=\"none\" stroke=\"currentColor\" stroke-linecap=\"butt\" stroke-linejoin=\"miter\" stroke-width=\"0.50\">\n",
       "</g>\n",
       "<g color=\"black\" fill=\"none\" stroke=\"currentColor\" stroke-linecap=\"butt\" stroke-linejoin=\"miter\" stroke-width=\"0.50\">\n",
       "\t<path d=\"M63.6,16.7 L63.6,362.4 L535.0,362.4 L535.0,16.7 L63.6,16.7 Z  \" stroke=\"black\"/></g>\n",
       "<g color=\"black\" fill=\"none\" stroke=\"currentColor\" stroke-linecap=\"butt\" stroke-linejoin=\"miter\" stroke-width=\"0.50\">\n",
       "\t<g fill=\"rgb(0,0,0)\" font-family=\"{}\" font-size=\"16.00\" stroke=\"none\" text-anchor=\"middle\" transform=\"translate(19.1,189.6) rotate(-90)\">\n",
       "\t\t<text><tspan font-family=\"{}\">time (s)</tspan></text>\n",
       "\t</g>\n",
       "</g>\n",
       "<g color=\"black\" fill=\"none\" stroke=\"currentColor\" stroke-linecap=\"butt\" stroke-linejoin=\"miter\" stroke-width=\"0.50\">\n",
       "\t<g fill=\"rgb(0,0,0)\" font-family=\"{}\" font-size=\"16.00\" stroke=\"none\" text-anchor=\"middle\" transform=\"translate(299.3,413.4)\">\n",
       "\t\t<text><tspan font-family=\"{}\">number of elements</tspan></text>\n",
       "\t</g>\n",
       "</g>\n",
       "<g color=\"black\" fill=\"none\" stroke=\"currentColor\" stroke-linecap=\"butt\" stroke-linejoin=\"miter\" stroke-width=\"0.50\">\n",
       "</g>\n",
       "<g color=\"black\" fill=\"none\" stroke=\"currentColor\" stroke-linecap=\"butt\" stroke-linejoin=\"miter\" stroke-width=\"1.00\">\n",
       "</g>\n",
       "<g color=\"black\" fill=\"none\" stroke=\"currentColor\" stroke-linecap=\"butt\" stroke-linejoin=\"miter\" stroke-width=\"1.00\">\n",
       "\t<path d=\"M338.5,169.7 L338.5,25.7 L526.7,25.7 L526.7,169.7 L338.5,169.7 Z  \" stroke=\"black\"/></g>\n",
       "\t<g id=\"gnuplot_plot_1a\"><title>Gauss elim</title>\n",
       "<g color=\"white\" fill=\"none\" stroke=\"black\" stroke-linecap=\"butt\" stroke-linejoin=\"miter\" stroke-width=\"3.00\">\n",
       "</g>\n",
       "<g color=\"black\" fill=\"none\" stroke=\"currentColor\" stroke-linecap=\"butt\" stroke-linejoin=\"miter\" stroke-width=\"3.00\">\n",
       "\t<g fill=\"rgb(0,0,0)\" font-family=\"{}\" font-size=\"16.00\" stroke=\"none\" text-anchor=\"end\" transform=\"translate(526.7,55.7)\">\n",
       "\t\t<text><tspan font-family=\"{}\">Gauss elim</tspan></text>\n",
       "\t</g>\n",
       "</g>\n",
       "<g color=\"black\" fill=\"none\" stroke=\"currentColor\" stroke-linecap=\"butt\" stroke-linejoin=\"miter\" stroke-width=\"3.00\">\n",
       "\t<path d=\"M349.7,49.7 L403.5,49.7 M63.6,244.9 L134.6,218.9 L176.1,200.5 L205.5,194.1 L228.3,188.5 L247.0,179.7   L262.8,187.8 L276.5,185.1 L288.5,190.9 L299.3,187.8 L309.1,189.0 L318.0,187.7 L326.2,186.5 L333.7,180.1   L340.8,176.5 L347.4,175.6 L353.6,173.1 L359.5,170.3 L365.0,168.4 L370.3,164.0 L375.2,163.3 L380.0,159.1   L384.6,157.2 L388.9,149.8 L393.1,144.2 L397.1,143.9 L401.0,141.9 L404.7,139.7 L408.3,140.8 L411.8,135.0   L415.1,131.6 L418.4,130.7 L421.5,129.9 L424.6,129.2 L427.5,127.8 L430.4,126.1 L433.2,124.6 L436.0,123.0   L438.6,121.5 L441.2,120.0 L443.7,118.6 L446.2,117.3 L448.6,115.9 L451.0,114.6 L453.3,113.2 L455.5,111.9   L457.7,110.6 L459.9,109.3 L462.0,108.1 L464.0,107.0 L466.1,105.8 L468.1,104.7 L470.0,103.7 L471.9,102.6   L473.8,99.4 L475.6,94.0 L477.5,93.2 L479.2,92.1 L481.0,89.6 L482.7,93.0 L484.4,95.1 L486.1,94.3   L487.7,93.2 L489.3,92.5 L490.9,89.9 L492.5,90.6 L494.0,89.7 L495.5,89.0 L497.0,88.3 L498.5,86.9   L499.9,87.1 L501.4,86.4 L502.8,85.7 L504.2,85.2 L505.6,84.4 L506.9,83.9 L508.2,83.3 L509.6,82.6   L510.9,82.3 L512.2,81.6 L513.4,81.0 L514.7,80.6 L515.9,79.7 L517.2,79.2 L518.4,79.1 L519.6,78.0   L520.7,78.0 L521.9,76.9 L523.1,76.5 L524.2,75.8 L525.3,75.3 L526.5,75.1 L527.6,74.3 L528.7,73.7   L529.7,73.3 L530.8,72.7 L531.9,72.2 L532.9,70.9 L534.0,71.2 L535.0,70.7  \" stroke=\"rgb(  0,   0, 255)\"/></g>\n",
       "\t</g>\n",
       "\t<g id=\"gnuplot_plot_2a\"><title>Matlab \\</title>\n",
       "<g color=\"black\" fill=\"none\" stroke=\"currentColor\" stroke-linecap=\"butt\" stroke-linejoin=\"miter\" stroke-width=\"3.00\">\n",
       "\t<g fill=\"rgb(0,0,0)\" font-family=\"{}\" font-size=\"16.00\" stroke=\"none\" text-anchor=\"end\" transform=\"translate(526.7,103.7)\">\n",
       "\t\t<text><tspan font-family=\"{}\">Matlab </tspan></text>\n",
       "\t</g>\n",
       "</g>\n",
       "<g color=\"black\" fill=\"none\" stroke=\"currentColor\" stroke-linecap=\"butt\" stroke-linejoin=\"miter\" stroke-width=\"3.00\">\n",
       "\t<path d=\"M349.7,97.7 L403.5,97.7 M63.6,259.7 L134.6,242.2 L176.1,215.9 L205.5,223.2 L228.3,222.2 L247.0,222.1   L262.8,228.2 L276.5,234.0 L288.5,239.8 L299.3,240.6 L309.1,235.4 L318.0,240.7 L326.2,240.5 L333.7,236.7   L340.8,234.7 L347.4,235.3 L353.6,233.8 L359.5,233.4 L365.0,229.8 L370.3,230.3 L375.2,227.4 L380.0,227.9   L384.6,224.6 L388.9,217.8 L393.1,216.3 L397.1,215.7 L401.0,214.0 L404.7,213.7 L408.3,219.8 L411.8,207.5   L415.1,209.8 L418.4,208.8 L421.5,208.7 L424.6,208.0 L427.5,207.6 L430.4,206.7 L433.2,205.7 L436.0,205.2   L438.6,204.3 L441.2,203.6 L443.7,203.1 L446.2,202.2 L448.6,201.5 L451.0,200.9 L453.3,200.0 L455.5,199.3   L457.7,198.6 L459.9,197.9 L462.0,197.5 L464.0,197.0 L466.1,196.4 L468.1,195.7 L470.0,195.2 L471.9,194.6   L473.8,192.4 L475.6,193.1 L477.5,192.3 L479.2,192.0 L481.0,174.1 L482.7,190.5 L484.4,190.8 L486.1,190.2   L487.7,189.7 L489.3,189.3 L490.9,189.0 L492.5,188.7 L494.0,187.8 L495.5,187.9 L497.0,187.2 L498.5,187.0   L499.9,186.5 L501.4,186.1 L502.8,185.7 L504.2,185.3 L505.6,184.7 L506.9,184.7 L508.2,184.2 L509.6,183.5   L510.9,183.1 L512.2,183.1 L513.4,182.7 L514.7,182.2 L515.9,181.7 L517.2,181.8 L518.4,181.0 L519.6,180.7   L520.7,180.5 L521.9,180.0 L523.1,180.0 L524.2,179.4 L525.3,179.2 L526.5,179.0 L527.6,178.6 L528.7,178.1   L529.7,178.0 L530.8,177.6 L531.9,182.4 L532.9,177.0 L534.0,176.4 L535.0,182.3  \" stroke=\"rgb(  0, 128,   0)\"/></g>\n",
       "\t</g>\n",
       "\t<g id=\"gnuplot_plot_3a\"><title>TriDiag</title>\n",
       "<g color=\"black\" fill=\"none\" stroke=\"currentColor\" stroke-linecap=\"butt\" stroke-linejoin=\"miter\" stroke-width=\"3.00\">\n",
       "\t<g fill=\"rgb(0,0,0)\" font-family=\"{}\" font-size=\"16.00\" stroke=\"none\" text-anchor=\"end\" transform=\"translate(526.7,151.7)\">\n",
       "\t\t<text><tspan font-family=\"{}\">TriDiag</tspan></text>\n",
       "\t</g>\n",
       "</g>\n",
       "<g color=\"black\" fill=\"none\" stroke=\"currentColor\" stroke-linecap=\"butt\" stroke-linejoin=\"miter\" stroke-width=\"3.00\">\n",
       "\t<path d=\"M349.7,145.7 L403.5,145.7 M63.6,339.8 L134.6,290.4 L176.1,288.0 L205.5,286.1 L228.3,304.0 L247.0,308.1   L262.8,320.7 L276.5,317.2 L288.5,333.7 L299.3,328.4 L309.1,332.6 L318.0,320.0 L326.2,334.8 L333.7,309.0   L340.8,317.2 L347.4,331.6 L353.6,316.0 L359.5,245.2 L365.0,251.3 L370.3,313.5 L375.2,310.1 L380.0,307.6   L384.6,174.9 L388.9,301.9 L393.1,245.9 L397.1,291.6 L401.0,184.6 L404.7,300.6 L408.3,307.6 L411.8,298.5   L415.1,296.1 L418.4,293.2 L421.5,298.4 L424.6,294.5 L427.5,302.7 L430.4,254.5 L433.2,300.3 L436.0,303.1   L438.6,302.3 L441.2,302.7 L443.7,299.2 L446.2,300.6 L448.6,299.7 L451.0,297.4 L453.3,295.8 L455.5,295.1   L457.7,290.6 L459.9,290.9 L462.0,292.9 L464.0,291.2 L466.1,293.9 L468.1,296.1 L470.0,293.9 L471.9,293.9   L473.8,283.2 L475.6,288.8 L477.5,288.0 L479.2,288.0 L481.0,286.8 L482.7,286.8 L484.4,285.8 L486.1,286.5   L487.7,286.1 L489.3,285.6 L490.9,280.9 L492.5,279.9 L494.0,281.9 L495.5,279.4 L497.0,275.8 L498.5,273.8   L499.9,274.0 L501.4,274.5 L502.8,270.7 L504.2,269.6 L505.6,274.4 L506.9,274.6 L508.2,272.6 L509.6,269.3   L510.9,270.0 L512.2,271.7 L513.4,272.1 L514.7,271.0 L515.9,269.6 L517.2,268.6 L518.4,269.9 L519.6,270.3   L520.7,268.4 L521.9,269.6 L523.1,267.0 L524.2,268.5 L525.3,265.0 L526.5,265.8 L527.6,265.7 L528.7,265.0   L529.7,266.1 L530.8,263.8 L531.9,267.0 L532.9,264.9 L534.0,264.1 L535.0,265.2  \" stroke=\"rgb(255,   0,   0)\"/></g>\n",
       "\t</g>\n",
       "<g color=\"white\" fill=\"none\" stroke=\"rgb(255,   0,   0)\" stroke-linecap=\"butt\" stroke-linejoin=\"miter\" stroke-width=\"2.00\">\n",
       "</g>\n",
       "<g color=\"black\" fill=\"none\" stroke=\"currentColor\" stroke-linecap=\"butt\" stroke-linejoin=\"miter\" stroke-width=\"2.00\">\n",
       "</g>\n",
       "<g color=\"black\" fill=\"none\" stroke=\"black\" stroke-linecap=\"butt\" stroke-linejoin=\"miter\" stroke-width=\"0.50\">\n",
       "</g>\n",
       "<g color=\"black\" fill=\"none\" stroke=\"currentColor\" stroke-linecap=\"butt\" stroke-linejoin=\"miter\" stroke-width=\"0.50\">\n",
       "</g>\n",
       "</g>\n",
       "</svg>"
      ],
      "text/plain": [
       "<IPython.core.display.SVG object>"
      ]
     },
     "metadata": {},
     "output_type": "display_data"
    }
   ],
   "source": [
    "n=1:100;\n",
    "loglog(n,t_GE,n,t_TD,n,t_GE_tridiag)\n",
    "legend('Gauss elim','Matlab \\','TriDiag')\n",
    "xlabel('number of elements')\n",
    "ylabel('time (s)')"
   ]
  },
  {
   "cell_type": "code",
   "execution_count": 29,
   "metadata": {
    "collapsed": false
   },
   "outputs": [
    {
     "name": "stdout",
     "output_type": "stream",
     "text": [
      "x =\n",
      "\n",
      "     9.8100\n",
      "    27.4680\n",
      "    61.8030\n",
      "   101.0430\n",
      "\n",
      "Aug =\n",
      "\n",
      "   15.00000   -5.00000    0.00000    0.00000    9.81000\n",
      "    0.00000    5.33333   -2.00000    0.00000   22.89000\n",
      "    0.00000    0.00000    2.25000   -1.00000   38.01375\n",
      "    0.00000    0.00000    0.00000    0.55556   56.13500\n",
      "\n",
      "npivots = 0\n"
     ]
    }
   ],
   "source": [
    "[x,Aug,npivots]=GaussPivot(K,y)"
   ]
  },
  {
   "cell_type": "code",
   "execution_count": 30,
   "metadata": {
    "collapsed": false
   },
   "outputs": [
    {
     "name": "stdout",
     "output_type": "stream",
     "text": [
      "A =\n",
      "\n",
      "   15.00000   -5.00000    0.00000    0.00000\n",
      "    0.00000    5.33333   -2.00000    0.00000\n",
      "    0.00000    0.00000    2.25000   -1.00000\n",
      "    0.00000    0.00000    0.00000    0.55556\n",
      "\n"
     ]
    }
   ],
   "source": [
    "A=Aug(1:4,1:4)"
   ]
  },
  {
   "cell_type": "code",
   "execution_count": 31,
   "metadata": {
    "collapsed": false
   },
   "outputs": [
    {
     "name": "stdout",
     "output_type": "stream",
     "text": [
      "ans =  100.00\n",
      "detA =  100.00\n"
     ]
    }
   ],
   "source": [
    "det(A)\n",
    "detA=A(1,1)*A(2,2)*A(3,3)*A(4,4)"
   ]
  },
  {
   "cell_type": "code",
   "execution_count": null,
   "metadata": {
    "collapsed": true
   },
   "outputs": [],
   "source": []
  }
 ],
 "metadata": {
  "kernelspec": {
   "display_name": "Octave",
   "language": "octave",
   "name": "octave"
  },
  "language_info": {
   "file_extension": ".m",
   "help_links": [
    {
     "text": "MetaKernel Magics",
     "url": "https://github.com/calysto/metakernel/blob/master/metakernel/magics/README.md"
    }
   ],
   "mimetype": "text/x-octave",
   "name": "octave",
   "version": "0.19.14"
  }
 },
 "nbformat": 4,
 "nbformat_minor": 2
}
