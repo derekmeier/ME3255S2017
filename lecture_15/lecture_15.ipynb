{
 "cells": [
  {
   "cell_type": "code",
   "execution_count": 1,
   "metadata": {
    "collapsed": true
   },
   "outputs": [],
   "source": [
    "%plot --format svg"
   ]
  },
  {
   "cell_type": "code",
   "execution_count": 2,
   "metadata": {
    "collapsed": true
   },
   "outputs": [],
   "source": [
    "setdefaults"
   ]
  },
  {
   "cell_type": "markdown",
   "metadata": {},
   "source": [
    "## UConn Hackathon Mar 24-25\n",
    "\n",
    "[https://www.hackuconn.org/](https://www.hackuconn.org/)"
   ]
  },
  {
   "cell_type": "markdown",
   "metadata": {},
   "source": [
    "# Final Project\n",
    "\n",
    "1. Will be a team project (select team of 2-3 students)\n",
    "\n",
    "2. You will create a repository and each of you will contribute code and documentation\n",
    "\n",
    "3. If you have an idea feel free to suggest it, otherwise I will come up with a project, possible topics include:\n",
    "\n",
    "    a. Conduction of heat through simple geometry\n",
    "    \n",
    "    b. Plate or beam mechanics (1-D and 2-D geometries)\n",
    "    \n",
    "    c. \n"
   ]
  },
  {
   "cell_type": "markdown",
   "metadata": {},
   "source": [
    "# Eigenvalues\n",
    "\n",
    "Eigenvalues and eigen vectors are the solution to the set of equations where\n",
    "\n",
    "$Ax=\\lambda x$\n",
    "\n",
    "or \n",
    "\n",
    "$A-I \\lambda=0$\n",
    "\n",
    "Where A is the description of the system and I is the identity matrix with the same dimensions as A and $\\lambda$ is an eigenvalue of A. \n",
    "\n",
    "These problems are seen in a number of engineering practices:\n",
    "\n",
    "1. Determining vibrational modes in structural devices\n",
    "\n",
    "2. Material science - vibrational modes of crystal lattices (phonons)\n",
    "\n",
    "3. [Google searches - http://www.rose-hulman.edu/~bryan/googleFinalVersionFixed.pdf](http://www.rose-hulman.edu/~bryan/googleFinalVersionFixed.pdf)\n",
    "\n",
    "4. Quantum mechanics - many solutions are eigenvalue problems\n",
    "\n",
    "5. Solid mechanics, principle stresses and principle stress directions are eigenvalues and eigenvectors\n",
    "\n",
    "One way of determining the eigenvalues is taking the determinant:\n",
    "\n",
    "$|A-\\lambda I|=0$\n",
    "\n",
    "This will result in an $n^{th}$-order polynomial where A is $n \\times n$."
   ]
  },
  {
   "cell_type": "markdown",
   "metadata": {},
   "source": [
    "Take, A\n",
    "\n",
    "$A=\\left[\\begin{array}{ccc}\n",
    "2 & 1 & 0 \\\\\n",
    "1 & 3 & 1 \\\\\n",
    "0 & 1 & 4 \\end{array}\\right]$\n",
    "\n",
    "$|A-\\lambda I| = \\left|\\begin{array}{ccc}\n",
    "2-\\lambda & 1 & 0 \\\\\n",
    "1 & 3-\\lambda & 1 \\\\\n",
    "0 & 1 & 4-\\lambda \\end{array}\\right|=0$"
   ]
  },
  {
   "cell_type": "markdown",
   "metadata": {},
   "source": [
    "$(2-\\lambda)(3-\\lambda)(4-\\lambda)-(4-\\lambda)-(2-\\lambda)=0$\n",
    "\n",
    "$-\\lambda^{3}+9\\lambda^{2}-24\\lambda+18 =0$\n",
    "\n",
    "$\\lambda = 3,~\\sqrt{3}+3,-\\sqrt{3}+3$\n",
    "\n",
    "in Matlab/Octave:\n",
    "\n",
    "```matlab\n",
    "A=[2,1,0;1,3,1;0,1,4];\n",
    "pA=poly(A);\n",
    "lambda = roots(pA)\n",
    "```\n",
    "\n"
   ]
  },
  {
   "cell_type": "code",
   "execution_count": 3,
   "metadata": {
    "collapsed": false
   },
   "outputs": [
    {
     "name": "stdout",
     "output_type": "stream",
     "text": [
      "lambda =\n",
      "\n",
      "   4.7321\n",
      "   3.0000\n",
      "   1.2679\n",
      "\n"
     ]
    }
   ],
   "source": [
    "A=[2,1,0;1,3,1;0,1,4];\n",
    "pA=poly(A); % characteristic polynomial of A, e.g. l^3-9*l^2+24*l-18=0\n",
    "lambda = roots(pA)"
   ]
  },
  {
   "cell_type": "markdown",
   "metadata": {},
   "source": [
    "## Applications of Eigenvalue analysis\n",
    "\n",
    "Consider the 2-mass, 3-spring system shown below\n",
    "\n",
    "![masses and springs in series](springs_masses.png)\n",
    "\n",
    "It might not be immediately obvious, but there are two resonant frequencies for these masses connected in series. \n",
    "\n",
    "Take the two FBD solutions:\n",
    "\n",
    "$m_{1}\\frac{d^{2}x_{1}}{dt^{2}}=-kx_{1}+k(x_{2}-x_{1})$\n",
    "\n",
    "$m_{2}\\frac{d^{2}x_{2}}{dt^{2}}=-k(x_{2}-x_{1})-kx_{2}$\n",
    "\n",
    "we know that $x_{i}(t)\\propto sin(\\omega t)$ so we can substitute\n",
    "\n",
    "$x_{i}=X_{i}sin(\\omega t)$\n",
    "\n",
    "$-m_{1}X_{1}\\omega^{2}sin(\\omega t) = -kX_{1}sin(\\omega t) +k(X_{2}-X_{1})sin(\\omega t)$\n",
    "\n",
    "$-m_{2}X_{2}\\omega^{2}sin(\\omega t) = -kX_{2}sin(\\omega t) - k(X_{2}-X_{1})sin(\\omega t)$\n",
    "\n",
    "where $X_{1}$ and $X_{2}$ are the amplitude of oscillations and $\\omega$ is the frequency of oscillations. "
   ]
  },
  {
   "cell_type": "markdown",
   "metadata": {},
   "source": [
    "now, \n",
    "\n",
    "$\\left(\\frac{2k}{m_{1}}-\\omega^{2}\\right)X_{1}-\\frac{k}{m_{1}}X_{2} = 0$\n",
    "\n",
    "\n",
    "$-\\frac{k}{m_{2}}X_{1}+\\left(\\frac{2k}{m_{2}}-\\omega^{2}\\right)X_{2} = 0$\n",
    "\n",
    "or\n",
    "\n",
    "$|K-\\lambda I| = \\left|\\begin{array}{cc}\n",
    "\\left(\\frac{2k}{m_{1}}-\\omega^{2}\\right) & -\\frac{k}{m_{1}} \\\\\n",
    "-\\frac{k}{m_{2}} & \\left(\\frac{2k}{m_{2}}-\\omega^{2}\\right)\n",
    "\\end{array}\\right|=0$\n",
    "\n",
    "where $\\lambda = \\omega^{2}$\n"
   ]
  },
  {
   "cell_type": "code",
   "execution_count": 4,
   "metadata": {
    "collapsed": false
   },
   "outputs": [
    {
     "name": "stdout",
     "output_type": "stream",
     "text": [
      "'eig' is a built-in function from the file libinterp/corefcn/eig.cc\n",
      "\n",
      " -- Built-in Function: LAMBDA = eig (A)\n",
      " -- Built-in Function: LAMBDA = eig (A, B)\n",
      " -- Built-in Function: [V, LAMBDA] = eig (A)\n",
      " -- Built-in Function: [V, LAMBDA] = eig (A, B)\n",
      "     Compute the eigenvalues (and optionally the eigenvectors) of a\n",
      "     matrix or a pair of matrices\n",
      "\n",
      "     The algorithm used depends on whether there are one or two input\n",
      "     matrices, if they are real or complex, and if they are symmetric\n",
      "     (Hermitian if complex) or non-symmetric.\n",
      "\n",
      "     The eigenvalues returned by 'eig' are not ordered.\n",
      "\n",
      "     See also: eigs, svd.\n",
      "\n",
      "Additional help for built-in functions and operators is\n",
      "available in the online version of the manual.  Use the command\n",
      "'doc <topic>' to search the manual index.\n",
      "\n",
      "Help and information about Octave is also available on the WWW\n",
      "at http://www.octave.org and via the help@octave.org\n",
      "mailing list.\n"
     ]
    }
   ],
   "source": [
    "help eig"
   ]
  },
  {
   "cell_type": "code",
   "execution_count": 5,
   "metadata": {
    "collapsed": false
   },
   "outputs": [
    {
     "name": "stdout",
     "output_type": "stream",
     "text": [
      "K =\n",
      "\n",
      "   10   -5\n",
      "   -5   10\n",
      "\n",
      "v =\n",
      "\n",
      "  -0.70711  -0.70711\n",
      "  -0.70711   0.70711\n",
      "\n",
      "e =\n",
      "\n",
      "Diagonal Matrix\n",
      "\n",
      "    5    0\n",
      "    0   15\n",
      "\n"
     ]
    }
   ],
   "source": [
    "m=40; % mass in kg\n",
    "k=200; % spring constant in N/m\n",
    "\n",
    "K=[2*k/m,-k/m;-k/m,2*k/m]\n",
    "\n",
    "[v,e]=eig(K)"
   ]
  },
  {
   "cell_type": "code",
   "execution_count": 6,
   "metadata": {
    "collapsed": false
   },
   "outputs": [
    {
     "name": "stdout",
     "output_type": "stream",
     "text": [
      "ans =\n",
      "\n",
      "  -10.607\n",
      "   10.607\n",
      "\n",
      "ans =\n",
      "\n",
      "  -10.607\n",
      "   10.607\n",
      "\n"
     ]
    }
   ],
   "source": [
    "K*v(:,2)\n",
    "e(2,2)*v(:,2)"
   ]
  },
  {
   "cell_type": "markdown",
   "metadata": {},
   "source": [
    "### $m_{1}=m_{2}=$40 kg and $k_{1}=k_{2}=k_{3}=$200 N/m\n",
    "![animation](./eig_200_40.gif)\n",
    "\n",
    "### $m_{1}=$40 kg, $m_{2}=$50 kg, $k_{1}=$200 N/m, and $k_{2}=k_{3}=$100 N/m\n",
    "![animation](./eig_200_100_40_50.gif)"
   ]
  },
  {
   "cell_type": "markdown",
   "metadata": {},
   "source": [
    "## Solid Mechanics\n",
    "\n",
    "Many times you want to know the \"principle\" components of stress or strain. \n",
    "\n",
    "stress and strain are second order tensors:\n",
    "\n",
    "$\\sigma_{ij} =\\frac{F_{i}}{A_{j}}$ (engineering stress)\n",
    "\n",
    "$\\epsilon_{ij}=\\frac{\\Delta l_{i}}{l_{j}}$ (engineering strain)\n",
    "\n",
    "Imagine you can apply a force in two directions normal to each other, could you create a shear stress? \n",
    "\n",
    "![Desired stress state and with unknown applied stresses](stress.svg)\n",
    "\n",
    "Let's try to create the stress state of 10 MPa shear stress with two normal stresses. \n",
    "\n",
    "that means, $\\sigma_{12}=\\sigma_{21}=$10 MPa, and $\\sigma_{11}=\\sigma_{22}=\\sigma_{33}=\\sigma_{23}=\\sigma_{13}=0$ MPa\n",
    "\n",
    "in matrix form:\n",
    "\n",
    "$[\\sigma]=\\left[\\begin{array}{ccc}\n",
    "0 & 10 & 0 \\\\\n",
    "10 & 0 & 0 \\\\\n",
    "0 & 0 & 0 \\end{array} \\right]$ MPa"
   ]
  },
  {
   "cell_type": "code",
   "execution_count": 8,
   "metadata": {
    "collapsed": false
   },
   "outputs": [
    {
     "name": "stdout",
     "output_type": "stream",
     "text": [
      "v =\n",
      "\n",
      "  -0.70711   0.00000   0.70711\n",
      "   0.70711   0.00000   0.70711\n",
      "   0.00000   1.00000   0.00000\n",
      "\n",
      "e =\n",
      "\n",
      "Diagonal Matrix\n",
      "\n",
      "  -10    0    0\n",
      "    0    0    0\n",
      "    0    0   10\n",
      "\n",
      "v1 =\n",
      "\n",
      "   7.07107\n",
      "  -7.07107\n",
      "   0.00000\n",
      "\n",
      "v2 =\n",
      "\n",
      "   7.07107\n",
      "   7.07107\n",
      "   0.00000\n",
      "\n"
     ]
    }
   ],
   "source": [
    "s=[0,10,0;10,0,0;0,0,0];\n",
    "[v,e]=eig(s)\n",
    "v1=s*v(:,1)\n",
    "v2=s*v(:,3)"
   ]
  },
  {
   "cell_type": "code",
   "execution_count": 9,
   "metadata": {
    "collapsed": false
   },
   "outputs": [
    {
     "data": {
      "image/svg+xml": [
       "<svg height=\"420px\" viewBox=\"0 0 560 420\" width=\"560px\" xmlns=\"http://www.w3.org/2000/svg\" xmlns:xlink=\"http://www.w3.org/1999/xlink\">\n",
       "\n",
       "<title>Gnuplot</title>\n",
       "<desc>Produced by GNUPLOT 5.0 patchlevel 3 </desc>\n",
       "\n",
       "<g id=\"gnuplot_canvas\">\n",
       "\n",
       "<rect fill=\"none\" height=\"420\" width=\"560\" x=\"0\" y=\"0\"/>\n",
       "<defs>\n",
       "\n",
       "\t<circle id=\"gpDot\" r=\"0.5\" stroke-width=\"0.5\"/>\n",
       "\t<path d=\"M-1,0 h2 M0,-1 v2\" id=\"gpPt0\" stroke=\"currentColor\" stroke-width=\"0.222\"/>\n",
       "\t<path d=\"M-1,-1 L1,1 M1,-1 L-1,1\" id=\"gpPt1\" stroke=\"currentColor\" stroke-width=\"0.222\"/>\n",
       "\t<path d=\"M-1,0 L1,0 M0,-1 L0,1 M-1,-1 L1,1 M-1,1 L1,-1\" id=\"gpPt2\" stroke=\"currentColor\" stroke-width=\"0.222\"/>\n",
       "\t<rect height=\"2\" id=\"gpPt3\" stroke=\"currentColor\" stroke-width=\"0.222\" width=\"2\" x=\"-1\" y=\"-1\"/>\n",
       "\t<rect fill=\"currentColor\" height=\"2\" id=\"gpPt4\" stroke=\"currentColor\" stroke-width=\"0.222\" width=\"2\" x=\"-1\" y=\"-1\"/>\n",
       "\t<circle cx=\"0\" cy=\"0\" id=\"gpPt5\" r=\"1\" stroke=\"currentColor\" stroke-width=\"0.222\"/>\n",
       "\t<use fill=\"currentColor\" id=\"gpPt6\" stroke=\"none\" xlink:href=\"#gpPt5\"/>\n",
       "\t<path d=\"M0,-1.33 L-1.33,0.67 L1.33,0.67 z\" id=\"gpPt7\" stroke=\"currentColor\" stroke-width=\"0.222\"/>\n",
       "\t<use fill=\"currentColor\" id=\"gpPt8\" stroke=\"none\" xlink:href=\"#gpPt7\"/>\n",
       "\t<use id=\"gpPt9\" stroke=\"currentColor\" transform=\"rotate(180)\" xlink:href=\"#gpPt7\"/>\n",
       "\t<use fill=\"currentColor\" id=\"gpPt10\" stroke=\"none\" xlink:href=\"#gpPt9\"/>\n",
       "\t<use id=\"gpPt11\" stroke=\"currentColor\" transform=\"rotate(45)\" xlink:href=\"#gpPt3\"/>\n",
       "\t<use fill=\"currentColor\" id=\"gpPt12\" stroke=\"none\" xlink:href=\"#gpPt11\"/>\n",
       "\t<path d=\"M0,1.330 L1.265,0.411 L0.782,-1.067 L-0.782,-1.076 L-1.265,0.411 z\" id=\"gpPt13\" stroke=\"currentColor\" stroke-width=\"0.222\"/>\n",
       "\t<use fill=\"currentColor\" id=\"gpPt14\" stroke=\"none\" xlink:href=\"#gpPt13\"/>\n",
       "\t<filter filterUnits=\"objectBoundingBox\" height=\"1\" id=\"textbox\" width=\"1\" x=\"0\" y=\"0\">\n",
       "\t  <feFlood flood-color=\"white\" flood-opacity=\"1\" result=\"bgnd\"/>\n",
       "\t  <feComposite in=\"SourceGraphic\" in2=\"bgnd\" operator=\"atop\"/>\n",
       "\t</filter>\n",
       "\t<filter filterUnits=\"objectBoundingBox\" height=\"1\" id=\"greybox\" width=\"1\" x=\"0\" y=\"0\">\n",
       "\t  <feFlood flood-color=\"lightgrey\" flood-opacity=\"1\" result=\"grey\"/>\n",
       "\t  <feComposite in=\"SourceGraphic\" in2=\"grey\" operator=\"atop\"/>\n",
       "\t</filter>\n",
       "</defs>\n",
       "<g color=\"white\" fill=\"none\" stroke=\"currentColor\" stroke-linecap=\"butt\" stroke-linejoin=\"miter\" stroke-width=\"1.00\">\n",
       "</g>\n",
       "<g color=\"black\" fill=\"none\" stroke=\"currentColor\" stroke-linecap=\"butt\" stroke-linejoin=\"miter\" stroke-width=\"1.00\">\n",
       "\t<g shape-rendering=\"crispEdges\" stroke=\"none\">\n",
       "\t\t<polygon fill=\"rgb(255, 255, 255)\" points=\"45.6,384.0 534.9,384.0 534.9,16.8 45.6,16.8 \"/>\n",
       "\t</g>\n",
       "</g>\n",
       "<g color=\"black\" fill=\"none\" stroke=\"rgb(255, 255, 255)\" stroke-linecap=\"butt\" stroke-linejoin=\"miter\" stroke-width=\"0.50\">\n",
       "</g>\n",
       "<g color=\"black\" fill=\"none\" stroke=\"currentColor\" stroke-linecap=\"butt\" stroke-linejoin=\"miter\" stroke-width=\"0.50\">\n",
       "\t<path d=\"M45.6,384.0 L58.1,384.0 M535.0,384.0 L522.5,384.0  \" stroke=\"black\"/>\t<g fill=\"rgb(0,0,0)\" font-family=\"{}\" font-size=\"16.00\" stroke=\"none\" text-anchor=\"end\" transform=\"translate(37.3,390.0)\">\n",
       "\t\t<text><tspan font-family=\"{}\">-10</tspan></text>\n",
       "\t</g>\n",
       "</g>\n",
       "<g color=\"black\" fill=\"none\" stroke=\"currentColor\" stroke-linecap=\"butt\" stroke-linejoin=\"miter\" stroke-width=\"0.50\">\n",
       "\t<path d=\"M45.6,292.2 L58.1,292.2 M535.0,292.2 L522.5,292.2  \" stroke=\"black\"/>\t<g fill=\"rgb(0,0,0)\" font-family=\"{}\" font-size=\"16.00\" stroke=\"none\" text-anchor=\"end\" transform=\"translate(37.3,298.2)\">\n",
       "\t\t<text><tspan font-family=\"{}\">-5</tspan></text>\n",
       "\t</g>\n",
       "</g>\n",
       "<g color=\"black\" fill=\"none\" stroke=\"currentColor\" stroke-linecap=\"butt\" stroke-linejoin=\"miter\" stroke-width=\"0.50\">\n",
       "\t<path d=\"M45.6,200.3 L58.1,200.3 M535.0,200.3 L522.5,200.3  \" stroke=\"black\"/>\t<g fill=\"rgb(0,0,0)\" font-family=\"{}\" font-size=\"16.00\" stroke=\"none\" text-anchor=\"end\" transform=\"translate(37.3,206.3)\">\n",
       "\t\t<text><tspan font-family=\"{}\">0</tspan></text>\n",
       "\t</g>\n",
       "</g>\n",
       "<g color=\"black\" fill=\"none\" stroke=\"currentColor\" stroke-linecap=\"butt\" stroke-linejoin=\"miter\" stroke-width=\"0.50\">\n",
       "\t<path d=\"M45.6,108.5 L58.1,108.5 M535.0,108.5 L522.5,108.5  \" stroke=\"black\"/>\t<g fill=\"rgb(0,0,0)\" font-family=\"{}\" font-size=\"16.00\" stroke=\"none\" text-anchor=\"end\" transform=\"translate(37.3,114.5)\">\n",
       "\t\t<text><tspan font-family=\"{}\">5</tspan></text>\n",
       "\t</g>\n",
       "</g>\n",
       "<g color=\"black\" fill=\"none\" stroke=\"currentColor\" stroke-linecap=\"butt\" stroke-linejoin=\"miter\" stroke-width=\"0.50\">\n",
       "\t<path d=\"M45.6,16.7 L58.1,16.7 M535.0,16.7 L522.5,16.7  \" stroke=\"black\"/>\t<g fill=\"rgb(0,0,0)\" font-family=\"{}\" font-size=\"16.00\" stroke=\"none\" text-anchor=\"end\" transform=\"translate(37.3,22.7)\">\n",
       "\t\t<text><tspan font-family=\"{}\">10</tspan></text>\n",
       "\t</g>\n",
       "</g>\n",
       "<g color=\"black\" fill=\"none\" stroke=\"currentColor\" stroke-linecap=\"butt\" stroke-linejoin=\"miter\" stroke-width=\"0.50\">\n",
       "\t<path d=\"M45.6,384.0 L45.6,371.5 M45.6,16.7 L45.6,29.2  \" stroke=\"black\"/>\t<g fill=\"rgb(0,0,0)\" font-family=\"{}\" font-size=\"16.00\" stroke=\"none\" text-anchor=\"middle\" transform=\"translate(45.6,408.0)\">\n",
       "\t\t<text><tspan font-family=\"{}\">-10</tspan></text>\n",
       "\t</g>\n",
       "</g>\n",
       "<g color=\"black\" fill=\"none\" stroke=\"currentColor\" stroke-linecap=\"butt\" stroke-linejoin=\"miter\" stroke-width=\"0.50\">\n",
       "\t<path d=\"M168.0,384.0 L168.0,371.5 M168.0,16.7 L168.0,29.2  \" stroke=\"black\"/>\t<g fill=\"rgb(0,0,0)\" font-family=\"{}\" font-size=\"16.00\" stroke=\"none\" text-anchor=\"middle\" transform=\"translate(168.0,408.0)\">\n",
       "\t\t<text><tspan font-family=\"{}\">-5</tspan></text>\n",
       "\t</g>\n",
       "</g>\n",
       "<g color=\"black\" fill=\"none\" stroke=\"currentColor\" stroke-linecap=\"butt\" stroke-linejoin=\"miter\" stroke-width=\"0.50\">\n",
       "\t<path d=\"M290.3,384.0 L290.3,371.5 M290.3,16.7 L290.3,29.2  \" stroke=\"black\"/>\t<g fill=\"rgb(0,0,0)\" font-family=\"{}\" font-size=\"16.00\" stroke=\"none\" text-anchor=\"middle\" transform=\"translate(290.3,408.0)\">\n",
       "\t\t<text><tspan font-family=\"{}\">0</tspan></text>\n",
       "\t</g>\n",
       "</g>\n",
       "<g color=\"black\" fill=\"none\" stroke=\"currentColor\" stroke-linecap=\"butt\" stroke-linejoin=\"miter\" stroke-width=\"0.50\">\n",
       "\t<path d=\"M412.7,384.0 L412.7,371.5 M412.7,16.7 L412.7,29.2  \" stroke=\"black\"/>\t<g fill=\"rgb(0,0,0)\" font-family=\"{}\" font-size=\"16.00\" stroke=\"none\" text-anchor=\"middle\" transform=\"translate(412.7,408.0)\">\n",
       "\t\t<text><tspan font-family=\"{}\">5</tspan></text>\n",
       "\t</g>\n",
       "</g>\n",
       "<g color=\"black\" fill=\"none\" stroke=\"currentColor\" stroke-linecap=\"butt\" stroke-linejoin=\"miter\" stroke-width=\"0.50\">\n",
       "\t<path d=\"M535.0,384.0 L535.0,371.5 M535.0,16.7 L535.0,29.2  \" stroke=\"black\"/>\t<g fill=\"rgb(0,0,0)\" font-family=\"{}\" font-size=\"16.00\" stroke=\"none\" text-anchor=\"middle\" transform=\"translate(535.0,408.0)\">\n",
       "\t\t<text><tspan font-family=\"{}\">10</tspan></text>\n",
       "\t</g>\n",
       "</g>\n",
       "<g color=\"black\" fill=\"none\" stroke=\"currentColor\" stroke-linecap=\"butt\" stroke-linejoin=\"miter\" stroke-width=\"0.50\">\n",
       "</g>\n",
       "<g color=\"black\" fill=\"none\" stroke=\"currentColor\" stroke-linecap=\"butt\" stroke-linejoin=\"miter\" stroke-width=\"0.50\">\n",
       "\t<path d=\"M45.6,16.7 L45.6,384.0 L535.0,384.0 L535.0,16.7 L45.6,16.7 Z  \" stroke=\"black\"/></g>\n",
       "<g color=\"black\" fill=\"none\" stroke=\"currentColor\" stroke-linecap=\"butt\" stroke-linejoin=\"miter\" stroke-width=\"0.50\">\n",
       "</g>\n",
       "\t<g id=\"gnuplot_plot_1a\"><title>gnuplot_plot_1a</title>\n",
       "<g color=\"white\" fill=\"none\" stroke=\"black\" stroke-linecap=\"butt\" stroke-linejoin=\"miter\" stroke-width=\"3.00\">\n",
       "</g>\n",
       "<g color=\"black\" fill=\"none\" stroke=\"currentColor\" stroke-linecap=\"butt\" stroke-linejoin=\"miter\" stroke-width=\"3.00\">\n",
       "\t<path d=\"M290.3,200.3 L446.0,317.2 M290.3,200.3 L446.0,83.5  \" stroke=\"rgb(  0,   0, 255)\"/></g>\n",
       "\t</g>\n",
       "\t<g id=\"gnuplot_plot_2a\"><title>gnuplot_plot_2a</title>\n",
       "<g color=\"black\" fill=\"none\" stroke=\"currentColor\" stroke-linecap=\"butt\" stroke-linejoin=\"miter\" stroke-width=\"3.00\">\n",
       "\t<path d=\"M376.8,291.3 L446.0,317.2 L411.4,265.3 M411.4,135.4 L446.0,83.5 L376.8,109.4  \" stroke=\"rgb(  0,   0, 255)\"/></g>\n",
       "\t</g>\n",
       "<g color=\"white\" fill=\"none\" stroke=\"rgb(  0,   0, 255)\" stroke-linecap=\"butt\" stroke-linejoin=\"miter\" stroke-width=\"2.00\">\n",
       "</g>\n",
       "<g color=\"black\" fill=\"none\" stroke=\"currentColor\" stroke-linecap=\"butt\" stroke-linejoin=\"miter\" stroke-width=\"2.00\">\n",
       "</g>\n",
       "<g color=\"black\" fill=\"none\" stroke=\"black\" stroke-linecap=\"butt\" stroke-linejoin=\"miter\" stroke-width=\"0.50\">\n",
       "</g>\n",
       "<g color=\"black\" fill=\"none\" stroke=\"currentColor\" stroke-linecap=\"butt\" stroke-linejoin=\"miter\" stroke-width=\"0.50\">\n",
       "</g>\n",
       "</g>\n",
       "</svg>"
      ],
      "text/plain": [
       "<IPython.core.display.SVG object>"
      ]
     },
     "metadata": {},
     "output_type": "display_data"
    }
   ],
   "source": [
    "v1=s*v(:,1);\n",
    "v2=s*v(:,3);\n",
    "%quiver([0,0],[0,0],v(1,[1,3]),v(2,[1,3]))\n",
    "quiver([0,0],[0,0],[v1(1),v2(1)],[v1(2),v2(2)])\n",
    "axis([-10,10,-10,10])"
   ]
  },
  {
   "cell_type": "markdown",
   "metadata": {},
   "source": [
    "![solution to principle stresses](stress_soln.svg)"
   ]
  },
  {
   "cell_type": "code",
   "execution_count": 10,
   "metadata": {
    "collapsed": false
   },
   "outputs": [
    {
     "name": "stdout",
     "output_type": "stream",
     "text": [
      "e =\n",
      "\n",
      "  -10\n",
      "    0\n",
      "   10\n",
      "\n"
     ]
    }
   ],
   "source": [
    "e=eig(s)"
   ]
  },
  {
   "cell_type": "code",
   "execution_count": null,
   "metadata": {
    "collapsed": true
   },
   "outputs": [],
   "source": []
  },
  {
   "cell_type": "code",
   "execution_count": null,
   "metadata": {
    "collapsed": true
   },
   "outputs": [],
   "source": []
  }
 ],
 "metadata": {
  "kernelspec": {
   "display_name": "Octave",
   "language": "octave",
   "name": "octave"
  },
  "language_info": {
   "file_extension": ".m",
   "help_links": [
    {
     "text": "MetaKernel Magics",
     "url": "https://github.com/calysto/metakernel/blob/master/metakernel/magics/README.md"
    }
   ],
   "mimetype": "text/x-octave",
   "name": "octave",
   "version": "0.19.14"
  }
 },
 "nbformat": 4,
 "nbformat_minor": 2
}
