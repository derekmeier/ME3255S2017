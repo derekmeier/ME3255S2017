{
 "cells": [
  {
   "cell_type": "markdown",
   "metadata": {},
   "source": [
    "# Curve-Fitting\n",
    "## Linear Regression\n",
    "\n",
    "Often, we have a model with empirical parameters. (e.g. Young's modulus, Poisson's ratio, drag coefficient, coefficient of restitution, spring constant)\n",
    "\n",
    "Experimental measurements are prone to a number of stochastic (random) factors:\n",
    "\n",
    "- Environmental noise\n",
    "  \n",
    "- Measurement Uncertainty\n",
    "    \n",
    "- Factors not accounted in model (e.g. 2D effects of 1D approximation)\n",
    "\n",
    "These can lead to **noise** (lack of precision) and **bias** (lack of accuracy)"
   ]
  },
  {
   "cell_type": "code",
   "execution_count": null,
   "metadata": {
    "collapsed": true
   },
   "outputs": [],
   "source": []
  }
 ],
 "metadata": {
  "kernelspec": {
   "display_name": "Octave",
   "language": "octave",
   "name": "octave"
  },
  "language_info": {
   "file_extension": ".m",
   "help_links": [
    {
     "text": "MetaKernel Magics",
     "url": "https://github.com/calysto/metakernel/blob/master/metakernel/magics/README.md"
    }
   ],
   "mimetype": "text/x-octave",
   "name": "octave",
   "version": "0.19.14"
  }
 },
 "nbformat": 4,
 "nbformat_minor": 2
}
